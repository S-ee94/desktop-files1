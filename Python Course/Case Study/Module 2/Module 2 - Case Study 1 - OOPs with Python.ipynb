{
 "cells": [
  {
   "cell_type": "code",
   "execution_count": null,
   "id": "392e12ea",
   "metadata": {},
   "outputs": [],
   "source": [
    "# 1) Create a class names Employee, with a constructor ‘__init__’ method that accepts name and salary as parameters and set \n",
    "# properties named name and salary.\n",
    "# 2) Define __str__ method in Employee class so that when someone tries to print the object the string Name: employee_name, \n",
    "# Salary: employee_salary is printed with the actual employee name and salary.\n",
    "# 3) Create another class named Calculator, with methods to add, subtract, multiply and divide two numbers.\n",
    "# 4) These methods take two numbers as parameters\n",
    "# 5) These methods will be called by method named execute command.\n",
    "# 6) Execute command takes in 3 parameters command which is string that can be either ‘add’, ‘sub’,‘mul’, ‘div’, and two numbers\n",
    "# and it will call the appropriate method based on command parameter."
   ]
  },
  {
   "cell_type": "code",
   "execution_count": 3,
   "id": "dfdfa68b",
   "metadata": {},
   "outputs": [],
   "source": [
    "class Employee:\n",
    "    def __init__(self,name,salary):\n",
    "        self.name=name\n",
    "        self.salary=salary\n",
    "    def __str__(self):\n",
    "        print('The Employee name is: ',self.name,'The Employee Salary is: ',self.salary)\n",
    "        \n",
    "\n",
    "        "
   ]
  },
  {
   "cell_type": "code",
   "execution_count": 5,
   "id": "1ed0a1c2",
   "metadata": {},
   "outputs": [
    {
     "name": "stdout",
     "output_type": "stream",
     "text": [
      "The Employee name is:  jake The Employee Salary is:  10000000\n"
     ]
    }
   ],
   "source": [
    "obj_emp=Employee('jake',10000000)\n",
    "obj_emp.__str__()"
   ]
  },
  {
   "cell_type": "code",
   "execution_count": 7,
   "id": "83089938",
   "metadata": {},
   "outputs": [],
   "source": [
    "class Calculator:\n",
    "    def add(self,a,b):\n",
    "        return a+b\n",
    "    def sub(self,a,b):\n",
    "        return abs((a-b))\n",
    "    def mul(self,a,b):\n",
    "        return a*b\n",
    "    def div(self,a,b):\n",
    "        return max(a,b)/min(a,b)\n",
    "    def execute_command(self,method,m,n):\n",
    "        if method=='add':\n",
    "            r=self.add(m,n)\n",
    "            print(r)\n",
    "        elif method=='sub':\n",
    "            r=self.sub(m,n)\n",
    "            print(r)\n",
    "        elif method=='mul':\n",
    "            r=self.mul(m,n)\n",
    "            print(r)\n",
    "        elif method=='div':\n",
    "            r=self.div(m,n)\n",
    "            print(r)"
   ]
  },
  {
   "cell_type": "code",
   "execution_count": 11,
   "id": "ba1ff917",
   "metadata": {},
   "outputs": [
    {
     "name": "stdout",
     "output_type": "stream",
     "text": [
      "8\n"
     ]
    }
   ],
   "source": [
    "obj_cal=Calculator()\n",
    "obj_cal.execute_command('add',5,3)"
   ]
  },
  {
   "cell_type": "code",
   "execution_count": 12,
   "id": "d1ce81bd",
   "metadata": {},
   "outputs": [
    {
     "name": "stdout",
     "output_type": "stream",
     "text": [
      "2\n"
     ]
    }
   ],
   "source": [
    "obj_cal.execute_command('sub',5,3)"
   ]
  },
  {
   "cell_type": "code",
   "execution_count": 13,
   "id": "0b8644e1",
   "metadata": {},
   "outputs": [
    {
     "name": "stdout",
     "output_type": "stream",
     "text": [
      "15\n"
     ]
    }
   ],
   "source": [
    "obj_cal.execute_command('mul',5,3)"
   ]
  },
  {
   "cell_type": "code",
   "execution_count": 15,
   "id": "c556c77c",
   "metadata": {},
   "outputs": [
    {
     "name": "stdout",
     "output_type": "stream",
     "text": [
      "2.0\n"
     ]
    }
   ],
   "source": [
    "obj_cal.execute_command('div',10,5)"
   ]
  }
 ],
 "metadata": {
  "kernelspec": {
   "display_name": "Python 3",
   "language": "python",
   "name": "python3"
  },
  "language_info": {
   "codemirror_mode": {
    "name": "ipython",
    "version": 3
   },
   "file_extension": ".py",
   "mimetype": "text/x-python",
   "name": "python",
   "nbconvert_exporter": "python",
   "pygments_lexer": "ipython3",
   "version": "3.8.8"
  }
 },
 "nbformat": 4,
 "nbformat_minor": 5
}

{
 "cells": [
  {
   "cell_type": "code",
   "execution_count": null,
   "id": "b810d23c",
   "metadata": {},
   "outputs": [],
   "source": [
    "# 1) Create a function that takes dimensions as tuples e.g.(3, 3) and a numeric value and returns a\n",
    "#Numpy array of the given dimension filled with the given value e.g.: solve((3, 3), 5) will return \n",
    "# [\n",
    "#  [5, 5, 5],\n",
    "#  [5, 5, 5],\n",
    "#  [5, 5, 5]\n",
    "# ]\n"
   ]
  },
  {
   "cell_type": "code",
   "execution_count": 9,
   "id": "6d83c608",
   "metadata": {},
   "outputs": [
    {
     "data": {
      "text/plain": [
       "array([[5, 5, 5],\n",
       "       [5, 5, 5],\n",
       "       [5, 5, 5]])"
      ]
     },
     "execution_count": 9,
     "metadata": {},
     "output_type": "execute_result"
    }
   ],
   "source": [
    "import numpy as np\n",
    "def compute(a,b,c):# creating the computation function \n",
    "    d = np.full((a,b),c)\n",
    "    return d\n",
    "compute(3,3,5)"
   ]
  },
  {
   "cell_type": "code",
   "execution_count": 4,
   "id": "a64d3de1",
   "metadata": {},
   "outputs": [
    {
     "data": {
      "text/plain": [
       "array([[0., 0., 0.],\n",
       "       [0., 0., 0.],\n",
       "       [0., 0., 0.]])"
      ]
     },
     "execution_count": 4,
     "metadata": {},
     "output_type": "execute_result"
    }
   ],
   "source": [
    "# or another inbuilt function\n",
    "import numpy as np\n",
    "np.zeros([3,3])"
   ]
  },
  {
   "cell_type": "code",
   "execution_count": 5,
   "id": "c4ebcfea",
   "metadata": {},
   "outputs": [
    {
     "data": {
      "text/plain": [
       "array([[0, 0, 0],\n",
       "       [0, 0, 0],\n",
       "       [0, 0, 0]])"
      ]
     },
     "execution_count": 5,
     "metadata": {},
     "output_type": "execute_result"
    }
   ],
   "source": [
    "# or\n",
    "import numpy as np\n",
    "np.zeros([3,3],dtype=int) # to remove float"
   ]
  },
  {
   "cell_type": "code",
   "execution_count": 7,
   "id": "372c478a",
   "metadata": {},
   "outputs": [
    {
     "data": {
      "text/plain": [
       "array([['d', 'd', 'd'],\n",
       "       ['d', 'd', 'd']], dtype='<U1')"
      ]
     },
     "execution_count": 7,
     "metadata": {},
     "output_type": "execute_result"
    }
   ],
   "source": [
    "# or\n",
    "import numpy as np\n",
    "np.full((2,3),'d')"
   ]
  },
  {
   "cell_type": "code",
   "execution_count": null,
   "id": "f34091b2",
   "metadata": {},
   "outputs": [],
   "source": [
    "# 2)  Create a method that takes n Numpy arrays of same dimensions sums them and return the answer."
   ]
  },
  {
   "cell_type": "code",
   "execution_count": 18,
   "id": "a8cf99b9",
   "metadata": {},
   "outputs": [
    {
     "data": {
      "text/plain": [
       "array([[0, 2, 2],\n",
       "       [1, 3, 3],\n",
       "       [2, 4, 4],\n",
       "       [3, 5, 0]])"
      ]
     },
     "execution_count": 18,
     "metadata": {},
     "output_type": "execute_result"
    }
   ],
   "source": [
    "import numpy as np\n",
    "a = np.array([[0,1,2],[1,2,3],[2,3,4],[3,4,0]])\n",
    "b = np.array([[0,1,0]])\n",
    "def array_addition(a,b):\n",
    "    c=np.add(a,b)\n",
    "    return c\n",
    "array_addition(a,b)"
   ]
  },
  {
   "cell_type": "code",
   "execution_count": null,
   "id": "7f74c4a6",
   "metadata": {},
   "outputs": [],
   "source": [
    "# 3) Given a 2 D Array of N X M Dimension, Write a function that accepts this array as well as two\n",
    "#numbers N and M. The method should return the top-left N X M sub matrix e.g:\n",
    "#  [\n",
    "#   [1, 2, 3],\n",
    "#   [4, 5, 6],\n",
    "#   [7, 8, 9],\n",
    "# ]\n",
    "\n",
    "# top_left_sub_matrix (matrix, 2, 2) -> should return:\n",
    "#  [\n",
    "#   [1, 2]\n",
    "#   [4, 5]\n",
    "# ]"
   ]
  },
  {
   "cell_type": "code",
   "execution_count": 19,
   "id": "b03f8253",
   "metadata": {},
   "outputs": [
    {
     "name": "stdout",
     "output_type": "stream",
     "text": [
      "[[1 2 3]\n",
      " [4 5 6]\n",
      " [7 8 9]]\n"
     ]
    },
    {
     "data": {
      "text/plain": [
       "array([[1, 2],\n",
       "       [4, 5]])"
      ]
     },
     "execution_count": 19,
     "metadata": {},
     "output_type": "execute_result"
    }
   ],
   "source": [
    "import numpy as np\n",
    "x = np.array([[1,2,3],[4,5,6],[7,8,9]])\n",
    "print(x)\n",
    "x[:2,:2]"
   ]
  },
  {
   "cell_type": "code",
   "execution_count": 44,
   "id": "ae4a1301",
   "metadata": {},
   "outputs": [
    {
     "name": "stdout",
     "output_type": "stream",
     "text": [
      "[[1 2]\n",
      " [4 5]]\n"
     ]
    }
   ],
   "source": [
    "# or trainer method\n",
    "import numpy as np\n",
    "matrix = np.array([1,2,3,4,5,6,7,8,9]).reshape(3,3) # using reshape function \n",
    "matrix\n",
    "def top_left(matrix,a,b):\n",
    "    print(matrix[:a,:b])\n",
    "top_left(matrix,2,2)    "
   ]
  },
  {
   "cell_type": "code",
   "execution_count": null,
   "id": "498d040a",
   "metadata": {},
   "outputs": [],
   "source": [
    "# 4) Given a 2 D Array of N X M Dimension, Write a function that accepts this array as well as two\n",
    "#numbers N and M The method should return the bottom-right N X M sub matrix e.g.: \n",
    "#  [\n",
    "#   [1, 2, 3],\n",
    "#   [4, 5, 6],\n",
    "#   [7, 8, 9],\n",
    "# ]\n",
    "#sub_matrix(matrix, 1, 1) -> should return : (Keep in mind these arrays are zero indexed)\n",
    " [\n",
    " [5, 6]\n",
    " [8, 9]\n",
    " ]\n"
   ]
  },
  {
   "cell_type": "code",
   "execution_count": 31,
   "id": "bb36ac23",
   "metadata": {},
   "outputs": [
    {
     "name": "stdout",
     "output_type": "stream",
     "text": [
      "[[1 2 3]\n",
      " [4 5 6]\n",
      " [7 8 9]]\n"
     ]
    },
    {
     "data": {
      "text/plain": [
       "array([[5, 6],\n",
       "       [8, 9]])"
      ]
     },
     "execution_count": 31,
     "metadata": {},
     "output_type": "execute_result"
    }
   ],
   "source": [
    "import numpy as np\n",
    "y = np.array([[1,2,3],[4,5,6],[7,8,9]])\n",
    "print(y)\n",
    "y[1:,1:]"
   ]
  },
  {
   "cell_type": "code",
   "execution_count": 48,
   "id": "ea50d82b",
   "metadata": {},
   "outputs": [
    {
     "name": "stdout",
     "output_type": "stream",
     "text": [
      "[[5 6]\n",
      " [8 9]]\n"
     ]
    }
   ],
   "source": [
    "# or trainer method \n",
    "import numpy as np\n",
    "matrix = np.array([1,2,3,4,5,6,7,8,9]).reshape(3,3)\n",
    "matrix\n",
    "def bottom_right(matrix,a,b):\n",
    "    print(matrix[a:,b:])\n",
    "bottom_right(matrix,1,1)"
   ]
  },
  {
   "cell_type": "code",
   "execution_count": null,
   "id": "35f98640",
   "metadata": {},
   "outputs": [],
   "source": [
    "# 5) Given a 1 D Numpy Array. Write a function that accepts this array as parameters. The method should return a dictionary with\n",
    "#'mean' and 'std_dev' as key and array's mean and array's standard deviation as values:\n",
    "# [1, 1, 1]\n",
    "#solution(arr) -> should return :\n",
    " #{'mean': 1.0, 'std_dev': 0.0}\n"
   ]
  },
  {
   "cell_type": "code",
   "execution_count": 36,
   "id": "d37053d6",
   "metadata": {},
   "outputs": [
    {
     "name": "stdout",
     "output_type": "stream",
     "text": [
      "Mean : 1.0 std_dev : 0.0\n"
     ]
    }
   ],
   "source": [
    "import numpy as np\n",
    "arr = np.array([1,1,1])\n",
    "print(\"Mean :\", np.mean(arr), \"std_dev :\", np.std(arr))"
   ]
  },
  {
   "cell_type": "code",
   "execution_count": 57,
   "id": "00d229f1",
   "metadata": {},
   "outputs": [
    {
     "data": {
      "text/plain": [
       "{'Mean': 1.0, 'std_dev': 0.0, 'Median': 1.0}"
      ]
     },
     "execution_count": 57,
     "metadata": {},
     "output_type": "execute_result"
    }
   ],
   "source": [
    "# or trainer method \n",
    "import numpy as np\n",
    "a = np.array([1,1,1])\n",
    "a\n",
    "def stats(a):\n",
    "    m = np.mean(a)\n",
    "    n = np.std(a)\n",
    "    o = np.median(a)\n",
    "    dict = {'Mean': m, 'std_dev': n, 'Median': o}\n",
    "    return dict\n",
    "stats(a)"
   ]
  }
 ],
 "metadata": {
  "kernelspec": {
   "display_name": "Python 3",
   "language": "python",
   "name": "python3"
  },
  "language_info": {
   "codemirror_mode": {
    "name": "ipython",
    "version": 3
   },
   "file_extension": ".py",
   "mimetype": "text/x-python",
   "name": "python",
   "nbconvert_exporter": "python",
   "pygments_lexer": "ipython3",
   "version": "3.8.8"
  }
 },
 "nbformat": 4,
 "nbformat_minor": 5
}

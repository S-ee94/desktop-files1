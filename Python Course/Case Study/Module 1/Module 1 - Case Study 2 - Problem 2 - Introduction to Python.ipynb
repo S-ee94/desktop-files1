{
 "cells": [
  {
   "cell_type": "code",
   "execution_count": 4,
   "id": "d6ebefd8",
   "metadata": {},
   "outputs": [],
   "source": [
    "#1 Create 1st tuple with values -> (10,20,30), 2nd tuple with values -> (40,50,60)\n",
    "\n",
    "tup1 = (10,20,30)\n",
    "tup2 = (40,50,60)"
   ]
  },
  {
   "cell_type": "code",
   "execution_count": 5,
   "id": "5cb5a851",
   "metadata": {},
   "outputs": [
    {
     "data": {
      "text/plain": [
       "(10, 20, 30, 40, 50, 60)"
      ]
     },
     "execution_count": 5,
     "metadata": {},
     "output_type": "execute_result"
    }
   ],
   "source": [
    "#a) Concatenate the two tuples and store it in \"t_combine\"\n",
    "t_combine = tup1 + tup2\n",
    "t_combine"
   ]
  },
  {
   "cell_type": "code",
   "execution_count": 11,
   "id": "219baf9b",
   "metadata": {},
   "outputs": [
    {
     "data": {
      "text/plain": [
       "((10, 20, 30, 40, 50, 60), (10, 20, 30, 40, 50, 60), (10, 20, 30, 40, 50, 60))"
      ]
     },
     "execution_count": 11,
     "metadata": {},
     "output_type": "execute_result"
    }
   ],
   "source": [
    "#b) Repeat the elements of \"t_combine\" 3 times\n",
    "t_combine\n",
    "n=3\n",
    "t_combine_3 = ((t_combine,)* n)\n",
    "t_combine_3"
   ]
  },
  {
   "cell_type": "code",
   "execution_count": 19,
   "id": "c64b2a99",
   "metadata": {},
   "outputs": [
    {
     "data": {
      "text/plain": [
       "30"
      ]
     },
     "execution_count": 19,
     "metadata": {},
     "output_type": "execute_result"
    }
   ],
   "source": [
    "#c) Access the third element from \"t_combine\"\n",
    "t_combine[2]"
   ]
  },
  {
   "cell_type": "code",
   "execution_count": 26,
   "id": "0f351e83",
   "metadata": {},
   "outputs": [
    {
     "data": {
      "text/plain": [
       "(10, 20, 30)"
      ]
     },
     "execution_count": 26,
     "metadata": {},
     "output_type": "execute_result"
    }
   ],
   "source": [
    "#d) Access the first 3 elements from \"t_combine\"\n",
    "t_combine\n",
    "t_combine[0:3]"
   ]
  },
  {
   "cell_type": "code",
   "execution_count": 29,
   "id": "b1a01900",
   "metadata": {},
   "outputs": [
    {
     "data": {
      "text/plain": [
       "(30, 40, 50)"
      ]
     },
     "execution_count": 29,
     "metadata": {},
     "output_type": "execute_result"
    }
   ],
   "source": [
    "#e) Access the lastt 3 elements from \"t_combine\"\n",
    "t_combine\n",
    "t_combine[2:5]"
   ]
  },
  {
   "cell_type": "code",
   "execution_count": 50,
   "id": "188aaf14",
   "metadata": {},
   "outputs": [
    {
     "data": {
      "text/plain": [
       "[(1, 2, 3), ('a', 'b', 'c'), (True, False)]"
      ]
     },
     "execution_count": 50,
     "metadata": {},
     "output_type": "execute_result"
    }
   ],
   "source": [
    "#2 Create a list my_list with these elements:\n",
    "\n",
    "#a) first element is a tuple with values 1,2,3\n",
    "#b) second element is a tuple with values \"a\",\"b\",\"c\"\n",
    "#c) third element is a tuple with values True, False\n",
    "my_list = [(1,2,3), (\"a\",\"b\",\"c\"), (True,False)]\n",
    "my_list"
   ]
  },
  {
   "cell_type": "code",
   "execution_count": 51,
   "id": "de9f9295",
   "metadata": {},
   "outputs": [
    {
     "data": {
      "text/plain": [
       "[(1, 2, 3), ('a', 'b', 'c'), (True, False), (1, 'a', True)]"
      ]
     },
     "execution_count": 51,
     "metadata": {},
     "output_type": "execute_result"
    }
   ],
   "source": [
    "#3 Append a new tuple - (1,'a',True) to 'my_list'\n",
    "my_list.append(tuple((1,'a',True)))\n",
    "my_list\n"
   ]
  },
  {
   "cell_type": "code",
   "execution_count": 55,
   "id": "b587265c",
   "metadata": {},
   "outputs": [
    {
     "data": {
      "text/plain": [
       "[(1, 2, 3), ('a', 'b', 'c'), (True, False), (1, 'a', True), ['sparta', 123]]"
      ]
     },
     "execution_count": 55,
     "metadata": {},
     "output_type": "execute_result"
    }
   ],
   "source": [
    "#a) Append a new list - [\"sparta\",123] to my_list\n",
    "my_list.append(list([\"sparta\",123]))\n",
    "my_list"
   ]
  },
  {
   "cell_type": "code",
   "execution_count": 76,
   "id": "2b95cb59",
   "metadata": {},
   "outputs": [
    {
     "data": {
      "text/plain": [
       "{'Fruit': ['Apple', 'Banana', 'Mango', 'Guava'], 'Cost': (85, 54, 120, 70)}"
      ]
     },
     "execution_count": 76,
     "metadata": {},
     "output_type": "execute_result"
    }
   ],
   "source": [
    "#4 Create a dictionary 'fruit' where:\n",
    "#a) The first key is ‘Fruit’ and the values are (“Apple”,”Banana”,”Mango”,”Guava”)\n",
    "#b) The second key is ‘Cost’ and the values are (85,54,120,70) \n",
    "#c) Extract all the keys from ‘fruit’\n",
    "#d) Extract all the values from ‘fruit’\n",
    "\n",
    "list1 = [\"Apple\",\"Banana\",\"Mango\",\"Guava\"]\n",
    "list1\n",
    "fruit = {'Fruit': (list1) , 'Cost': (85,54,120,70)}\n",
    "fruit"
   ]
  },
  {
   "cell_type": "code",
   "execution_count": 79,
   "id": "fc3ec4be",
   "metadata": {},
   "outputs": [
    {
     "name": "stdout",
     "output_type": "stream",
     "text": [
      "dict_keys(['Fruit', 'Cost'])\n"
     ]
    }
   ],
   "source": [
    "def get_keys(fruit):\n",
    "   return fruit.keys()\n",
    "print(get_keys(fruit))"
   ]
  },
  {
   "cell_type": "code",
   "execution_count": 80,
   "id": "f168eb84",
   "metadata": {},
   "outputs": [
    {
     "name": "stdout",
     "output_type": "stream",
     "text": [
      "dict_values([['Apple', 'Banana', 'Mango', 'Guava'], (85, 54, 120, 70)])\n"
     ]
    }
   ],
   "source": [
    "def get_values(fruit):\n",
    "   return fruit.values()\n",
    "print(get_values(fruit))"
   ]
  },
  {
   "cell_type": "code",
   "execution_count": 83,
   "id": "2a19b7b8",
   "metadata": {},
   "outputs": [
    {
     "name": "stdout",
     "output_type": "stream",
     "text": [
      "(1, 1, 'a', 'a', True, True)\n"
     ]
    }
   ],
   "source": [
    "#5 Create a set named 'my_set' with values (1,1,\"a\",\"a\",True,True) and print the result\n",
    "my_set = (1,1,\"a\",\"a\",True,True)\n",
    "print(my_set)"
   ]
  }
 ],
 "metadata": {
  "kernelspec": {
   "display_name": "Python 3",
   "language": "python",
   "name": "python3"
  },
  "language_info": {
   "codemirror_mode": {
    "name": "ipython",
    "version": 3
   },
   "file_extension": ".py",
   "mimetype": "text/x-python",
   "name": "python",
   "nbconvert_exporter": "python",
   "pygments_lexer": "ipython3",
   "version": "3.8.8"
  }
 },
 "nbformat": 4,
 "nbformat_minor": 5
}

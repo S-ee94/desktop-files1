{
 "cells": [
  {
   "cell_type": "code",
   "execution_count": 10,
   "id": "6e8d0a15",
   "metadata": {},
   "outputs": [
    {
     "name": "stdout",
     "output_type": "stream",
     "text": [
      "[1, 4, 9, 16, 25, 36, 49, 64, 81, 100]\n"
     ]
    }
   ],
   "source": [
    "# Tasks to be performed:\n",
    "\n",
    "#1 Create a list containing squares of numbers from 1 to 10 (HINT: use list comprehension)\n",
    "\n",
    "numbers = [1,2,3,4,5,6,7,8,9,10]\n",
    "\n",
    "squared_numbers = [number ** 2 for number in numbers]\n",
    "\n",
    "print(squared_numbers)"
   ]
  },
  {
   "cell_type": "code",
   "execution_count": 23,
   "id": "7f137f70",
   "metadata": {},
   "outputs": [
    {
     "name": "stdout",
     "output_type": "stream",
     "text": [
      "Enter the year: 2020\n",
      "2020 is a leap year\n"
     ]
    }
   ],
   "source": [
    "#2 Write a function to check if year number is a leap year \n",
    "\n",
    "year = int(input(\"Enter the year: \"))\n",
    "if year % 4 == 0:\n",
    "    if year % 100 == 0:\n",
    "        if year % 400 == 0:\n",
    "            print(\"{0} is a leap year\".format(year))\n",
    "        else: \n",
    "            print(\"{0} is not a leap year\".format(year))\n",
    "    else:\n",
    "            print(\"{0} is a leap year\".format(year))\n",
    "else:\n",
    "    print(\"{0} is not a leap year\".format(year))\n",
    "                  "
   ]
  },
  {
   "cell_type": "code",
   "execution_count": 11,
   "id": "4f5ff4c0",
   "metadata": {},
   "outputs": [
    {
     "name": "stdout",
     "output_type": "stream",
     "text": [
      "[2, 4, 6, 8, 10]\n"
     ]
    }
   ],
   "source": [
    "#3 Write a function to take an array and return another array that contains the members of first array that are even\n",
    "\n",
    "user_array = [1,2,3,4,5,6,7,8,9,10]\n",
    "\n",
    "even_numbers =  [num for num in user_array if num%2 == 0]\n",
    "\n",
    "print(even_numbers)"
   ]
  },
  {
   "cell_type": "code",
   "execution_count": 13,
   "id": "cf78b564",
   "metadata": {},
   "outputs": [
    {
     "name": "stdout",
     "output_type": "stream",
     "text": [
      "[1, 4, 20, 88, 33, 100]\n"
     ]
    }
   ],
   "source": [
    "#4 Write a function that takes 2 arrays and prints the members of the first array that are present of second array. (HINT: use\n",
    "# membership Comprehension)\n",
    "\n",
    "array1 = [1,2,4,6,20,5,88,33,78,96,100]\n",
    "array2 = [1,45,33,65,76,88,93,4,20,100]\n",
    "\n",
    "numbers = [number for number in array1 if number in array2]\n",
    "print(numbers)"
   ]
  }
 ],
 "metadata": {
  "kernelspec": {
   "display_name": "Python 3",
   "language": "python",
   "name": "python3"
  },
  "language_info": {
   "codemirror_mode": {
    "name": "ipython",
    "version": 3
   },
   "file_extension": ".py",
   "mimetype": "text/x-python",
   "name": "python",
   "nbconvert_exporter": "python",
   "pygments_lexer": "ipython3",
   "version": "3.8.8"
  }
 },
 "nbformat": 4,
 "nbformat_minor": 5
}

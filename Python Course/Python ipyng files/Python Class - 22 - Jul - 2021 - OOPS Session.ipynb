{
 "cells": [
  {
   "cell_type": "code",
   "execution_count": null,
   "id": "e035317a",
   "metadata": {},
   "outputs": [],
   "source": [
    "#OOPS - Object Oriented Programming -----> real life scenario\n",
    "# classes -- > blue print or description of an object.\n",
    "#Technical definition of a class -> It helps us to hold all the functions at the same memory location.\n",
    "# Collection of objects.\n",
    "\n",
    "# example employee class -> john,mary,henry,james,robert.\n",
    "\n",
    "#object -> real world entity having certain behaviour, state or functionality.\n",
    "\n",
    "#example -> empi id, salary, department, age, gender, DOJ, designation etc."
   ]
  },
  {
   "cell_type": "code",
   "execution_count": 20,
   "id": "ada69021",
   "metadata": {},
   "outputs": [],
   "source": [
    "#class implementation\n",
    "#example->\n",
    "\n",
    "class employee:\n",
    "    def details(self,emp_id,name): # self is used as the class references to the same memory location\n",
    "        print('Name of the employee is:', name)\n",
    "        print('Emp id is:', emp_id)\n",
    "    def salary(self,sal):\n",
    "        print('The salary of the employee is:', sal)\n"
   ]
  },
  {
   "cell_type": "code",
   "execution_count": 22,
   "id": "b8308f46",
   "metadata": {},
   "outputs": [],
   "source": [
    "#create the object\n",
    "emp1=employee()"
   ]
  },
  {
   "cell_type": "code",
   "execution_count": 8,
   "id": "145e4bae",
   "metadata": {},
   "outputs": [
    {
     "name": "stdout",
     "output_type": "stream",
     "text": [
      "Name of the employee is: harry\n",
      "Emp id is: 45\n"
     ]
    }
   ],
   "source": [
    "emp1.details(45,'harry')"
   ]
  },
  {
   "cell_type": "code",
   "execution_count": 9,
   "id": "f18833d1",
   "metadata": {},
   "outputs": [
    {
     "ename": "NameError",
     "evalue": "name 'details' is not defined",
     "output_type": "error",
     "traceback": [
      "\u001b[1;31m---------------------------------------------------------------------------\u001b[0m",
      "\u001b[1;31mNameError\u001b[0m                                 Traceback (most recent call last)",
      "\u001b[1;32m<ipython-input-9-edcb58919506>\u001b[0m in \u001b[0;36m<module>\u001b[1;34m\u001b[0m\n\u001b[1;32m----> 1\u001b[1;33m \u001b[0mdetails\u001b[0m\u001b[1;33m(\u001b[0m\u001b[1;36m78\u001b[0m\u001b[1;33m,\u001b[0m\u001b[1;34m'James'\u001b[0m\u001b[1;33m)\u001b[0m\u001b[1;33m\u001b[0m\u001b[1;33m\u001b[0m\u001b[0m\n\u001b[0m",
      "\u001b[1;31mNameError\u001b[0m: name 'details' is not defined"
     ]
    }
   ],
   "source": [
    "details(78,'James') # since class functions need to accesses via class objects hence it throws an error"
   ]
  },
  {
   "cell_type": "code",
   "execution_count": 23,
   "id": "ca19e5c3",
   "metadata": {},
   "outputs": [
    {
     "name": "stdout",
     "output_type": "stream",
     "text": [
      "The salary of the employee is: 10000\n"
     ]
    }
   ],
   "source": [
    "emp1.salary(10000)"
   ]
  },
  {
   "cell_type": "code",
   "execution_count": 25,
   "id": "2eecbeed",
   "metadata": {},
   "outputs": [
    {
     "name": "stdout",
     "output_type": "stream",
     "text": [
      "The salary of the employee is: 20000\n"
     ]
    }
   ],
   "source": [
    "emp2=employee()\n",
    "emp2.salary(20000)"
   ]
  },
  {
   "cell_type": "code",
   "execution_count": 26,
   "id": "bc184aaa",
   "metadata": {},
   "outputs": [
    {
     "name": "stdout",
     "output_type": "stream",
     "text": [
      "Name of the employee is: Jack\n",
      "Emp id is: 10\n"
     ]
    }
   ],
   "source": [
    "emp2.details(10,'Jack')"
   ]
  },
  {
   "cell_type": "code",
   "execution_count": 29,
   "id": "76d82fc8",
   "metadata": {},
   "outputs": [
    {
     "ename": "TypeError",
     "evalue": "details() missing 1 required positional argument: 'name'",
     "output_type": "error",
     "traceback": [
      "\u001b[1;31m---------------------------------------------------------------------------\u001b[0m",
      "\u001b[1;31mTypeError\u001b[0m                                 Traceback (most recent call last)",
      "\u001b[1;32m<ipython-input-29-ab02052049bc>\u001b[0m in \u001b[0;36m<module>\u001b[1;34m\u001b[0m\n\u001b[1;32m----> 1\u001b[1;33m \u001b[0memployee\u001b[0m\u001b[1;33m.\u001b[0m\u001b[0mdetails\u001b[0m\u001b[1;33m(\u001b[0m\u001b[1;36m20\u001b[0m\u001b[1;33m,\u001b[0m\u001b[1;34m'James'\u001b[0m\u001b[1;33m)\u001b[0m \u001b[1;31m# we cannot access class function directly through class and we need to use class object to access\u001b[0m\u001b[1;33m\u001b[0m\u001b[1;33m\u001b[0m\u001b[0m\n\u001b[0m",
      "\u001b[1;31mTypeError\u001b[0m: details() missing 1 required positional argument: 'name'"
     ]
    }
   ],
   "source": [
    "employee.details(20,'James') # we cannot access class function directly through class and we need to use class object to access\n",
    "#class function"
   ]
  },
  {
   "cell_type": "code",
   "execution_count": 33,
   "id": "66248999",
   "metadata": {},
   "outputs": [
    {
     "data": {
      "text/plain": [
       "30"
      ]
     },
     "execution_count": 33,
     "metadata": {},
     "output_type": "execute_result"
    }
   ],
   "source": [
    "#class demo\n",
    "class demo:\n",
    "    def func1(self,a,b):\n",
    "        return a+b\n",
    "    def func2(self,c,d):\n",
    "        return c*d\n",
    "\n",
    "obj=demo()    \n",
    "obj.func1(10,20) #addition"
   ]
  },
  {
   "cell_type": "code",
   "execution_count": 34,
   "id": "58b437fa",
   "metadata": {},
   "outputs": [
    {
     "data": {
      "text/plain": [
       "6"
      ]
     },
     "execution_count": 34,
     "metadata": {},
     "output_type": "execute_result"
    }
   ],
   "source": [
    "obj.func2(2,3) # multiplication"
   ]
  },
  {
   "cell_type": "code",
   "execution_count": 38,
   "id": "1f013e20",
   "metadata": {},
   "outputs": [
    {
     "name": "stdout",
     "output_type": "stream",
     "text": [
      "3\n"
     ]
    }
   ],
   "source": [
    "#difference between print and return\n",
    "def xyz(p,q):\n",
    "    r=p+q\n",
    "    print(r)\n",
    "h=xyz(1,2)    "
   ]
  },
  {
   "cell_type": "code",
   "execution_count": 39,
   "id": "53f1aa41",
   "metadata": {},
   "outputs": [],
   "source": [
    "h # does not return any value as print just prints the data and does not store it in any variable"
   ]
  },
  {
   "cell_type": "code",
   "execution_count": 41,
   "id": "643d2d7a",
   "metadata": {},
   "outputs": [],
   "source": [
    "def xyz(p,q):\n",
    "    r=p+q\n",
    "    return r"
   ]
  },
  {
   "cell_type": "code",
   "execution_count": 42,
   "id": "709c66fd",
   "metadata": {},
   "outputs": [],
   "source": [
    "a=xyz(3,4)"
   ]
  },
  {
   "cell_type": "code",
   "execution_count": 43,
   "id": "94cc8a02",
   "metadata": {},
   "outputs": [
    {
     "data": {
      "text/plain": [
       "7"
      ]
     },
     "execution_count": 43,
     "metadata": {},
     "output_type": "execute_result"
    }
   ],
   "source": [
    "a # it returns a value as return stores the value in a variable and can be used for further computations"
   ]
  },
  {
   "cell_type": "code",
   "execution_count": 44,
   "id": "e9b11386",
   "metadata": {},
   "outputs": [
    {
     "data": {
      "text/plain": [
       "35"
      ]
     },
     "execution_count": 44,
     "metadata": {},
     "output_type": "execute_result"
    }
   ],
   "source": [
    "#example:\n",
    "a*5"
   ]
  },
  {
   "cell_type": "code",
   "execution_count": 50,
   "id": "f1bf94cc",
   "metadata": {},
   "outputs": [],
   "source": [
    "#Local environment\n",
    "class demo1:\n",
    "    x=100\n",
    "    y=200\n",
    "    def adder(self,a,b):\n",
    "        c=a+b+self.x\n",
    "        return c\n",
    "    def multiplier(self,d):\n",
    "        e=d*self.y\n",
    "        return e"
   ]
  },
  {
   "cell_type": "code",
   "execution_count": 48,
   "id": "b6982d54",
   "metadata": {},
   "outputs": [],
   "source": [
    "o=demo1()"
   ]
  },
  {
   "cell_type": "code",
   "execution_count": 51,
   "id": "394825e9",
   "metadata": {},
   "outputs": [
    {
     "data": {
      "text/plain": [
       "103"
      ]
     },
     "execution_count": 51,
     "metadata": {},
     "output_type": "execute_result"
    }
   ],
   "source": [
    "o.adder(1,2)"
   ]
  },
  {
   "cell_type": "code",
   "execution_count": 53,
   "id": "b9d0a9d7",
   "metadata": {},
   "outputs": [
    {
     "data": {
      "text/plain": [
       "1000"
      ]
     },
     "execution_count": 53,
     "metadata": {},
     "output_type": "execute_result"
    }
   ],
   "source": [
    "o.multiplier(5)"
   ]
  },
  {
   "cell_type": "code",
   "execution_count": 54,
   "id": "723e700c",
   "metadata": {},
   "outputs": [],
   "source": [
    "#global environment\n",
    "f=100\n",
    "class demo2:\n",
    "    def adder(self,a,b):\n",
    "        c=a+b+f\n",
    "        return c"
   ]
  },
  {
   "cell_type": "code",
   "execution_count": 56,
   "id": "5830ab74",
   "metadata": {},
   "outputs": [
    {
     "data": {
      "text/plain": [
       "103"
      ]
     },
     "execution_count": 56,
     "metadata": {},
     "output_type": "execute_result"
    }
   ],
   "source": [
    "b=demo2()\n",
    "b.adder(1,2)"
   ]
  },
  {
   "cell_type": "code",
   "execution_count": null,
   "id": "6e925931",
   "metadata": {},
   "outputs": [],
   "source": [
    "#Banking system - real time examples \n",
    "#below are the 3 functionalities to be implemented\n",
    "#Check_balance: print the main_balance\n",
    "#deposit: credit the amount to main_balance\n",
    "#Withdraw: deduct the amount to main_balance\n"
   ]
  },
  {
   "cell_type": "code",
   "execution_count": 81,
   "id": "f8f9429f",
   "metadata": {},
   "outputs": [],
   "source": [
    "class Bank_account:\n",
    "    amt=0       #initially main balance is 0\n",
    "    def check_balance(self):\n",
    "        print('The current amount is:', self.amt)\n",
    "    def deposit(self,x):\n",
    "        self.amt=self.amt+x\n",
    "        print('The amount deposited is:', x)\n",
    "    def withdraw(self,y):\n",
    "        if self.amt>=y:\n",
    "            self.amt=self.amt-y\n",
    "        else:\n",
    "            print('Insufficient Balance to withdraw')\n",
    "    "
   ]
  },
  {
   "cell_type": "code",
   "execution_count": 62,
   "id": "8621f8ee",
   "metadata": {},
   "outputs": [],
   "source": [
    "user1=Bank_account()"
   ]
  },
  {
   "cell_type": "code",
   "execution_count": 63,
   "id": "4bff4b11",
   "metadata": {},
   "outputs": [
    {
     "name": "stdout",
     "output_type": "stream",
     "text": [
      "The current amount is: 0\n"
     ]
    }
   ],
   "source": [
    "user1.check_balance()   # new user so balance will be always 0"
   ]
  },
  {
   "cell_type": "code",
   "execution_count": 64,
   "id": "948c95af",
   "metadata": {},
   "outputs": [
    {
     "name": "stdout",
     "output_type": "stream",
     "text": [
      "The amount deposited is: 1000\n"
     ]
    }
   ],
   "source": [
    "user1.deposit(1000)"
   ]
  },
  {
   "cell_type": "code",
   "execution_count": 65,
   "id": "0f806cf5",
   "metadata": {},
   "outputs": [
    {
     "name": "stdout",
     "output_type": "stream",
     "text": [
      "Insufficient Balance to withdraw\n"
     ]
    }
   ],
   "source": [
    "user1.withdraw(1001) # user cannot withdraw an amount greater than the main balance"
   ]
  },
  {
   "cell_type": "code",
   "execution_count": 66,
   "id": "a613a669",
   "metadata": {},
   "outputs": [
    {
     "name": "stdout",
     "output_type": "stream",
     "text": [
      "The amount deposited is: 1000\n"
     ]
    }
   ],
   "source": [
    "user1.deposit(1000)"
   ]
  },
  {
   "cell_type": "code",
   "execution_count": 67,
   "id": "e4e87f04",
   "metadata": {},
   "outputs": [
    {
     "name": "stdout",
     "output_type": "stream",
     "text": [
      "The current amount is: 2000\n"
     ]
    }
   ],
   "source": [
    "user1.check_balance()"
   ]
  },
  {
   "cell_type": "code",
   "execution_count": 68,
   "id": "d139b46c",
   "metadata": {},
   "outputs": [
    {
     "name": "stdout",
     "output_type": "stream",
     "text": [
      "Amount Withdrawn is: 1000\n"
     ]
    }
   ],
   "source": [
    "user1.withdraw(1000)# out of 2K, 1K has been withdrawn"
   ]
  },
  {
   "cell_type": "code",
   "execution_count": 69,
   "id": "1e023bf0",
   "metadata": {},
   "outputs": [
    {
     "name": "stdout",
     "output_type": "stream",
     "text": [
      "The current amount is: 1000\n"
     ]
    }
   ],
   "source": [
    "user1.check_balance()  # hence balance is 1000"
   ]
  },
  {
   "cell_type": "code",
   "execution_count": 73,
   "id": "f5334d6b",
   "metadata": {},
   "outputs": [
    {
     "name": "stdout",
     "output_type": "stream",
     "text": [
      "The amount deposited is: 1000\n"
     ]
    }
   ],
   "source": [
    "user1.deposit(1000)"
   ]
  },
  {
   "cell_type": "code",
   "execution_count": 75,
   "id": "e2817124",
   "metadata": {},
   "outputs": [
    {
     "name": "stdout",
     "output_type": "stream",
     "text": [
      "Insufficient Balance to withdraw\n"
     ]
    }
   ],
   "source": [
    "user1.withdraw(1000)  "
   ]
  },
  {
   "cell_type": "code",
   "execution_count": 76,
   "id": "3df8342f",
   "metadata": {},
   "outputs": [],
   "source": [
    "user2=Bank_account()"
   ]
  },
  {
   "cell_type": "code",
   "execution_count": 77,
   "id": "cf6214aa",
   "metadata": {},
   "outputs": [
    {
     "name": "stdout",
     "output_type": "stream",
     "text": [
      "The current amount is: 0\n"
     ]
    }
   ],
   "source": [
    "user2.check_balance()"
   ]
  },
  {
   "cell_type": "code",
   "execution_count": 78,
   "id": "c455d51d",
   "metadata": {},
   "outputs": [
    {
     "name": "stdout",
     "output_type": "stream",
     "text": [
      "The amount deposited is: 20000\n"
     ]
    }
   ],
   "source": [
    "user2.deposit(20000)"
   ]
  },
  {
   "cell_type": "code",
   "execution_count": 79,
   "id": "992b7856",
   "metadata": {},
   "outputs": [
    {
     "name": "stdout",
     "output_type": "stream",
     "text": [
      "The current amount is: 20000\n"
     ]
    }
   ],
   "source": [
    "user2.check_balance()"
   ]
  },
  {
   "cell_type": "code",
   "execution_count": 82,
   "id": "0f3c7a98",
   "metadata": {},
   "outputs": [
    {
     "name": "stdout",
     "output_type": "stream",
     "text": [
      "Amount Withdrawn is: 10000\n"
     ]
    }
   ],
   "source": [
    "user2.withdraw(10000)"
   ]
  }
 ],
 "metadata": {
  "kernelspec": {
   "display_name": "Python 3",
   "language": "python",
   "name": "python3"
  },
  "language_info": {
   "codemirror_mode": {
    "name": "ipython",
    "version": 3
   },
   "file_extension": ".py",
   "mimetype": "text/x-python",
   "name": "python",
   "nbconvert_exporter": "python",
   "pygments_lexer": "ipython3",
   "version": "3.8.8"
  }
 },
 "nbformat": 4,
 "nbformat_minor": 5
}

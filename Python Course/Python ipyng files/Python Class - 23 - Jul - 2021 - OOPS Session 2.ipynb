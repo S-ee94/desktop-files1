{
 "cells": [
  {
   "cell_type": "code",
   "execution_count": 13,
   "id": "d89a8300",
   "metadata": {},
   "outputs": [],
   "source": [
    "#OOPS Session 2\n",
    "\n",
    "#Constructor: \n",
    "#syntax: __init__()---> constructor method \n",
    "#used for initializing the object or used to assign the values to the data members.\n",
    "#they are called automatically/by default when an object is created of a class.\n",
    "\n",
    "#example:\n",
    "class person:\n",
    "    def __init__(self,name,age):\n",
    "        self.name=name\n",
    "        self.age=age\n",
    "    def print_details(self):\n",
    "        print('Hello my name is', self.name)\n",
    "        print('My age is', self.age)\n",
    "    def welcome(self):\n",
    "        print('Welcome', self.name)\n",
    "        print('You are eligible to enroll')        "
   ]
  },
  {
   "cell_type": "code",
   "execution_count": 14,
   "id": "3cf8d402",
   "metadata": {},
   "outputs": [],
   "source": [
    "p1=person(\"Dasha\",23)"
   ]
  },
  {
   "cell_type": "code",
   "execution_count": 8,
   "id": "526f3764",
   "metadata": {},
   "outputs": [
    {
     "name": "stdout",
     "output_type": "stream",
     "text": [
      "Hello my name is Dasha\n",
      "My age is 23\n"
     ]
    }
   ],
   "source": [
    "p1.print_details()"
   ]
  },
  {
   "cell_type": "code",
   "execution_count": 15,
   "id": "4a238bc3",
   "metadata": {},
   "outputs": [
    {
     "name": "stdout",
     "output_type": "stream",
     "text": [
      "Welcome Dasha\n",
      "You are eligible to enroll\n"
     ]
    }
   ],
   "source": [
    "p1.welcome()"
   ]
  },
  {
   "cell_type": "code",
   "execution_count": 18,
   "id": "e535a37e",
   "metadata": {},
   "outputs": [
    {
     "name": "stdout",
     "output_type": "stream",
     "text": [
      "Hello my name is Ram\n",
      "My age is 40\n",
      "Welcome Ram\n",
      "You are eligible to enroll\n"
     ]
    }
   ],
   "source": [
    "p2=person(\"Ram\",40)\n",
    "p2.print_details()\n",
    "p2.welcome()"
   ]
  },
  {
   "cell_type": "code",
   "execution_count": 20,
   "id": "ccbd18a2",
   "metadata": {},
   "outputs": [],
   "source": [
    "#constructor example:\n",
    "\n",
    "class employee:\n",
    "    def __init__(self,emp_id,name,sal,dep):\n",
    "        self.emp_id=emp_id\n",
    "        self.name=name\n",
    "        self.sal=sal\n",
    "        self.dep=dep\n",
    "    def details(self): \n",
    "        print('Name of the employee is:', self.name)\n",
    "        print('Emp id is:', self.emp_id)\n",
    "    def salary(self):\n",
    "        print('The salary of the employee is:', self.sal)\n",
    "    def department(self):\n",
    "        print('Department is:', self.dep)"
   ]
  },
  {
   "cell_type": "code",
   "execution_count": 23,
   "id": "22606076",
   "metadata": {},
   "outputs": [
    {
     "name": "stdout",
     "output_type": "stream",
     "text": [
      "Name of the employee is: Sara\n",
      "Emp id is: 12\n",
      "The salary of the employee is: 30000\n",
      "Department is: Testing\n"
     ]
    }
   ],
   "source": [
    "emp2=employee(12,'Sara',30000,'Testing')\n",
    "emp2.details()\n",
    "emp2.salary()\n",
    "emp2.department()"
   ]
  },
  {
   "cell_type": "code",
   "execution_count": null,
   "id": "d800f338",
   "metadata": {},
   "outputs": [],
   "source": [
    "#Inheritance: Having the functionality that are already built or exists. It provides code reusability\n",
    "#classes-> parent class,child class etc.\n",
    "#Parent Class->  this is a class from which functionalities or the properties(methods/functions) are inherited.\n",
    "#Child Class-> this is a class which inherits the fuctionalities/properties from the parent class.\n",
    "\n",
    "#Inheritance Types-> Single,Multiple & Multilevel\n",
    "#Single inheritance-> One parent class and one child class\n",
    "#Multiple inheritance-> 2 parents and one child class\n",
    "#Multilevel inheritance-> 1 - Grand Parent,1 Parent and 1 child"
   ]
  },
  {
   "cell_type": "code",
   "execution_count": null,
   "id": "96ae7198",
   "metadata": {},
   "outputs": [],
   "source": [
    "#class birds-> (beak,feathers,wing span)  - parent\n",
    "#class sparrow(birds)-> specific property of colour. - child\n",
    "#class ostrich(birds)-> specific(fly,colour,size) - child\n",
    "#class peacock(birds)-> specific(colour,habitat) - child"
   ]
  },
  {
   "cell_type": "code",
   "execution_count": 40,
   "id": "67f4c2e3",
   "metadata": {},
   "outputs": [],
   "source": [
    "#single inheritance: example\n",
    "class name: # parent class\n",
    "    def __init__(self,fname,lname): # parent class constructor \n",
    "        self.fname=fname\n",
    "        self.lname=lname\n",
    "    def func1(self): # parent class function\n",
    "        print('The name is:', self.fname,self.lname)\n",
    "        \n",
    "class student(name): #child of the parent class-name\n",
    "    def __init__(self,fname,lname): # child class constructor\n",
    "        super().__init__(fname,lname)# calling the parent class constructor inside child class \n",
    "    def view(self,m1,m2):# child class function\n",
    "        print(self.fname,self.lname,'has scored',m1,'Marks in Math',m2,'Marks in Science')\n",
    "        super().func1()# function of parent class called in child class     "
   ]
  },
  {
   "cell_type": "code",
   "execution_count": 41,
   "id": "a4e29040",
   "metadata": {},
   "outputs": [],
   "source": [
    "x=name('Ram','Krishna') # creating an object of parent class"
   ]
  },
  {
   "cell_type": "code",
   "execution_count": 42,
   "id": "7e4f1f92",
   "metadata": {},
   "outputs": [
    {
     "name": "stdout",
     "output_type": "stream",
     "text": [
      "The name is: Ram Krishna\n"
     ]
    }
   ],
   "source": [
    "x.func1()"
   ]
  },
  {
   "cell_type": "code",
   "execution_count": 43,
   "id": "3968409f",
   "metadata": {},
   "outputs": [
    {
     "name": "stdout",
     "output_type": "stream",
     "text": [
      "Ram Krishna has scored 90 Marks in Math 100 Marks in Science\n",
      "The name is: Ram Krishna\n"
     ]
    }
   ],
   "source": [
    "y=student('Ram','Krishna')# assigning the values to child class constructor\n",
    "y.view(90,100) # assigning values to child class function view"
   ]
  },
  {
   "cell_type": "code",
   "execution_count": 57,
   "id": "201f5ae0",
   "metadata": {},
   "outputs": [],
   "source": [
    "# single inheritance\n",
    "#example:\n",
    "class parent:\n",
    "    def __init__(self):\n",
    "        self.a=10\n",
    "    def func1(self):\n",
    "        print(self.a)\n",
    "    def parent_func(self):\n",
    "        print(self.a*20)\n",
    "\n",
    "class child(parent):\n",
    "    def __init__(self):\n",
    "        super().__init__()\n",
    "    def func2(self,x,y):\n",
    "        print(x+y)\n",
    "        super().func1()\n",
    "        super().parent_func()"
   ]
  },
  {
   "cell_type": "code",
   "execution_count": 58,
   "id": "d457b1f5",
   "metadata": {},
   "outputs": [
    {
     "name": "stdout",
     "output_type": "stream",
     "text": [
      "10\n"
     ]
    }
   ],
   "source": [
    "obj1=parent()\n",
    "obj1.func1()"
   ]
  },
  {
   "cell_type": "code",
   "execution_count": 59,
   "id": "e455ef49",
   "metadata": {},
   "outputs": [],
   "source": [
    "obj2=child()"
   ]
  },
  {
   "cell_type": "code",
   "execution_count": 55,
   "id": "0cae500e",
   "metadata": {},
   "outputs": [
    {
     "name": "stdout",
     "output_type": "stream",
     "text": [
      "10\n"
     ]
    }
   ],
   "source": [
    "obj2.func1()"
   ]
  },
  {
   "cell_type": "code",
   "execution_count": 56,
   "id": "940768d6",
   "metadata": {},
   "outputs": [
    {
     "name": "stdout",
     "output_type": "stream",
     "text": [
      "5\n",
      "10\n"
     ]
    }
   ],
   "source": [
    "obj2.func2(2,3)"
   ]
  },
  {
   "cell_type": "code",
   "execution_count": 60,
   "id": "08a4da75",
   "metadata": {},
   "outputs": [
    {
     "name": "stdout",
     "output_type": "stream",
     "text": [
      "3\n",
      "10\n",
      "200\n"
     ]
    }
   ],
   "source": [
    "obj2.func2(1,2)"
   ]
  },
  {
   "cell_type": "code",
   "execution_count": 61,
   "id": "f2ba8245",
   "metadata": {},
   "outputs": [],
   "source": [
    "# multiple inheritance:\n",
    "# class A and class B\n",
    "#class C(A,B)\n",
    "class A:\n",
    "    def __init__(self):\n",
    "        print('This is Class A')\n",
    "    def A_func(self):\n",
    "        print('Function of Class A')\n",
    "class B:\n",
    "    def __init__(self):\n",
    "        print('This is Class B')\n",
    "    def B_func(self):\n",
    "        print('Function of Class B')\n",
    "class C(A,B):\n",
    "    def __init__(self):\n",
    "        A.__init__(self)\n",
    "        B.__init__(self)\n",
    "        print('This is Class C')\n",
    "    def C_func(self):\n",
    "        print('Function of Class C')\n",
    "        A.A_func(self)\n",
    "        B.B_func(self)"
   ]
  },
  {
   "cell_type": "code",
   "execution_count": 70,
   "id": "55ae8939",
   "metadata": {},
   "outputs": [
    {
     "name": "stdout",
     "output_type": "stream",
     "text": [
      "This is Class A\n",
      "Function of Class A\n"
     ]
    }
   ],
   "source": [
    "objA=A()\n",
    "objA.A_func()"
   ]
  },
  {
   "cell_type": "code",
   "execution_count": 71,
   "id": "23d3ac4f",
   "metadata": {},
   "outputs": [
    {
     "name": "stdout",
     "output_type": "stream",
     "text": [
      "This is Class B\n",
      "Function of Class B\n"
     ]
    }
   ],
   "source": [
    "objB=B()\n",
    "objB.B_func()"
   ]
  },
  {
   "cell_type": "code",
   "execution_count": 67,
   "id": "e106542c",
   "metadata": {},
   "outputs": [
    {
     "name": "stdout",
     "output_type": "stream",
     "text": [
      "This is Class A\n",
      "This is Class B\n",
      "This is Class C\n"
     ]
    }
   ],
   "source": [
    "objC=C()"
   ]
  },
  {
   "cell_type": "code",
   "execution_count": 68,
   "id": "ebd30ff8",
   "metadata": {},
   "outputs": [
    {
     "name": "stdout",
     "output_type": "stream",
     "text": [
      "Function of Class C\n",
      "Function of Class A\n",
      "Function of Class B\n"
     ]
    }
   ],
   "source": [
    "objC.C_func()"
   ]
  },
  {
   "cell_type": "code",
   "execution_count": 91,
   "id": "81438298",
   "metadata": {},
   "outputs": [],
   "source": [
    "# multilevel inheritance:\n",
    "# Class Grand parent, Class Parent and Class Child\n",
    "# Class Child(Parent), Class Parent(Grand Parent)\n",
    "class A:\n",
    "    def __init__(self):\n",
    "        print('This is Class A')\n",
    "    def A_func(self):\n",
    "        print('Function of Class A')\n",
    "class B(A):\n",
    "    def __init__(self):\n",
    "        A.__init__(self)\n",
    "        A.A_func(self)\n",
    "        print('This is Class B')\n",
    "    def B_func(self):\n",
    "        print('Function of Class B')\n",
    "class C(B):\n",
    "    def __init__(self):\n",
    "        B.__init__(self)\n",
    "        B.B_func(self)\n",
    "        print('This is Class C')\n",
    "    def C_func(self):\n",
    "        print('Function of Class C')"
   ]
  },
  {
   "cell_type": "code",
   "execution_count": 92,
   "id": "cdc0abbd",
   "metadata": {},
   "outputs": [
    {
     "name": "stdout",
     "output_type": "stream",
     "text": [
      "This is Class A\n",
      "Function of Class A\n"
     ]
    }
   ],
   "source": [
    "objA=A()\n",
    "objA.A_func()"
   ]
  },
  {
   "cell_type": "code",
   "execution_count": 93,
   "id": "10c4c338",
   "metadata": {},
   "outputs": [
    {
     "name": "stdout",
     "output_type": "stream",
     "text": [
      "This is Class A\n",
      "Function of Class A\n",
      "This is Class B\n",
      "Function of Class B\n"
     ]
    }
   ],
   "source": [
    "objB=B()\n",
    "objB.B_func()"
   ]
  },
  {
   "cell_type": "code",
   "execution_count": 94,
   "id": "42f7a756",
   "metadata": {},
   "outputs": [
    {
     "name": "stdout",
     "output_type": "stream",
     "text": [
      "This is Class A\n",
      "Function of Class A\n",
      "This is Class B\n",
      "Function of Class B\n",
      "This is Class C\n",
      "Function of Class C\n"
     ]
    }
   ],
   "source": [
    "objC=C()\n",
    "objC.C_func()"
   ]
  },
  {
   "cell_type": "code",
   "execution_count": 95,
   "id": "69b0ce7c",
   "metadata": {},
   "outputs": [],
   "source": [
    "#polymorphism -> overrides the functions with same names, most recently used function will be excecuted \n",
    "#one function can exist in many forms \n",
    "\n",
    "def func1(a,b):\n",
    "    return a+b"
   ]
  },
  {
   "cell_type": "code",
   "execution_count": 97,
   "id": "bf81864c",
   "metadata": {},
   "outputs": [],
   "source": [
    "def func1(a,b,c):\n",
    "    return a+b+c"
   ]
  },
  {
   "cell_type": "code",
   "execution_count": 96,
   "id": "b8f37fd1",
   "metadata": {},
   "outputs": [
    {
     "data": {
      "text/plain": [
       "3"
      ]
     },
     "execution_count": 96,
     "metadata": {},
     "output_type": "execute_result"
    }
   ],
   "source": [
    "func1(1,2)"
   ]
  },
  {
   "cell_type": "code",
   "execution_count": 98,
   "id": "cf5c9658",
   "metadata": {},
   "outputs": [
    {
     "data": {
      "text/plain": [
       "15"
      ]
     },
     "execution_count": 98,
     "metadata": {},
     "output_type": "execute_result"
    }
   ],
   "source": [
    "func1(4,5,6)"
   ]
  },
  {
   "cell_type": "code",
   "execution_count": 102,
   "id": "4a18c3f3",
   "metadata": {},
   "outputs": [],
   "source": [
    "class A:\n",
    "    def func1(self,a,b):\n",
    "        return a+b\n",
    "class B:\n",
    "    def func1(self,a,b,c):\n",
    "        return a+b+c"
   ]
  },
  {
   "cell_type": "code",
   "execution_count": 104,
   "id": "67446db9",
   "metadata": {},
   "outputs": [
    {
     "data": {
      "text/plain": [
       "11"
      ]
     },
     "execution_count": 104,
     "metadata": {},
     "output_type": "execute_result"
    }
   ],
   "source": [
    "objA=A()\n",
    "objA.func1(5,6)"
   ]
  },
  {
   "cell_type": "code",
   "execution_count": 107,
   "id": "057f8367",
   "metadata": {},
   "outputs": [
    {
     "data": {
      "text/plain": [
       "12"
      ]
     },
     "execution_count": 107,
     "metadata": {},
     "output_type": "execute_result"
    }
   ],
   "source": [
    "objB=B()\n",
    "objB.func1(3,4,5)"
   ]
  },
  {
   "cell_type": "code",
   "execution_count": null,
   "id": "2145ea5f",
   "metadata": {},
   "outputs": [],
   "source": []
  }
 ],
 "metadata": {
  "kernelspec": {
   "display_name": "Python 3",
   "language": "python",
   "name": "python3"
  },
  "language_info": {
   "codemirror_mode": {
    "name": "ipython",
    "version": 3
   },
   "file_extension": ".py",
   "mimetype": "text/x-python",
   "name": "python",
   "nbconvert_exporter": "python",
   "pygments_lexer": "ipython3",
   "version": "3.8.8"
  }
 },
 "nbformat": 4,
 "nbformat_minor": 5
}

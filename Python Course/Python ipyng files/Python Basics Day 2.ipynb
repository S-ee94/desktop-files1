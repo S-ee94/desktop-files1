{
 "cells": [
  {
   "cell_type": "code",
   "execution_count": null,
   "id": "63fa57f5",
   "metadata": {},
   "outputs": [],
   "source": [
    "#Topic 2:Data types: there are 2 categories of data types in python\n",
    "#Mutable  Data Type: in which information stored can be changed/altered, once declared\n",
    "#ex: lists,dictionary,sets\n",
    "\n",
    "#Immutable Data Type: in which information stored cannot be changed/altered, once declared\n",
    "#ex: tuples,strings"
   ]
  },
  {
   "cell_type": "code",
   "execution_count": 1,
   "id": "b7670ef9",
   "metadata": {},
   "outputs": [
    {
     "data": {
      "text/plain": [
       "'PYTHON'"
      ]
     },
     "execution_count": 1,
     "metadata": {},
     "output_type": "execute_result"
    }
   ],
   "source": [
    "#immutable data type:\n",
    "x='PYTHON'\n",
    "x"
   ]
  },
  {
   "cell_type": "code",
   "execution_count": 2,
   "id": "63be4d91",
   "metadata": {},
   "outputs": [
    {
     "data": {
      "text/plain": [
       "str"
      ]
     },
     "execution_count": 2,
     "metadata": {},
     "output_type": "execute_result"
    }
   ],
   "source": [
    "type(x)\n"
   ]
  },
  {
   "cell_type": "code",
   "execution_count": null,
   "id": "5fc5dce2",
   "metadata": {},
   "outputs": [],
   "source": [
    "#Accessing & extracting the elements in a collection\n",
    "#indexing-----> helps to extract out the individual or particular element from collection\n",
    "#slicing--------> helps to extract out the sequence or range of elements from collection\n",
    "\n",
    "#  P  Y  T  H  O  N\n",
    "#  0  1  2  3  4  5 --------> regular indexes\n"
   ]
  },
  {
   "cell_type": "code",
   "execution_count": 3,
   "id": "90285b85",
   "metadata": {},
   "outputs": [
    {
     "data": {
      "text/plain": [
       "'T'"
      ]
     },
     "execution_count": 3,
     "metadata": {},
     "output_type": "execute_result"
    }
   ],
   "source": [
    "#ex: indexing\n",
    "x[2]\n"
   ]
  },
  {
   "cell_type": "code",
   "execution_count": 4,
   "id": "94a0bbe2",
   "metadata": {},
   "outputs": [
    {
     "data": {
      "text/plain": [
       "'P'"
      ]
     },
     "execution_count": 4,
     "metadata": {},
     "output_type": "execute_result"
    }
   ],
   "source": [
    "x[0]"
   ]
  },
  {
   "cell_type": "code",
   "execution_count": 5,
   "id": "c2c8da24",
   "metadata": {},
   "outputs": [
    {
     "data": {
      "text/plain": [
       "'Y'"
      ]
     },
     "execution_count": 5,
     "metadata": {},
     "output_type": "execute_result"
    }
   ],
   "source": [
    "x[1]"
   ]
  },
  {
   "cell_type": "code",
   "execution_count": 6,
   "id": "9d291feb",
   "metadata": {},
   "outputs": [
    {
     "ename": "IndexError",
     "evalue": "string index out of range",
     "output_type": "error",
     "traceback": [
      "\u001b[1;31m---------------------------------------------------------------------------\u001b[0m",
      "\u001b[1;31mIndexError\u001b[0m                                Traceback (most recent call last)",
      "\u001b[1;32m<ipython-input-6-04aa5bc9ecce>\u001b[0m in \u001b[0;36m<module>\u001b[1;34m\u001b[0m\n\u001b[1;32m----> 1\u001b[1;33m \u001b[0mx\u001b[0m\u001b[1;33m[\u001b[0m\u001b[1;36m6\u001b[0m\u001b[1;33m]\u001b[0m\u001b[1;33m\u001b[0m\u001b[1;33m\u001b[0m\u001b[0m\n\u001b[0m",
      "\u001b[1;31mIndexError\u001b[0m: string index out of range"
     ]
    }
   ],
   "source": [
    "x[6]"
   ]
  },
  {
   "cell_type": "code",
   "execution_count": 7,
   "id": "bdc7b1c6",
   "metadata": {},
   "outputs": [
    {
     "data": {
      "text/plain": [
       "'TH'"
      ]
     },
     "execution_count": 7,
     "metadata": {},
     "output_type": "execute_result"
    }
   ],
   "source": [
    "##  P  Y  T  H  O  N\n",
    "#   0  1  2  3  4  5 \n",
    "\n",
    "#ex: slicing: syntax: var_name[start index: end index+1]\n",
    "x[2:4] # 2,3\n"
   ]
  },
  {
   "cell_type": "code",
   "execution_count": 8,
   "id": "5d28f4af",
   "metadata": {},
   "outputs": [
    {
     "data": {
      "text/plain": [
       "'YTHO'"
      ]
     },
     "execution_count": 8,
     "metadata": {},
     "output_type": "execute_result"
    }
   ],
   "source": [
    "x[1:5] # 1,2,3,4\n"
   ]
  },
  {
   "cell_type": "code",
   "execution_count": 9,
   "id": "c78c5af5",
   "metadata": {},
   "outputs": [
    {
     "ename": "TypeError",
     "evalue": "'str' object does not support item assignment",
     "output_type": "error",
     "traceback": [
      "\u001b[1;31m---------------------------------------------------------------------------\u001b[0m",
      "\u001b[1;31mTypeError\u001b[0m                                 Traceback (most recent call last)",
      "\u001b[1;32m<ipython-input-9-fcee2cd118d0>\u001b[0m in \u001b[0;36m<module>\u001b[1;34m\u001b[0m\n\u001b[0;32m      1\u001b[0m \u001b[1;31m#check mutability\u001b[0m\u001b[1;33m\u001b[0m\u001b[1;33m\u001b[0m\u001b[1;33m\u001b[0m\u001b[0m\n\u001b[1;32m----> 2\u001b[1;33m \u001b[0mx\u001b[0m\u001b[1;33m[\u001b[0m\u001b[1;36m0\u001b[0m\u001b[1;33m]\u001b[0m\u001b[1;33m=\u001b[0m\u001b[1;34m'C'\u001b[0m\u001b[1;33m\u001b[0m\u001b[1;33m\u001b[0m\u001b[0m\n\u001b[0m",
      "\u001b[1;31mTypeError\u001b[0m: 'str' object does not support item assignment"
     ]
    }
   ],
   "source": [
    "#check mutability\n",
    "x[0]='C'"
   ]
  },
  {
   "cell_type": "code",
   "execution_count": 10,
   "id": "ef53cca2",
   "metadata": {},
   "outputs": [
    {
     "data": {
      "text/plain": [
       "'PYTHON'"
      ]
     },
     "execution_count": 10,
     "metadata": {},
     "output_type": "execute_result"
    }
   ],
   "source": [
    "x"
   ]
  },
  {
   "cell_type": "code",
   "execution_count": 11,
   "id": "e1f8b25b",
   "metadata": {},
   "outputs": [
    {
     "ename": "TypeError",
     "evalue": "'str' object does not support item assignment",
     "output_type": "error",
     "traceback": [
      "\u001b[1;31m---------------------------------------------------------------------------\u001b[0m",
      "\u001b[1;31mTypeError\u001b[0m                                 Traceback (most recent call last)",
      "\u001b[1;32m<ipython-input-11-1eaa4ed7e136>\u001b[0m in \u001b[0;36m<module>\u001b[1;34m\u001b[0m\n\u001b[1;32m----> 1\u001b[1;33m \u001b[0mx\u001b[0m\u001b[1;33m[\u001b[0m\u001b[1;36m0\u001b[0m\u001b[1;33m]\u001b[0m\u001b[1;33m=\u001b[0m\u001b[1;34m'C'\u001b[0m\u001b[1;33m\u001b[0m\u001b[1;33m\u001b[0m\u001b[0m\n\u001b[0m",
      "\u001b[1;31mTypeError\u001b[0m: 'str' object does not support item assignment"
     ]
    }
   ],
   "source": [
    "x[0]='C'\n"
   ]
  },
  {
   "cell_type": "code",
   "execution_count": 13,
   "id": "0a3bb88a",
   "metadata": {},
   "outputs": [],
   "source": [
    "#tuple: set of heterogeneous(different) elements\n",
    "#syntax: var_name=(e1,e2,e3,.........en)\n",
    "tup=(10,20,'Mary', 'Python',85.67,22.9)"
   ]
  },
  {
   "cell_type": "code",
   "execution_count": 14,
   "id": "700ff489",
   "metadata": {},
   "outputs": [
    {
     "data": {
      "text/plain": [
       "tuple"
      ]
     },
     "execution_count": 14,
     "metadata": {},
     "output_type": "execute_result"
    }
   ],
   "source": [
    "type(tup)"
   ]
  },
  {
   "cell_type": "code",
   "execution_count": 15,
   "id": "c496b847",
   "metadata": {},
   "outputs": [
    {
     "data": {
      "text/plain": [
       "85.67"
      ]
     },
     "execution_count": 15,
     "metadata": {},
     "output_type": "execute_result"
    }
   ],
   "source": [
    "#indexing & slicing on tuples\n",
    "tup[4]"
   ]
  },
  {
   "cell_type": "code",
   "execution_count": 16,
   "id": "0b7ae0b0",
   "metadata": {},
   "outputs": [
    {
     "data": {
      "text/plain": [
       "('Mary', 'Python', 85.67)"
      ]
     },
     "execution_count": 16,
     "metadata": {},
     "output_type": "execute_result"
    }
   ],
   "source": [
    "tup[2:5] #2,3,4"
   ]
  },
  {
   "cell_type": "code",
   "execution_count": 17,
   "id": "7a151748",
   "metadata": {},
   "outputs": [
    {
     "ename": "TypeError",
     "evalue": "'tuple' object does not support item assignment",
     "output_type": "error",
     "traceback": [
      "\u001b[1;31m---------------------------------------------------------------------------\u001b[0m",
      "\u001b[1;31mTypeError\u001b[0m                                 Traceback (most recent call last)",
      "\u001b[1;32m<ipython-input-17-2655d51bfc4a>\u001b[0m in \u001b[0;36m<module>\u001b[1;34m\u001b[0m\n\u001b[0;32m      1\u001b[0m \u001b[1;31m#check the mutability\u001b[0m\u001b[1;33m\u001b[0m\u001b[1;33m\u001b[0m\u001b[1;33m\u001b[0m\u001b[0m\n\u001b[1;32m----> 2\u001b[1;33m \u001b[0mtup\u001b[0m\u001b[1;33m[\u001b[0m\u001b[1;36m0\u001b[0m\u001b[1;33m]\u001b[0m\u001b[1;33m=\u001b[0m\u001b[1;36m100\u001b[0m\u001b[1;33m\u001b[0m\u001b[1;33m\u001b[0m\u001b[0m\n\u001b[0m",
      "\u001b[1;31mTypeError\u001b[0m: 'tuple' object does not support item assignment"
     ]
    }
   ],
   "source": [
    "#check the mutability\n",
    "tup[0]=100"
   ]
  },
  {
   "cell_type": "code",
   "execution_count": 19,
   "id": "c5f6b4d5",
   "metadata": {},
   "outputs": [
    {
     "data": {
      "text/plain": [
       "[10, 20, 'Mary', 'Python', 85.67, 22.9]"
      ]
     },
     "execution_count": 19,
     "metadata": {},
     "output_type": "execute_result"
    }
   ],
   "source": [
    "#Mutable Data Types: \n",
    "#List: set of heterogeneous (different) elements\n",
    "#syntax: var_name=[e1,e2,e3,.........en]\n",
    "my_list=[10,20,'Mary', 'Python',85.67,22.9]\n",
    "my_list"
   ]
  },
  {
   "cell_type": "code",
   "execution_count": 20,
   "id": "ccdaf77c",
   "metadata": {},
   "outputs": [
    {
     "data": {
      "text/plain": [
       "list"
      ]
     },
     "execution_count": 20,
     "metadata": {},
     "output_type": "execute_result"
    }
   ],
   "source": [
    "type(my_list)"
   ]
  },
  {
   "cell_type": "code",
   "execution_count": 21,
   "id": "077f0e2f",
   "metadata": {},
   "outputs": [
    {
     "data": {
      "text/plain": [
       "85.67"
      ]
     },
     "execution_count": 21,
     "metadata": {},
     "output_type": "execute_result"
    }
   ],
   "source": [
    "#indexing and slicing \n",
    "my_list[4]"
   ]
  },
  {
   "cell_type": "code",
   "execution_count": 22,
   "id": "a9cb8c6e",
   "metadata": {},
   "outputs": [
    {
     "data": {
      "text/plain": [
       "'Python'"
      ]
     },
     "execution_count": 22,
     "metadata": {},
     "output_type": "execute_result"
    }
   ],
   "source": [
    "my_list[3]"
   ]
  },
  {
   "cell_type": "code",
   "execution_count": 23,
   "id": "d7b58d45",
   "metadata": {},
   "outputs": [
    {
     "data": {
      "text/plain": [
       "[10, 20, 'Mary', 'Python']"
      ]
     },
     "execution_count": 23,
     "metadata": {},
     "output_type": "execute_result"
    }
   ],
   "source": [
    "my_list[0:4]"
   ]
  },
  {
   "cell_type": "code",
   "execution_count": 24,
   "id": "aaa792d7",
   "metadata": {},
   "outputs": [],
   "source": [
    "my_list[0]=100"
   ]
  },
  {
   "cell_type": "code",
   "execution_count": 25,
   "id": "4e3961fb",
   "metadata": {},
   "outputs": [
    {
     "data": {
      "text/plain": [
       "[100, 20, 'Mary', 'Python', 85.67, 22.9]"
      ]
     },
     "execution_count": 25,
     "metadata": {},
     "output_type": "execute_result"
    }
   ],
   "source": [
    "my_list"
   ]
  },
  {
   "cell_type": "code",
   "execution_count": 44,
   "id": "50882e4b",
   "metadata": {},
   "outputs": [],
   "source": [
    "#ADDING ELEMENTS IN TO THE LIST\n",
    "my_list.append(777)\n",
    "my_list[7]\n",
    "\n",
    "#ADDING NEW ELEMENT\n",
    "my_list.append('New Element')"
   ]
  },
  {
   "cell_type": "code",
   "execution_count": 30,
   "id": "8982d1d8",
   "metadata": {},
   "outputs": [
    {
     "data": {
      "text/plain": [
       "[100, 20, 'Mary', 'Python', 85.67, 22.9, 777, 777, 777]"
      ]
     },
     "execution_count": 30,
     "metadata": {},
     "output_type": "execute_result"
    }
   ],
   "source": [
    "my_list"
   ]
  },
  {
   "cell_type": "code",
   "execution_count": 34,
   "id": "1a03d63b",
   "metadata": {},
   "outputs": [
    {
     "data": {
      "text/plain": [
       "[100, 20, 73, 73, 'Mary', 'Python', 85.67, 22.9, 777, 777, 777]"
      ]
     },
     "execution_count": 34,
     "metadata": {},
     "output_type": "execute_result"
    }
   ],
   "source": [
    "# append at a specified index\n",
    "my_list.insert(2,73)\n",
    "my_list"
   ]
  },
  {
   "cell_type": "code",
   "execution_count": 33,
   "id": "1e1c9a3f",
   "metadata": {},
   "outputs": [
    {
     "data": {
      "text/plain": [
       "73"
      ]
     },
     "execution_count": 33,
     "metadata": {},
     "output_type": "execute_result"
    }
   ],
   "source": [
    "#POP FUNCTION\n",
    "my_list.pop(3)"
   ]
  },
  {
   "cell_type": "code",
   "execution_count": 35,
   "id": "707bf205",
   "metadata": {},
   "outputs": [
    {
     "data": {
      "text/plain": [
       "[100, 20, 73, 73, 'Mary', 'Python', 85.67, 22.9, 777, 777, 777]"
      ]
     },
     "execution_count": 35,
     "metadata": {},
     "output_type": "execute_result"
    }
   ],
   "source": [
    "my_list"
   ]
  },
  {
   "cell_type": "code",
   "execution_count": 37,
   "id": "02656fc6",
   "metadata": {},
   "outputs": [
    {
     "data": {
      "text/plain": [
       "73"
      ]
     },
     "execution_count": 37,
     "metadata": {},
     "output_type": "execute_result"
    }
   ],
   "source": [
    "my_list.pop(2)"
   ]
  },
  {
   "cell_type": "code",
   "execution_count": 38,
   "id": "3576e52e",
   "metadata": {},
   "outputs": [
    {
     "data": {
      "text/plain": [
       "[100, 20, 73, 'Mary', 'Python', 85.67, 22.9, 777, 777, 777]"
      ]
     },
     "execution_count": 38,
     "metadata": {},
     "output_type": "execute_result"
    }
   ],
   "source": [
    "my_list"
   ]
  },
  {
   "cell_type": "code",
   "execution_count": 40,
   "id": "fd7f310b",
   "metadata": {},
   "outputs": [
    {
     "data": {
      "text/plain": [
       "777"
      ]
     },
     "execution_count": 40,
     "metadata": {},
     "output_type": "execute_result"
    }
   ],
   "source": [
    "my_list.pop(7)"
   ]
  },
  {
   "cell_type": "code",
   "execution_count": 41,
   "id": "f8e1892b",
   "metadata": {},
   "outputs": [
    {
     "data": {
      "text/plain": [
       "[100, 20, 73, 'Mary', 'Python', 85.67, 22.9, 777, 777]"
      ]
     },
     "execution_count": 41,
     "metadata": {},
     "output_type": "execute_result"
    }
   ],
   "source": [
    "my_list"
   ]
  },
  {
   "cell_type": "code",
   "execution_count": 42,
   "id": "2f2a7780",
   "metadata": {},
   "outputs": [
    {
     "data": {
      "text/plain": [
       "777"
      ]
     },
     "execution_count": 42,
     "metadata": {},
     "output_type": "execute_result"
    }
   ],
   "source": [
    "my_list.pop(7)"
   ]
  },
  {
   "cell_type": "code",
   "execution_count": 43,
   "id": "f1eae324",
   "metadata": {},
   "outputs": [
    {
     "data": {
      "text/plain": [
       "[100, 20, 73, 'Mary', 'Python', 85.67, 22.9, 777]"
      ]
     },
     "execution_count": 43,
     "metadata": {},
     "output_type": "execute_result"
    }
   ],
   "source": [
    "my_list"
   ]
  },
  {
   "cell_type": "code",
   "execution_count": null,
   "id": "4ac26df7",
   "metadata": {},
   "outputs": [],
   "source": [
    "#to remove the elements\n",
    "#syntax: my_list.remove(element to be removed)\n"
   ]
  },
  {
   "cell_type": "code",
   "execution_count": 45,
   "id": "9640175e",
   "metadata": {},
   "outputs": [
    {
     "data": {
      "text/plain": [
       "[100, 20, 73, 'Mary', 'Python', 85.67, 22.9, 777, 777, 'New Element']"
      ]
     },
     "execution_count": 45,
     "metadata": {},
     "output_type": "execute_result"
    }
   ],
   "source": [
    "my_list"
   ]
  },
  {
   "cell_type": "code",
   "execution_count": 46,
   "id": "8becb8f6",
   "metadata": {},
   "outputs": [],
   "source": [
    "my_list.remove('New Element')"
   ]
  },
  {
   "cell_type": "code",
   "execution_count": 47,
   "id": "73e8e407",
   "metadata": {},
   "outputs": [
    {
     "data": {
      "text/plain": [
       "[100, 20, 73, 'Mary', 'Python', 85.67, 22.9, 777, 777]"
      ]
     },
     "execution_count": 47,
     "metadata": {},
     "output_type": "execute_result"
    }
   ],
   "source": [
    "my_list"
   ]
  },
  {
   "cell_type": "code",
   "execution_count": 48,
   "id": "8c997995",
   "metadata": {},
   "outputs": [
    {
     "data": {
      "text/plain": [
       "777"
      ]
     },
     "execution_count": 48,
     "metadata": {},
     "output_type": "execute_result"
    }
   ],
   "source": [
    "my_list.pop(7)"
   ]
  },
  {
   "cell_type": "code",
   "execution_count": 49,
   "id": "9b874f26",
   "metadata": {},
   "outputs": [
    {
     "data": {
      "text/plain": [
       "[100, 20, 73, 'Mary', 'Python', 85.67, 22.9, 777]"
      ]
     },
     "execution_count": 49,
     "metadata": {},
     "output_type": "execute_result"
    }
   ],
   "source": [
    "my_list"
   ]
  },
  {
   "cell_type": "code",
   "execution_count": null,
   "id": "6afa416f",
   "metadata": {},
   "outputs": [],
   "source": [
    "#summary:\n",
    "#remove element-> pop ---> index-----> remove-----> value\n",
    "#adding element-> insert--> index------> value\n"
   ]
  },
  {
   "cell_type": "code",
   "execution_count": null,
   "id": "22ad6009",
   "metadata": {},
   "outputs": [],
   "source": [
    "#Dictionary : helps to store the elements in key:value\n",
    "#user defined indexes -----> key\n",
    "#syntax: var_name={k1:v1,k2:v2,... kn:vn}\n",
    "#key: can be any data format------> int,float,string\n",
    "#value: can be any data format--------> int, float, string"
   ]
  },
  {
   "cell_type": "code",
   "execution_count": 51,
   "id": "c368f9e2",
   "metadata": {},
   "outputs": [
    {
     "data": {
      "text/plain": [
       "{'james': 25, 'mary': 30, 'john': 80, 'peter': 50}"
      ]
     },
     "execution_count": 51,
     "metadata": {},
     "output_type": "execute_result"
    }
   ],
   "source": [
    "#ex:\n",
    "age={'james':25,'mary':30,'john':80,'peter':50}\n",
    "age"
   ]
  },
  {
   "cell_type": "code",
   "execution_count": 52,
   "id": "276a091f",
   "metadata": {},
   "outputs": [
    {
     "data": {
      "text/plain": [
       "dict"
      ]
     },
     "execution_count": 52,
     "metadata": {},
     "output_type": "execute_result"
    }
   ],
   "source": [
    "type(age)"
   ]
  },
  {
   "cell_type": "code",
   "execution_count": 53,
   "id": "2180ee6d",
   "metadata": {},
   "outputs": [
    {
     "ename": "KeyError",
     "evalue": "0",
     "output_type": "error",
     "traceback": [
      "\u001b[1;31m---------------------------------------------------------------------------\u001b[0m",
      "\u001b[1;31mKeyError\u001b[0m                                  Traceback (most recent call last)",
      "\u001b[1;32m<ipython-input-53-69422e1996b1>\u001b[0m in \u001b[0;36m<module>\u001b[1;34m\u001b[0m\n\u001b[1;32m----> 1\u001b[1;33m \u001b[0mage\u001b[0m\u001b[1;33m[\u001b[0m\u001b[1;36m0\u001b[0m\u001b[1;33m]\u001b[0m\u001b[1;33m\u001b[0m\u001b[1;33m\u001b[0m\u001b[0m\n\u001b[0m",
      "\u001b[1;31mKeyError\u001b[0m: 0"
     ]
    }
   ],
   "source": [
    "age[0]"
   ]
  },
  {
   "cell_type": "code",
   "execution_count": 54,
   "id": "34eb268b",
   "metadata": {},
   "outputs": [
    {
     "data": {
      "text/plain": [
       "30"
      ]
     },
     "execution_count": 54,
     "metadata": {},
     "output_type": "execute_result"
    }
   ],
   "source": [
    "age['mary']"
   ]
  },
  {
   "cell_type": "code",
   "execution_count": 55,
   "id": "84840c8e",
   "metadata": {},
   "outputs": [
    {
     "data": {
      "text/plain": [
       "80"
      ]
     },
     "execution_count": 55,
     "metadata": {},
     "output_type": "execute_result"
    }
   ],
   "source": [
    "age['john']"
   ]
  },
  {
   "cell_type": "code",
   "execution_count": 57,
   "id": "2f937bcb",
   "metadata": {},
   "outputs": [],
   "source": [
    "age={85:44.67,'james':25,'mary':30,'john':80,'peter':50}"
   ]
  },
  {
   "cell_type": "code",
   "execution_count": 58,
   "id": "15286b1f",
   "metadata": {},
   "outputs": [
    {
     "data": {
      "text/plain": [
       "{85: 44.67, 'james': 25, 'mary': 30, 'john': 80, 'peter': 50}"
      ]
     },
     "execution_count": 58,
     "metadata": {},
     "output_type": "execute_result"
    }
   ],
   "source": [
    "age"
   ]
  },
  {
   "cell_type": "code",
   "execution_count": 61,
   "id": "cd3c439d",
   "metadata": {},
   "outputs": [],
   "source": [
    "region={1:'INDIA',2:'USA',3:'CANADA',4:'AUSTRALIA'}"
   ]
  },
  {
   "cell_type": "code",
   "execution_count": 62,
   "id": "69e9906b",
   "metadata": {},
   "outputs": [
    {
     "data": {
      "text/plain": [
       "{1: 'INDIA', 2: 'USA', 3: 'CANADA', 4: 'AUSTRALIA'}"
      ]
     },
     "execution_count": 62,
     "metadata": {},
     "output_type": "execute_result"
    }
   ],
   "source": [
    "region"
   ]
  },
  {
   "cell_type": "code",
   "execution_count": 63,
   "id": "0357d3c4",
   "metadata": {},
   "outputs": [
    {
     "data": {
      "text/plain": [
       "'USA'"
      ]
     },
     "execution_count": 63,
     "metadata": {},
     "output_type": "execute_result"
    }
   ],
   "source": [
    "region[2]"
   ]
  },
  {
   "cell_type": "code",
   "execution_count": 64,
   "id": "a7ba2835",
   "metadata": {},
   "outputs": [],
   "source": [
    "#add key value pair to dictionary\n",
    "region[5]='ISRAEL'"
   ]
  },
  {
   "cell_type": "code",
   "execution_count": 65,
   "id": "34eaf422",
   "metadata": {},
   "outputs": [
    {
     "data": {
      "text/plain": [
       "{1: 'INDIA', 2: 'USA', 3: 'CANADA', 4: 'AUSTRALIA', 5: 'ISRAEL'}"
      ]
     },
     "execution_count": 65,
     "metadata": {},
     "output_type": "execute_result"
    }
   ],
   "source": [
    "region"
   ]
  },
  {
   "cell_type": "code",
   "execution_count": 69,
   "id": "487f998e",
   "metadata": {},
   "outputs": [],
   "source": [
    "#removing the elements\n",
    "del region[5]"
   ]
  },
  {
   "cell_type": "code",
   "execution_count": 70,
   "id": "c751ad1f",
   "metadata": {},
   "outputs": [
    {
     "data": {
      "text/plain": [
       "{1: 'INDIA', 2: 'USA', 3: 'CANADA', 4: 'AUSTRALIA'}"
      ]
     },
     "execution_count": 70,
     "metadata": {},
     "output_type": "execute_result"
    }
   ],
   "source": [
    "region"
   ]
  },
  {
   "cell_type": "code",
   "execution_count": null,
   "id": "42e71ed7",
   "metadata": {},
   "outputs": [],
   "source": [
    "#Sets: It is a list of unordered, unindexed elements\n",
    "#It helps to remove all the duplicate elements from the collection\n",
    "#syntax: var_name={e1,e2,e3.....en}"
   ]
  },
  {
   "cell_type": "code",
   "execution_count": 73,
   "id": "af51142f",
   "metadata": {},
   "outputs": [
    {
     "data": {
      "text/plain": [
       "{1, 2, 3, 4, 5, 6, 7, 54, 89, 444, 682, 878, 2134}"
      ]
     },
     "execution_count": 73,
     "metadata": {},
     "output_type": "execute_result"
    }
   ],
   "source": [
    "#EX:\n",
    "set_demo={1,2,3,4,5,682,3,5,6,1,3,5,7,54,4,444,878,2134,89}\n",
    "set_demo"
   ]
  },
  {
   "cell_type": "code",
   "execution_count": 75,
   "id": "767303f1",
   "metadata": {},
   "outputs": [
    {
     "data": {
      "text/plain": [
       "{1, 2, 3, 4, 5, 6, 7, 54, 89, 444, 682, 878, 2134}"
      ]
     },
     "execution_count": 75,
     "metadata": {},
     "output_type": "execute_result"
    }
   ],
   "source": [
    "list1={1,2,3,4,5,682,3,5,6,1,3,5,7,54,4,444,878,2134,89}\n",
    "set(list1)"
   ]
  },
  {
   "cell_type": "code",
   "execution_count": null,
   "id": "069d1c09",
   "metadata": {},
   "outputs": [],
   "source": []
  }
 ],
 "metadata": {
  "kernelspec": {
   "display_name": "Python 3",
   "language": "python",
   "name": "python3"
  },
  "language_info": {
   "codemirror_mode": {
    "name": "ipython",
    "version": 3
   },
   "file_extension": ".py",
   "mimetype": "text/x-python",
   "name": "python",
   "nbconvert_exporter": "python",
   "pygments_lexer": "ipython3",
   "version": "3.8.8"
  }
 },
 "nbformat": 4,
 "nbformat_minor": 5
}

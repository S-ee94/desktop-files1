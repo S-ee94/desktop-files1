{
 "cells": [
  {
   "cell_type": "code",
   "execution_count": 1,
   "id": "2df39d97",
   "metadata": {},
   "outputs": [
    {
     "name": "stdout",
     "output_type": "stream",
     "text": [
      "hello, welcome to python class\n"
     ]
    }
   ],
   "source": [
    "print(\"hello, welcome to python class\")"
   ]
  },
  {
   "cell_type": "code",
   "execution_count": null,
   "id": "b5c78ef7",
   "metadata": {},
   "outputs": [],
   "source": [
    "#Topic 1: Variables: are neutral containers that help store the information."
   ]
  },
  {
   "cell_type": "code",
   "execution_count": 4,
   "id": "91b7c5ef",
   "metadata": {},
   "outputs": [
    {
     "name": "stdout",
     "output_type": "stream",
     "text": [
      "10\n"
     ]
    }
   ],
   "source": [
    "#literals: information storing onto variables.\n",
    "#ex:\n",
    "a=10\n",
    "print(a)"
   ]
  },
  {
   "cell_type": "code",
   "execution_count": 5,
   "id": "738eac2a",
   "metadata": {},
   "outputs": [
    {
     "data": {
      "text/plain": [
       "int"
      ]
     },
     "execution_count": 5,
     "metadata": {},
     "output_type": "execute_result"
    }
   ],
   "source": [
    "#datatypes:\n",
    "#int: all numeric values\n",
    "#float:  all decimal values\n",
    "#string: character values\n",
    "#ex int: \n",
    "type(a)"
   ]
  },
  {
   "cell_type": "code",
   "execution_count": 7,
   "id": "f5c2009f",
   "metadata": {},
   "outputs": [
    {
     "data": {
      "text/plain": [
       "str"
      ]
     },
     "execution_count": 7,
     "metadata": {},
     "output_type": "execute_result"
    }
   ],
   "source": [
    "#ex string: \n",
    "b=\"qwerty\"\n",
    "type(b)"
   ]
  },
  {
   "cell_type": "code",
   "execution_count": 8,
   "id": "60af4b99",
   "metadata": {},
   "outputs": [
    {
     "data": {
      "text/plain": [
       "float"
      ]
     },
     "execution_count": 8,
     "metadata": {},
     "output_type": "execute_result"
    }
   ],
   "source": [
    "#ex float:\n",
    "c=1.23344\n",
    "type(c)"
   ]
  },
  {
   "cell_type": "code",
   "execution_count": 9,
   "id": "83920087",
   "metadata": {},
   "outputs": [
    {
     "name": "stdout",
     "output_type": "stream",
     "text": [
      "actual functionality\n"
     ]
    }
   ],
   "source": [
    "#Python Rules: three golden rules\n",
    "#First Rule\n",
    "# You cannot use any keyword, having predefined functionality like print,type,pandas,for,while,if etc\n",
    "#Ex: First rule\n",
    "print(\"actual functionality\")"
   ]
  },
  {
   "cell_type": "code",
   "execution_count": 11,
   "id": "07fb51a7",
   "metadata": {},
   "outputs": [],
   "source": [
    "print=85 # updated fucntionality"
   ]
  },
  {
   "cell_type": "code",
   "execution_count": 12,
   "id": "c7783bbe",
   "metadata": {},
   "outputs": [
    {
     "ename": "TypeError",
     "evalue": "'int' object is not callable",
     "output_type": "error",
     "traceback": [
      "\u001b[1;31m---------------------------------------------------------------------------\u001b[0m",
      "\u001b[1;31mTypeError\u001b[0m                                 Traceback (most recent call last)",
      "\u001b[1;32m<ipython-input-12-d0a89d657aa3>\u001b[0m in \u001b[0;36m<module>\u001b[1;34m\u001b[0m\n\u001b[1;32m----> 1\u001b[1;33m \u001b[0mprint\u001b[0m\u001b[1;33m(\u001b[0m\u001b[1;34m\"actual functionality\"\u001b[0m\u001b[1;33m)\u001b[0m\u001b[1;33m\u001b[0m\u001b[1;33m\u001b[0m\u001b[0m\n\u001b[0m",
      "\u001b[1;31mTypeError\u001b[0m: 'int' object is not callable"
     ]
    }
   ],
   "source": [
    "print(\"actual functionality\")"
   ]
  },
  {
   "cell_type": "code",
   "execution_count": 14,
   "id": "9521c18f",
   "metadata": {},
   "outputs": [
    {
     "data": {
      "text/plain": [
       "88"
      ]
     },
     "execution_count": 14,
     "metadata": {},
     "output_type": "execute_result"
    }
   ],
   "source": [
    "#second rule: Variable name should start with a letter or _ , it cannot start with numeric value.\n",
    "#example:\n",
    "_ad=88\n",
    "_ad"
   ]
  },
  {
   "cell_type": "code",
   "execution_count": 15,
   "id": "c8c1dee3",
   "metadata": {},
   "outputs": [
    {
     "ename": "SyntaxError",
     "evalue": "invalid syntax (<ipython-input-15-c5c6492e4ec8>, line 1)",
     "output_type": "error",
     "traceback": [
      "\u001b[1;36m  File \u001b[1;32m\"<ipython-input-15-c5c6492e4ec8>\"\u001b[1;36m, line \u001b[1;32m1\u001b[0m\n\u001b[1;33m    1ad=88\u001b[0m\n\u001b[1;37m     ^\u001b[0m\n\u001b[1;31mSyntaxError\u001b[0m\u001b[1;31m:\u001b[0m invalid syntax\n"
     ]
    }
   ],
   "source": [
    "1ad=88\n",
    "1ad"
   ]
  },
  {
   "cell_type": "code",
   "execution_count": 16,
   "id": "f35b4a2c",
   "metadata": {},
   "outputs": [
    {
     "data": {
      "text/plain": [
       "88"
      ]
     },
     "execution_count": 16,
     "metadata": {},
     "output_type": "execute_result"
    }
   ],
   "source": [
    "ad3=88\n",
    "ad3"
   ]
  },
  {
   "cell_type": "code",
   "execution_count": 17,
   "id": "1886c010",
   "metadata": {},
   "outputs": [
    {
     "ename": "SyntaxError",
     "evalue": "invalid syntax (<ipython-input-17-924e2e510c1e>, line 3)",
     "output_type": "error",
     "traceback": [
      "\u001b[1;36m  File \u001b[1;32m\"<ipython-input-17-924e2e510c1e>\"\u001b[1;36m, line \u001b[1;32m3\u001b[0m\n\u001b[1;33m    a$d=12\u001b[0m\n\u001b[1;37m     ^\u001b[0m\n\u001b[1;31mSyntaxError\u001b[0m\u001b[1;31m:\u001b[0m invalid syntax\n"
     ]
    }
   ],
   "source": [
    "#third rule: variable name cannot have any special characters/symbols except underscore\n",
    "#ex:\n",
    "a$d=12\n",
    "a$d"
   ]
  },
  {
   "cell_type": "code",
   "execution_count": 18,
   "id": "90e8e0a1",
   "metadata": {},
   "outputs": [
    {
     "data": {
      "text/plain": [
       "8"
      ]
     },
     "execution_count": 18,
     "metadata": {},
     "output_type": "execute_result"
    }
   ],
   "source": [
    "qwebfiqwbeflkqbegljfbqlweig=8\n",
    "qwebfiqwbeflkqbegljfbqlweig\n"
   ]
  },
  {
   "cell_type": "code",
   "execution_count": 19,
   "id": "6316e004",
   "metadata": {},
   "outputs": [
    {
     "data": {
      "text/plain": [
       "100"
      ]
     },
     "execution_count": 19,
     "metadata": {},
     "output_type": "execute_result"
    }
   ],
   "source": [
    "#assigning literals or information to variables\n",
    "#Static way: storing value in variable manually by using the assignment operator(=)\n",
    "#ex:\n",
    "demo=100\n",
    "demo\n"
   ]
  },
  {
   "cell_type": "code",
   "execution_count": 20,
   "id": "6d256a67",
   "metadata": {},
   "outputs": [
    {
     "name": "stdout",
     "output_type": "stream",
     "text": [
      "74\n"
     ]
    }
   ],
   "source": [
    "#dynamic way: uder defined variable - assign the information to a variable at run time- input\n",
    "#syntax: var_name=input('message shown on the screen')\n",
    "#for input function, by default the datatype woud be str always\n",
    "#ex:\n",
    "demo1=input()"
   ]
  },
  {
   "cell_type": "code",
   "execution_count": 21,
   "id": "23ce8228",
   "metadata": {},
   "outputs": [
    {
     "data": {
      "text/plain": [
       "'74'"
      ]
     },
     "execution_count": 21,
     "metadata": {},
     "output_type": "execute_result"
    }
   ],
   "source": [
    "demo1"
   ]
  },
  {
   "cell_type": "code",
   "execution_count": 22,
   "id": "e3ed59d4",
   "metadata": {},
   "outputs": [
    {
     "name": "stdout",
     "output_type": "stream",
     "text": [
      "enter the number to be stored77\n"
     ]
    }
   ],
   "source": [
    "demo1=input(\"enter the number to be stored\")\n"
   ]
  },
  {
   "cell_type": "code",
   "execution_count": 23,
   "id": "3f6a8da0",
   "metadata": {},
   "outputs": [
    {
     "data": {
      "text/plain": [
       "'77'"
      ]
     },
     "execution_count": 23,
     "metadata": {},
     "output_type": "execute_result"
    }
   ],
   "source": [
    "demo1"
   ]
  },
  {
   "cell_type": "code",
   "execution_count": 24,
   "id": "f49c04a3",
   "metadata": {},
   "outputs": [
    {
     "name": "stdout",
     "output_type": "stream",
     "text": [
      "enter the age66\n"
     ]
    }
   ],
   "source": [
    "#typecasting: conversion of data format into another format\n",
    "# str -> int\n",
    "age=input(\"enter the age\")"
   ]
  },
  {
   "cell_type": "code",
   "execution_count": 25,
   "id": "70f119d7",
   "metadata": {},
   "outputs": [
    {
     "ename": "TypeError",
     "evalue": "can only concatenate str (not \"int\") to str",
     "output_type": "error",
     "traceback": [
      "\u001b[1;31m---------------------------------------------------------------------------\u001b[0m",
      "\u001b[1;31mTypeError\u001b[0m                                 Traceback (most recent call last)",
      "\u001b[1;32m<ipython-input-25-92de3950d89b>\u001b[0m in \u001b[0;36m<module>\u001b[1;34m\u001b[0m\n\u001b[1;32m----> 1\u001b[1;33m \u001b[0mage\u001b[0m\u001b[1;33m+\u001b[0m\u001b[1;36m5\u001b[0m\u001b[1;33m\u001b[0m\u001b[1;33m\u001b[0m\u001b[0m\n\u001b[0m",
      "\u001b[1;31mTypeError\u001b[0m: can only concatenate str (not \"int\") to str"
     ]
    }
   ],
   "source": [
    "age+5"
   ]
  },
  {
   "cell_type": "code",
   "execution_count": 26,
   "id": "06275ce5",
   "metadata": {},
   "outputs": [
    {
     "name": "stdout",
     "output_type": "stream",
     "text": [
      "enter the age44\n"
     ]
    }
   ],
   "source": [
    "# we need to convert the type of age from str to int\n",
    "age=int(input(\"enter the age\"))"
   ]
  },
  {
   "cell_type": "code",
   "execution_count": 27,
   "id": "fc2a1a85",
   "metadata": {},
   "outputs": [
    {
     "data": {
      "text/plain": [
       "49"
      ]
     },
     "execution_count": 27,
     "metadata": {},
     "output_type": "execute_result"
    }
   ],
   "source": [
    "age+5"
   ]
  },
  {
   "cell_type": "code",
   "execution_count": null,
   "id": "2a71cc13",
   "metadata": {},
   "outputs": [],
   "source": [
    "#Topic 2:Data types: there are 2 categories of data types in python\n",
    "#Mutable  Data Type: in which information stored can be changed/altered, once declared\n",
    "#ex: lists,dictionary,sets\n",
    "\n",
    "#Immutable Data Type: in which information stored cannot be changed/altered, once declared\n",
    "#ex: tuples,strings"
   ]
  }
 ],
 "metadata": {
  "kernelspec": {
   "display_name": "Python 3",
   "language": "python",
   "name": "python3"
  },
  "language_info": {
   "codemirror_mode": {
    "name": "ipython",
    "version": 3
   },
   "file_extension": ".py",
   "mimetype": "text/x-python",
   "name": "python",
   "nbconvert_exporter": "python",
   "pygments_lexer": "ipython3",
   "version": "3.8.8"
  }
 },
 "nbformat": 4,
 "nbformat_minor": 5
}

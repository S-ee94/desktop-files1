{
 "cells": [
  {
   "cell_type": "code",
   "execution_count": null,
   "id": "594bacfc",
   "metadata": {},
   "outputs": [],
   "source": [
    "#Conditional Statements\n",
    "#Looping Statements\n",
    "#Functions\n",
    "\n",
    "#conditional statements: helps to control the flow of the execution with the help of certain condition.\n",
    "#helps me in invoking decision making to my code"
   ]
  },
  {
   "cell_type": "code",
   "execution_count": null,
   "id": "d6770832",
   "metadata": {},
   "outputs": [],
   "source": [
    "#if condition: \n",
    "#syntax\n",
    "if condition\n",
    "    task1\n",
    "else:\n",
    "    task2\n",
    "\n",
    "#1) condition------true-------> task1------> get out of the block \n",
    "#2) condition------false------> task2------> get out of the block "
   ]
  },
  {
   "cell_type": "code",
   "execution_count": 1,
   "id": "5d4a47af",
   "metadata": {},
   "outputs": [
    {
     "name": "stdout",
     "output_type": "stream",
     "text": [
      "b is greater than a\n"
     ]
    }
   ],
   "source": [
    "a=200\n",
    "b=238\n",
    "\n",
    "if (a>b): # 200>238-----> False\n",
    "     print(\"a is greater than b\")\n",
    "else: \n",
    "    print(\"b is greater than a\")\n",
    "    "
   ]
  },
  {
   "cell_type": "code",
   "execution_count": 2,
   "id": "c9091c48",
   "metadata": {},
   "outputs": [
    {
     "name": "stdout",
     "output_type": "stream",
     "text": [
      "a is greater than b\n"
     ]
    }
   ],
   "source": [
    "#another example\n",
    "a=2000\n",
    "b=238\n",
    "\n",
    "if (a>b): # 2000>238-----> True\n",
    "     print(\"a is greater than b\")\n",
    "else: \n",
    "    print(\"b is greater than a\")\n",
    "    "
   ]
  },
  {
   "cell_type": "code",
   "execution_count": 3,
   "id": "5337f26d",
   "metadata": {},
   "outputs": [
    {
     "name": "stdout",
     "output_type": "stream",
     "text": [
      "b is greater than a\n"
     ]
    }
   ],
   "source": [
    "a=2000\n",
    "b=2000\n",
    "\n",
    "if (a>b): # 2000>2000-----> False\n",
    "     print(\"a is greater than b\")\n",
    "else: \n",
    "    print(\"b is greater than a\")\n",
    "\n",
    "#wrong output given here.    "
   ]
  },
  {
   "cell_type": "code",
   "execution_count": null,
   "id": "db94f067",
   "metadata": {},
   "outputs": [],
   "source": [
    "#if, elif and else\n",
    "#syntax\n",
    "if condition 1:\n",
    "    task1\n",
    "elif condition 2:   #note: you can 'n' number of elif statements \n",
    "    task2\n",
    "else\n",
    "    task3\n",
    "rest code\n",
    "\n",
    "#1) condition1---true-----task1----->get out of the block\n",
    "#2) condition1---false-----condition2------true-----task2---->get out of the block\n",
    "#3) condition1---false-----condition2------false----task3---->get out of the block\n",
    "    "
   ]
  },
  {
   "cell_type": "code",
   "execution_count": 4,
   "id": "4317538f",
   "metadata": {},
   "outputs": [
    {
     "name": "stdout",
     "output_type": "stream",
     "text": [
      "a is equal to b\n"
     ]
    }
   ],
   "source": [
    "#example\n",
    "a=2000\n",
    "b=2000\n",
    "if a>b:\n",
    "    print(\"a is greater than b\")\n",
    "elif a==b:\n",
    "    print(\"a is equal to b\")\n",
    "else:\n",
    "    print(\"b is greater than a\")\n",
    "    \n",
    "    "
   ]
  },
  {
   "cell_type": "code",
   "execution_count": 5,
   "id": "1a53e204",
   "metadata": {},
   "outputs": [
    {
     "name": "stdout",
     "output_type": "stream",
     "text": [
      "a is greater than b\n"
     ]
    }
   ],
   "source": [
    "#example\n",
    "a=20000\n",
    "b=2000\n",
    "if a>b:\n",
    "    print(\"a is greater than b\")\n",
    "elif a==b:\n",
    "    print(\"a is equal to b\")\n",
    "else:\n",
    "    print(\"b is greater than a\")\n",
    "    "
   ]
  },
  {
   "cell_type": "code",
   "execution_count": 6,
   "id": "55db621b",
   "metadata": {},
   "outputs": [
    {
     "name": "stdout",
     "output_type": "stream",
     "text": [
      "b is greater than a\n"
     ]
    }
   ],
   "source": [
    "#example\n",
    "a=2000\n",
    "b=20000\n",
    "if a>b:\n",
    "    print(\"a is greater than b\")\n",
    "elif a==b:\n",
    "    print(\"a is equal to b\")\n",
    "else:\n",
    "    print(\"b is greater than a\")\n",
    "    "
   ]
  },
  {
   "cell_type": "code",
   "execution_count": 10,
   "id": "5326774c",
   "metadata": {},
   "outputs": [
    {
     "name": "stdout",
     "output_type": "stream",
     "text": [
      "enter the age to be evaluated18\n",
      "The Citizen is eligible to vote\n"
     ]
    }
   ],
   "source": [
    "#problem statement: you need to take an input from the user and after that you have to evaluate using conditional statement\n",
    "# whether the person is eligible to cast vote or not\n",
    "\n",
    "citizen_age=int(input(\"enter the age to be evaluated\"))\n",
    "if citizen_age>18:\n",
    "    print(\"The Citizen is eligible to vote\")\n",
    "elif citizen_age==18:\n",
    "    print(\"The Citizen is eligible to vote\")\n",
    "else:\n",
    "    print(\"The Citizen is not eligible to vote\")"
   ]
  },
  {
   "cell_type": "code",
   "execution_count": null,
   "id": "639bd2e1",
   "metadata": {},
   "outputs": [],
   "source": [
    "#looping statements - used to do the repeatitive tasks \n",
    "#for loop ---> commonly used in anhy programming language but massively used in python\n",
    "#while loop----> conditional loop"
   ]
  },
  {
   "cell_type": "code",
   "execution_count": 13,
   "id": "eb7e6b81",
   "metadata": {},
   "outputs": [
    {
     "data": {
      "text/plain": [
       "[0, 1, 2, 3, 4, 5, 6, 7, 8, 9]"
      ]
     },
     "execution_count": 13,
     "metadata": {},
     "output_type": "execute_result"
    }
   ],
   "source": [
    "list(range(10))"
   ]
  },
  {
   "cell_type": "code",
   "execution_count": 14,
   "id": "38a17c03",
   "metadata": {},
   "outputs": [
    {
     "name": "stdout",
     "output_type": "stream",
     "text": [
      "Python\n",
      "0\n",
      "Python\n",
      "1\n",
      "Python\n",
      "2\n",
      "Python\n",
      "3\n",
      "Python\n",
      "4\n",
      "Python\n",
      "5\n",
      "Python\n",
      "6\n",
      "Python\n",
      "7\n",
      "Python\n",
      "8\n",
      "Python\n",
      "9\n"
     ]
    }
   ],
   "source": [
    "for x in range(10):\n",
    "    print(\"Python\")\n",
    "    print(x)"
   ]
  },
  {
   "cell_type": "code",
   "execution_count": 16,
   "id": "d8eeb813",
   "metadata": {},
   "outputs": [
    {
     "name": "stdout",
     "output_type": "stream",
     "text": [
      "Python\n",
      "Rose\n",
      "13\n",
      "67\n",
      "987\n"
     ]
    }
   ],
   "source": [
    "#example:\n",
    "my_list=['Python','Rose',13,67,987]\n",
    "my_list\n",
    "for x in my_list:\n",
    "    print(x)"
   ]
  },
  {
   "cell_type": "code",
   "execution_count": 17,
   "id": "38c6e045",
   "metadata": {},
   "outputs": [
    {
     "name": "stdout",
     "output_type": "stream",
     "text": [
      "python\n",
      "0\n",
      "python\n",
      "1\n",
      "python\n",
      "2\n",
      "python\n",
      "3\n",
      "python\n",
      "4\n",
      "python\n",
      "5\n",
      "python\n",
      "6\n",
      "python\n",
      "7\n",
      "python\n",
      "8\n",
      "python\n",
      "9\n"
     ]
    }
   ],
   "source": [
    "#while loop\n",
    "x=0\n",
    "while x<10:\n",
    "    print(\"python\")\n",
    "    print(x)\n",
    "    x=x+1"
   ]
  },
  {
   "cell_type": "code",
   "execution_count": null,
   "id": "11dda70e",
   "metadata": {},
   "outputs": [],
   "source": [
    "#functions - help to use the concept of reusability of the code\n",
    "# user defined functions\n",
    "# inbuilt functions\n",
    "# Lambda functions"
   ]
  },
  {
   "cell_type": "code",
   "execution_count": 18,
   "id": "d734e902",
   "metadata": {},
   "outputs": [],
   "source": [
    "#user defined functions\n",
    "def adder(a,b,c):\n",
    "    d=a+b+c\n",
    "    return d"
   ]
  },
  {
   "cell_type": "code",
   "execution_count": 19,
   "id": "8f6a232c",
   "metadata": {},
   "outputs": [
    {
     "data": {
      "text/plain": [
       "10144"
      ]
     },
     "execution_count": 19,
     "metadata": {},
     "output_type": "execute_result"
    }
   ],
   "source": [
    "# call to the function\n",
    "adder(2345,5456,2343)"
   ]
  },
  {
   "cell_type": "code",
   "execution_count": 20,
   "id": "6cb98dba",
   "metadata": {},
   "outputs": [
    {
     "data": {
      "text/plain": [
       "6"
      ]
     },
     "execution_count": 20,
     "metadata": {},
     "output_type": "execute_result"
    }
   ],
   "source": [
    "adder(1,2,3)"
   ]
  },
  {
   "cell_type": "code",
   "execution_count": 21,
   "id": "79bd2e54",
   "metadata": {},
   "outputs": [
    {
     "ename": "TypeError",
     "evalue": "adder() missing 1 required positional argument: 'c'",
     "output_type": "error",
     "traceback": [
      "\u001b[1;31m---------------------------------------------------------------------------\u001b[0m",
      "\u001b[1;31mTypeError\u001b[0m                                 Traceback (most recent call last)",
      "\u001b[1;32m<ipython-input-21-5acc27dcc065>\u001b[0m in \u001b[0;36m<module>\u001b[1;34m\u001b[0m\n\u001b[1;32m----> 1\u001b[1;33m \u001b[0madder\u001b[0m\u001b[1;33m(\u001b[0m\u001b[1;36m1234\u001b[0m\u001b[1;33m,\u001b[0m\u001b[1;36m4567\u001b[0m\u001b[1;33m)\u001b[0m\u001b[1;33m\u001b[0m\u001b[1;33m\u001b[0m\u001b[0m\n\u001b[0m",
      "\u001b[1;31mTypeError\u001b[0m: adder() missing 1 required positional argument: 'c'"
     ]
    }
   ],
   "source": [
    "adder(1234,4567)"
   ]
  },
  {
   "cell_type": "code",
   "execution_count": 23,
   "id": "0d85e6e2",
   "metadata": {},
   "outputs": [
    {
     "data": {
      "text/plain": [
       "2.0"
      ]
     },
     "execution_count": 23,
     "metadata": {},
     "output_type": "execute_result"
    }
   ],
   "source": [
    "#create user defined function taking distance and time-----> returning the speed.\n",
    "def speed_computation(dist,time):\n",
    "    speed=dist/time\n",
    "    return speed\n",
    "speed_computation(10,5)"
   ]
  },
  {
   "cell_type": "code",
   "execution_count": 24,
   "id": "599f2042",
   "metadata": {},
   "outputs": [
    {
     "data": {
      "text/plain": [
       "['Python', 'Rose', 13, 67, 987]"
      ]
     },
     "execution_count": 24,
     "metadata": {},
     "output_type": "execute_result"
    }
   ],
   "source": [
    "#inbuilt functions\n",
    "#example\n",
    "my_list"
   ]
  },
  {
   "cell_type": "code",
   "execution_count": 25,
   "id": "d7fe92c4",
   "metadata": {},
   "outputs": [
    {
     "data": {
      "text/plain": [
       "list"
      ]
     },
     "execution_count": 25,
     "metadata": {},
     "output_type": "execute_result"
    }
   ],
   "source": [
    "#append,pop,insert,remove,type\n",
    "type(my_list)"
   ]
  },
  {
   "cell_type": "code",
   "execution_count": 26,
   "id": "793ff44c",
   "metadata": {},
   "outputs": [
    {
     "data": {
      "text/plain": [
       "5"
      ]
     },
     "execution_count": 26,
     "metadata": {},
     "output_type": "execute_result"
    }
   ],
   "source": [
    "len(my_list) # count of elements"
   ]
  },
  {
   "cell_type": "code",
   "execution_count": 29,
   "id": "927eab9d",
   "metadata": {},
   "outputs": [
    {
     "name": "stdout",
     "output_type": "stream",
     "text": [
      "5\n"
     ]
    }
   ],
   "source": [
    "count=0     # count of elements\n",
    "for i in my_list:\n",
    "    count=count+1\n",
    "print(count)"
   ]
  },
  {
   "cell_type": "code",
   "execution_count": 30,
   "id": "1dc97e5d",
   "metadata": {},
   "outputs": [
    {
     "data": {
      "text/plain": [
       "24"
      ]
     },
     "execution_count": 30,
     "metadata": {},
     "output_type": "execute_result"
    }
   ],
   "source": [
    "#Lambda Function: one liner function and it is very efficient and quick in terms of execution when compared to other functions\n",
    "\n",
    "#example\n",
    "m=lambda a,b,c,d:a*b*c*d\n",
    "m(1,2,3,4)\n"
   ]
  },
  {
   "cell_type": "code",
   "execution_count": 33,
   "id": "f8609309",
   "metadata": {},
   "outputs": [
    {
     "data": {
      "text/plain": [
       "100.0"
      ]
     },
     "execution_count": 33,
     "metadata": {},
     "output_type": "execute_result"
    }
   ],
   "source": [
    "#example - speed computation\n",
    "speed= lambda d,t:d/t\n",
    "speed(1000,10)"
   ]
  }
 ],
 "metadata": {
  "kernelspec": {
   "display_name": "Python 3",
   "language": "python",
   "name": "python3"
  },
  "language_info": {
   "codemirror_mode": {
    "name": "ipython",
    "version": 3
   },
   "file_extension": ".py",
   "mimetype": "text/x-python",
   "name": "python",
   "nbconvert_exporter": "python",
   "pygments_lexer": "ipython3",
   "version": "3.8.8"
  }
 },
 "nbformat": 4,
 "nbformat_minor": 5
}

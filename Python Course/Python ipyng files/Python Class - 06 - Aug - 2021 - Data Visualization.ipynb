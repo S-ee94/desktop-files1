{
 "cells": [
  {
   "cell_type": "markdown",
   "id": "motivated-projector",
   "metadata": {},
   "source": [
    "**Cartograms Using The Folium Module**"
   ]
  },
  {
   "cell_type": "markdown",
   "id": "limited-starter",
   "metadata": {},
   "source": [
    "Now we will create a cartogram using the Folium package. There are other Python packages to create cartograms but Folium is the easiest one to get started. If we require other modules to create maps in some problem statement then we will explore them as well.\n",
    "\n",
    "A cartogram is simply a world map marked with the country-wise or state-wise trend in data. we will create a simple map of Mumbai city to understand the basics of creating a map in Python using the `folium` module.\n"
   ]
  },
  {
   "cell_type": "markdown",
   "id": "spiritual-tourism",
   "metadata": {},
   "source": [
    "#### Cartogram Using The `folium` Module\n",
    "\n",
    "Now, let's a simple map of Mumbai to get started with cartograms. The location coordinates of the Mumbai city is `19.0760` and `72.8777`. To get the coordinates of a city, just google `city_name coordinates`.\n",
    "\n",
    "To create a cartogram (or a map) you first need to import the `folium` module.\n",
    "\n",
    "```\n",
    "import folium\n",
    "```\n",
    "\n",
    "Then you need to call the `Map()` function which exists in the `folium` module. It mandatorily requires the coordinates (latitude and longitude) of a place.\n",
    "\n",
    "```\n",
    "folium.Map(location=[latitude, longitude])\n",
    "```"
   ]
  },
  {
   "cell_type": "code",
   "execution_count": 81,
   "id": "industrial-thanks",
   "metadata": {},
   "outputs": [
    {
     "data": {
      "text/html": [
       "<div style=\"width:100%;\"><div style=\"position:relative;width:100%;height:0;padding-bottom:60%;\"><span style=\"color:#565656\">Make this Notebook Trusted to load map: File -> Trust Notebook</span><iframe src=\"about:blank\" style=\"position:absolute;width:100%;height:100%;left:0;top:0;border:none !important;\" data-html=%3C%21DOCTYPE%20html%3E%0A%3Chead%3E%20%20%20%20%0A%20%20%20%20%3Cmeta%20http-equiv%3D%22content-type%22%20content%3D%22text/html%3B%20charset%3DUTF-8%22%20/%3E%0A%20%20%20%20%0A%20%20%20%20%20%20%20%20%3Cscript%3E%0A%20%20%20%20%20%20%20%20%20%20%20%20L_NO_TOUCH%20%3D%20false%3B%0A%20%20%20%20%20%20%20%20%20%20%20%20L_DISABLE_3D%20%3D%20false%3B%0A%20%20%20%20%20%20%20%20%3C/script%3E%0A%20%20%20%20%0A%20%20%20%20%3Cstyle%3Ehtml%2C%20body%20%7Bwidth%3A%20100%25%3Bheight%3A%20100%25%3Bmargin%3A%200%3Bpadding%3A%200%3B%7D%3C/style%3E%0A%20%20%20%20%3Cstyle%3E%23map%20%7Bposition%3Aabsolute%3Btop%3A0%3Bbottom%3A0%3Bright%3A0%3Bleft%3A0%3B%7D%3C/style%3E%0A%20%20%20%20%3Cscript%20src%3D%22https%3A//cdn.jsdelivr.net/npm/leaflet%401.6.0/dist/leaflet.js%22%3E%3C/script%3E%0A%20%20%20%20%3Cscript%20src%3D%22https%3A//code.jquery.com/jquery-1.12.4.min.js%22%3E%3C/script%3E%0A%20%20%20%20%3Cscript%20src%3D%22https%3A//maxcdn.bootstrapcdn.com/bootstrap/3.2.0/js/bootstrap.min.js%22%3E%3C/script%3E%0A%20%20%20%20%3Cscript%20src%3D%22https%3A//cdnjs.cloudflare.com/ajax/libs/Leaflet.awesome-markers/2.0.2/leaflet.awesome-markers.js%22%3E%3C/script%3E%0A%20%20%20%20%3Clink%20rel%3D%22stylesheet%22%20href%3D%22https%3A//cdn.jsdelivr.net/npm/leaflet%401.6.0/dist/leaflet.css%22/%3E%0A%20%20%20%20%3Clink%20rel%3D%22stylesheet%22%20href%3D%22https%3A//maxcdn.bootstrapcdn.com/bootstrap/3.2.0/css/bootstrap.min.css%22/%3E%0A%20%20%20%20%3Clink%20rel%3D%22stylesheet%22%20href%3D%22https%3A//maxcdn.bootstrapcdn.com/bootstrap/3.2.0/css/bootstrap-theme.min.css%22/%3E%0A%20%20%20%20%3Clink%20rel%3D%22stylesheet%22%20href%3D%22https%3A//maxcdn.bootstrapcdn.com/font-awesome/4.6.3/css/font-awesome.min.css%22/%3E%0A%20%20%20%20%3Clink%20rel%3D%22stylesheet%22%20href%3D%22https%3A//cdnjs.cloudflare.com/ajax/libs/Leaflet.awesome-markers/2.0.2/leaflet.awesome-markers.css%22/%3E%0A%20%20%20%20%3Clink%20rel%3D%22stylesheet%22%20href%3D%22https%3A//cdn.jsdelivr.net/gh/python-visualization/folium/folium/templates/leaflet.awesome.rotate.min.css%22/%3E%0A%20%20%20%20%0A%20%20%20%20%20%20%20%20%20%20%20%20%3Cmeta%20name%3D%22viewport%22%20content%3D%22width%3Ddevice-width%2C%0A%20%20%20%20%20%20%20%20%20%20%20%20%20%20%20%20initial-scale%3D1.0%2C%20maximum-scale%3D1.0%2C%20user-scalable%3Dno%22%20/%3E%0A%20%20%20%20%20%20%20%20%20%20%20%20%3Cstyle%3E%0A%20%20%20%20%20%20%20%20%20%20%20%20%20%20%20%20%23map_a441310c9afb4ad7aad7ace97b5768d9%20%7B%0A%20%20%20%20%20%20%20%20%20%20%20%20%20%20%20%20%20%20%20%20position%3A%20relative%3B%0A%20%20%20%20%20%20%20%20%20%20%20%20%20%20%20%20%20%20%20%20width%3A%20100.0%25%3B%0A%20%20%20%20%20%20%20%20%20%20%20%20%20%20%20%20%20%20%20%20height%3A%20100.0%25%3B%0A%20%20%20%20%20%20%20%20%20%20%20%20%20%20%20%20%20%20%20%20left%3A%200.0%25%3B%0A%20%20%20%20%20%20%20%20%20%20%20%20%20%20%20%20%20%20%20%20top%3A%200.0%25%3B%0A%20%20%20%20%20%20%20%20%20%20%20%20%20%20%20%20%7D%0A%20%20%20%20%20%20%20%20%20%20%20%20%3C/style%3E%0A%20%20%20%20%20%20%20%20%0A%3C/head%3E%0A%3Cbody%3E%20%20%20%20%0A%20%20%20%20%0A%20%20%20%20%20%20%20%20%20%20%20%20%3Cdiv%20class%3D%22folium-map%22%20id%3D%22map_a441310c9afb4ad7aad7ace97b5768d9%22%20%3E%3C/div%3E%0A%20%20%20%20%20%20%20%20%0A%3C/body%3E%0A%3Cscript%3E%20%20%20%20%0A%20%20%20%20%0A%20%20%20%20%20%20%20%20%20%20%20%20var%20map_a441310c9afb4ad7aad7ace97b5768d9%20%3D%20L.map%28%0A%20%20%20%20%20%20%20%20%20%20%20%20%20%20%20%20%22map_a441310c9afb4ad7aad7ace97b5768d9%22%2C%0A%20%20%20%20%20%20%20%20%20%20%20%20%20%20%20%20%7B%0A%20%20%20%20%20%20%20%20%20%20%20%20%20%20%20%20%20%20%20%20center%3A%20%5B19.076%2C%2072.8777%5D%2C%0A%20%20%20%20%20%20%20%20%20%20%20%20%20%20%20%20%20%20%20%20crs%3A%20L.CRS.EPSG3857%2C%0A%20%20%20%20%20%20%20%20%20%20%20%20%20%20%20%20%20%20%20%20zoom%3A%2010%2C%0A%20%20%20%20%20%20%20%20%20%20%20%20%20%20%20%20%20%20%20%20zoomControl%3A%20true%2C%0A%20%20%20%20%20%20%20%20%20%20%20%20%20%20%20%20%20%20%20%20preferCanvas%3A%20false%2C%0A%20%20%20%20%20%20%20%20%20%20%20%20%20%20%20%20%7D%0A%20%20%20%20%20%20%20%20%20%20%20%20%29%3B%0A%0A%20%20%20%20%20%20%20%20%20%20%20%20%0A%0A%20%20%20%20%20%20%20%20%0A%20%20%20%20%0A%20%20%20%20%20%20%20%20%20%20%20%20var%20tile_layer_3350f35bb43148c288ec34049e8d3ffe%20%3D%20L.tileLayer%28%0A%20%20%20%20%20%20%20%20%20%20%20%20%20%20%20%20%22https%3A//%7Bs%7D.tile.openstreetmap.org/%7Bz%7D/%7Bx%7D/%7By%7D.png%22%2C%0A%20%20%20%20%20%20%20%20%20%20%20%20%20%20%20%20%7B%22attribution%22%3A%20%22Data%20by%20%5Cu0026copy%3B%20%5Cu003ca%20href%3D%5C%22http%3A//openstreetmap.org%5C%22%5Cu003eOpenStreetMap%5Cu003c/a%5Cu003e%2C%20under%20%5Cu003ca%20href%3D%5C%22http%3A//www.openstreetmap.org/copyright%5C%22%5Cu003eODbL%5Cu003c/a%5Cu003e.%22%2C%20%22detectRetina%22%3A%20false%2C%20%22maxNativeZoom%22%3A%2018%2C%20%22maxZoom%22%3A%2018%2C%20%22minZoom%22%3A%200%2C%20%22noWrap%22%3A%20false%2C%20%22opacity%22%3A%201%2C%20%22subdomains%22%3A%20%22abc%22%2C%20%22tms%22%3A%20false%7D%0A%20%20%20%20%20%20%20%20%20%20%20%20%29.addTo%28map_a441310c9afb4ad7aad7ace97b5768d9%29%3B%0A%20%20%20%20%20%20%20%20%0A%3C/script%3E onload=\"this.contentDocument.open();this.contentDocument.write(    decodeURIComponent(this.getAttribute('data-html')));this.contentDocument.close();\" allowfullscreen webkitallowfullscreen mozallowfullscreen></iframe></div></div>"
      ],
      "text/plain": [
       "<folium.folium.Map at 0x20990b87f70>"
      ]
     },
     "execution_count": 81,
     "metadata": {},
     "output_type": "execute_result"
    }
   ],
   "source": [
    "import folium\n",
    "mumbai_map = folium.Map(location=[19.0760,72.8777])\n",
    "mumbai_map"
   ]
  },
  {
   "cell_type": "markdown",
   "id": "greatest-assembly",
   "metadata": {},
   "source": [
    "####  The `width` & `height` Parameters\n",
    "\n",
    "You can also set the size of the map by providing two more inputs to the `folium.Map()` function. They are the `width` and `height` values which vary between `'0%'` and `'100%'` for each parameter. "
   ]
  },
  {
   "cell_type": "code",
   "execution_count": 82,
   "id": "talented-supply",
   "metadata": {},
   "outputs": [
    {
     "data": {
      "text/html": [
       "<div style=\"width:100%;\"><div style=\"position:relative;width:100%;height:0;padding-bottom:60%;\"><span style=\"color:#565656\">Make this Notebook Trusted to load map: File -> Trust Notebook</span><iframe src=\"about:blank\" style=\"position:absolute;width:100%;height:100%;left:0;top:0;border:none !important;\" data-html=%3C%21DOCTYPE%20html%3E%0A%3Chead%3E%20%20%20%20%0A%20%20%20%20%3Cmeta%20http-equiv%3D%22content-type%22%20content%3D%22text/html%3B%20charset%3DUTF-8%22%20/%3E%0A%20%20%20%20%0A%20%20%20%20%20%20%20%20%3Cscript%3E%0A%20%20%20%20%20%20%20%20%20%20%20%20L_NO_TOUCH%20%3D%20false%3B%0A%20%20%20%20%20%20%20%20%20%20%20%20L_DISABLE_3D%20%3D%20false%3B%0A%20%20%20%20%20%20%20%20%3C/script%3E%0A%20%20%20%20%0A%20%20%20%20%3Cstyle%3Ehtml%2C%20body%20%7Bwidth%3A%20100%25%3Bheight%3A%20100%25%3Bmargin%3A%200%3Bpadding%3A%200%3B%7D%3C/style%3E%0A%20%20%20%20%3Cstyle%3E%23map%20%7Bposition%3Aabsolute%3Btop%3A0%3Bbottom%3A0%3Bright%3A0%3Bleft%3A0%3B%7D%3C/style%3E%0A%20%20%20%20%3Cscript%20src%3D%22https%3A//cdn.jsdelivr.net/npm/leaflet%401.6.0/dist/leaflet.js%22%3E%3C/script%3E%0A%20%20%20%20%3Cscript%20src%3D%22https%3A//code.jquery.com/jquery-1.12.4.min.js%22%3E%3C/script%3E%0A%20%20%20%20%3Cscript%20src%3D%22https%3A//maxcdn.bootstrapcdn.com/bootstrap/3.2.0/js/bootstrap.min.js%22%3E%3C/script%3E%0A%20%20%20%20%3Cscript%20src%3D%22https%3A//cdnjs.cloudflare.com/ajax/libs/Leaflet.awesome-markers/2.0.2/leaflet.awesome-markers.js%22%3E%3C/script%3E%0A%20%20%20%20%3Clink%20rel%3D%22stylesheet%22%20href%3D%22https%3A//cdn.jsdelivr.net/npm/leaflet%401.6.0/dist/leaflet.css%22/%3E%0A%20%20%20%20%3Clink%20rel%3D%22stylesheet%22%20href%3D%22https%3A//maxcdn.bootstrapcdn.com/bootstrap/3.2.0/css/bootstrap.min.css%22/%3E%0A%20%20%20%20%3Clink%20rel%3D%22stylesheet%22%20href%3D%22https%3A//maxcdn.bootstrapcdn.com/bootstrap/3.2.0/css/bootstrap-theme.min.css%22/%3E%0A%20%20%20%20%3Clink%20rel%3D%22stylesheet%22%20href%3D%22https%3A//maxcdn.bootstrapcdn.com/font-awesome/4.6.3/css/font-awesome.min.css%22/%3E%0A%20%20%20%20%3Clink%20rel%3D%22stylesheet%22%20href%3D%22https%3A//cdnjs.cloudflare.com/ajax/libs/Leaflet.awesome-markers/2.0.2/leaflet.awesome-markers.css%22/%3E%0A%20%20%20%20%3Clink%20rel%3D%22stylesheet%22%20href%3D%22https%3A//cdn.jsdelivr.net/gh/python-visualization/folium/folium/templates/leaflet.awesome.rotate.min.css%22/%3E%0A%20%20%20%20%0A%20%20%20%20%20%20%20%20%20%20%20%20%3Cmeta%20name%3D%22viewport%22%20content%3D%22width%3Ddevice-width%2C%0A%20%20%20%20%20%20%20%20%20%20%20%20%20%20%20%20initial-scale%3D1.0%2C%20maximum-scale%3D1.0%2C%20user-scalable%3Dno%22%20/%3E%0A%20%20%20%20%20%20%20%20%20%20%20%20%3Cstyle%3E%0A%20%20%20%20%20%20%20%20%20%20%20%20%20%20%20%20%23map_c80d88fea04f458d8c9b59b183d7f0d4%20%7B%0A%20%20%20%20%20%20%20%20%20%20%20%20%20%20%20%20%20%20%20%20position%3A%20relative%3B%0A%20%20%20%20%20%20%20%20%20%20%20%20%20%20%20%20%20%20%20%20width%3A%2090.0%25%3B%0A%20%20%20%20%20%20%20%20%20%20%20%20%20%20%20%20%20%20%20%20height%3A%2070.0%25%3B%0A%20%20%20%20%20%20%20%20%20%20%20%20%20%20%20%20%20%20%20%20left%3A%200.0%25%3B%0A%20%20%20%20%20%20%20%20%20%20%20%20%20%20%20%20%20%20%20%20top%3A%200.0%25%3B%0A%20%20%20%20%20%20%20%20%20%20%20%20%20%20%20%20%7D%0A%20%20%20%20%20%20%20%20%20%20%20%20%3C/style%3E%0A%20%20%20%20%20%20%20%20%0A%3C/head%3E%0A%3Cbody%3E%20%20%20%20%0A%20%20%20%20%0A%20%20%20%20%20%20%20%20%20%20%20%20%3Cdiv%20class%3D%22folium-map%22%20id%3D%22map_c80d88fea04f458d8c9b59b183d7f0d4%22%20%3E%3C/div%3E%0A%20%20%20%20%20%20%20%20%0A%3C/body%3E%0A%3Cscript%3E%20%20%20%20%0A%20%20%20%20%0A%20%20%20%20%20%20%20%20%20%20%20%20var%20map_c80d88fea04f458d8c9b59b183d7f0d4%20%3D%20L.map%28%0A%20%20%20%20%20%20%20%20%20%20%20%20%20%20%20%20%22map_c80d88fea04f458d8c9b59b183d7f0d4%22%2C%0A%20%20%20%20%20%20%20%20%20%20%20%20%20%20%20%20%7B%0A%20%20%20%20%20%20%20%20%20%20%20%20%20%20%20%20%20%20%20%20center%3A%20%5B19.076%2C%2072.8777%5D%2C%0A%20%20%20%20%20%20%20%20%20%20%20%20%20%20%20%20%20%20%20%20crs%3A%20L.CRS.EPSG3857%2C%0A%20%20%20%20%20%20%20%20%20%20%20%20%20%20%20%20%20%20%20%20zoom%3A%2010%2C%0A%20%20%20%20%20%20%20%20%20%20%20%20%20%20%20%20%20%20%20%20zoomControl%3A%20true%2C%0A%20%20%20%20%20%20%20%20%20%20%20%20%20%20%20%20%20%20%20%20preferCanvas%3A%20false%2C%0A%20%20%20%20%20%20%20%20%20%20%20%20%20%20%20%20%7D%0A%20%20%20%20%20%20%20%20%20%20%20%20%29%3B%0A%0A%20%20%20%20%20%20%20%20%20%20%20%20%0A%0A%20%20%20%20%20%20%20%20%0A%20%20%20%20%0A%20%20%20%20%20%20%20%20%20%20%20%20var%20tile_layer_8bc3b0d0ff67439d951e3dbdfa6718a8%20%3D%20L.tileLayer%28%0A%20%20%20%20%20%20%20%20%20%20%20%20%20%20%20%20%22https%3A//%7Bs%7D.tile.openstreetmap.org/%7Bz%7D/%7Bx%7D/%7By%7D.png%22%2C%0A%20%20%20%20%20%20%20%20%20%20%20%20%20%20%20%20%7B%22attribution%22%3A%20%22Data%20by%20%5Cu0026copy%3B%20%5Cu003ca%20href%3D%5C%22http%3A//openstreetmap.org%5C%22%5Cu003eOpenStreetMap%5Cu003c/a%5Cu003e%2C%20under%20%5Cu003ca%20href%3D%5C%22http%3A//www.openstreetmap.org/copyright%5C%22%5Cu003eODbL%5Cu003c/a%5Cu003e.%22%2C%20%22detectRetina%22%3A%20false%2C%20%22maxNativeZoom%22%3A%2018%2C%20%22maxZoom%22%3A%2018%2C%20%22minZoom%22%3A%200%2C%20%22noWrap%22%3A%20false%2C%20%22opacity%22%3A%201%2C%20%22subdomains%22%3A%20%22abc%22%2C%20%22tms%22%3A%20false%7D%0A%20%20%20%20%20%20%20%20%20%20%20%20%29.addTo%28map_c80d88fea04f458d8c9b59b183d7f0d4%29%3B%0A%20%20%20%20%20%20%20%20%0A%3C/script%3E onload=\"this.contentDocument.open();this.contentDocument.write(    decodeURIComponent(this.getAttribute('data-html')));this.contentDocument.close();\" allowfullscreen webkitallowfullscreen mozallowfullscreen></iframe></div></div>"
      ],
      "text/plain": [
       "<folium.folium.Map at 0x20990c60a90>"
      ]
     },
     "execution_count": 82,
     "metadata": {},
     "output_type": "execute_result"
    }
   ],
   "source": [
    "import folium\n",
    "mumbai_map = folium.Map(location=[19.0760,72.8777],width = '90%',height = '70%')\n",
    "mumbai_map"
   ]
  },
  {
   "cell_type": "markdown",
   "id": "dressed-intervention",
   "metadata": {},
   "source": [
    "#### The `zoom_start` Parameter^^\n",
    "\n",
    "You can also set the initial zoom value using the `zoom_start` parameter inside the `folium.Map()` function, if you want to start the map with either a closer view or a farther view of the location in the map."
   ]
  },
  {
   "cell_type": "code",
   "execution_count": 83,
   "id": "specified-colombia",
   "metadata": {},
   "outputs": [
    {
     "data": {
      "text/html": [
       "<div style=\"width:100%;\"><div style=\"position:relative;width:100%;height:0;padding-bottom:60%;\"><span style=\"color:#565656\">Make this Notebook Trusted to load map: File -> Trust Notebook</span><iframe src=\"about:blank\" style=\"position:absolute;width:100%;height:100%;left:0;top:0;border:none !important;\" data-html=%3C%21DOCTYPE%20html%3E%0A%3Chead%3E%20%20%20%20%0A%20%20%20%20%3Cmeta%20http-equiv%3D%22content-type%22%20content%3D%22text/html%3B%20charset%3DUTF-8%22%20/%3E%0A%20%20%20%20%0A%20%20%20%20%20%20%20%20%3Cscript%3E%0A%20%20%20%20%20%20%20%20%20%20%20%20L_NO_TOUCH%20%3D%20false%3B%0A%20%20%20%20%20%20%20%20%20%20%20%20L_DISABLE_3D%20%3D%20false%3B%0A%20%20%20%20%20%20%20%20%3C/script%3E%0A%20%20%20%20%0A%20%20%20%20%3Cstyle%3Ehtml%2C%20body%20%7Bwidth%3A%20100%25%3Bheight%3A%20100%25%3Bmargin%3A%200%3Bpadding%3A%200%3B%7D%3C/style%3E%0A%20%20%20%20%3Cstyle%3E%23map%20%7Bposition%3Aabsolute%3Btop%3A0%3Bbottom%3A0%3Bright%3A0%3Bleft%3A0%3B%7D%3C/style%3E%0A%20%20%20%20%3Cscript%20src%3D%22https%3A//cdn.jsdelivr.net/npm/leaflet%401.6.0/dist/leaflet.js%22%3E%3C/script%3E%0A%20%20%20%20%3Cscript%20src%3D%22https%3A//code.jquery.com/jquery-1.12.4.min.js%22%3E%3C/script%3E%0A%20%20%20%20%3Cscript%20src%3D%22https%3A//maxcdn.bootstrapcdn.com/bootstrap/3.2.0/js/bootstrap.min.js%22%3E%3C/script%3E%0A%20%20%20%20%3Cscript%20src%3D%22https%3A//cdnjs.cloudflare.com/ajax/libs/Leaflet.awesome-markers/2.0.2/leaflet.awesome-markers.js%22%3E%3C/script%3E%0A%20%20%20%20%3Clink%20rel%3D%22stylesheet%22%20href%3D%22https%3A//cdn.jsdelivr.net/npm/leaflet%401.6.0/dist/leaflet.css%22/%3E%0A%20%20%20%20%3Clink%20rel%3D%22stylesheet%22%20href%3D%22https%3A//maxcdn.bootstrapcdn.com/bootstrap/3.2.0/css/bootstrap.min.css%22/%3E%0A%20%20%20%20%3Clink%20rel%3D%22stylesheet%22%20href%3D%22https%3A//maxcdn.bootstrapcdn.com/bootstrap/3.2.0/css/bootstrap-theme.min.css%22/%3E%0A%20%20%20%20%3Clink%20rel%3D%22stylesheet%22%20href%3D%22https%3A//maxcdn.bootstrapcdn.com/font-awesome/4.6.3/css/font-awesome.min.css%22/%3E%0A%20%20%20%20%3Clink%20rel%3D%22stylesheet%22%20href%3D%22https%3A//cdnjs.cloudflare.com/ajax/libs/Leaflet.awesome-markers/2.0.2/leaflet.awesome-markers.css%22/%3E%0A%20%20%20%20%3Clink%20rel%3D%22stylesheet%22%20href%3D%22https%3A//cdn.jsdelivr.net/gh/python-visualization/folium/folium/templates/leaflet.awesome.rotate.min.css%22/%3E%0A%20%20%20%20%0A%20%20%20%20%20%20%20%20%20%20%20%20%3Cmeta%20name%3D%22viewport%22%20content%3D%22width%3Ddevice-width%2C%0A%20%20%20%20%20%20%20%20%20%20%20%20%20%20%20%20initial-scale%3D1.0%2C%20maximum-scale%3D1.0%2C%20user-scalable%3Dno%22%20/%3E%0A%20%20%20%20%20%20%20%20%20%20%20%20%3Cstyle%3E%0A%20%20%20%20%20%20%20%20%20%20%20%20%20%20%20%20%23map_077402132db747d6bdeb24242fe1d522%20%7B%0A%20%20%20%20%20%20%20%20%20%20%20%20%20%20%20%20%20%20%20%20position%3A%20relative%3B%0A%20%20%20%20%20%20%20%20%20%20%20%20%20%20%20%20%20%20%20%20width%3A%2090.0%25%3B%0A%20%20%20%20%20%20%20%20%20%20%20%20%20%20%20%20%20%20%20%20height%3A%2070.0%25%3B%0A%20%20%20%20%20%20%20%20%20%20%20%20%20%20%20%20%20%20%20%20left%3A%200.0%25%3B%0A%20%20%20%20%20%20%20%20%20%20%20%20%20%20%20%20%20%20%20%20top%3A%200.0%25%3B%0A%20%20%20%20%20%20%20%20%20%20%20%20%20%20%20%20%7D%0A%20%20%20%20%20%20%20%20%20%20%20%20%3C/style%3E%0A%20%20%20%20%20%20%20%20%0A%3C/head%3E%0A%3Cbody%3E%20%20%20%20%0A%20%20%20%20%0A%20%20%20%20%20%20%20%20%20%20%20%20%3Cdiv%20class%3D%22folium-map%22%20id%3D%22map_077402132db747d6bdeb24242fe1d522%22%20%3E%3C/div%3E%0A%20%20%20%20%20%20%20%20%0A%3C/body%3E%0A%3Cscript%3E%20%20%20%20%0A%20%20%20%20%0A%20%20%20%20%20%20%20%20%20%20%20%20var%20map_077402132db747d6bdeb24242fe1d522%20%3D%20L.map%28%0A%20%20%20%20%20%20%20%20%20%20%20%20%20%20%20%20%22map_077402132db747d6bdeb24242fe1d522%22%2C%0A%20%20%20%20%20%20%20%20%20%20%20%20%20%20%20%20%7B%0A%20%20%20%20%20%20%20%20%20%20%20%20%20%20%20%20%20%20%20%20center%3A%20%5B19.076%2C%2072.8777%5D%2C%0A%20%20%20%20%20%20%20%20%20%20%20%20%20%20%20%20%20%20%20%20crs%3A%20L.CRS.EPSG3857%2C%0A%20%20%20%20%20%20%20%20%20%20%20%20%20%20%20%20%20%20%20%20zoom%3A%2015%2C%0A%20%20%20%20%20%20%20%20%20%20%20%20%20%20%20%20%20%20%20%20zoomControl%3A%20true%2C%0A%20%20%20%20%20%20%20%20%20%20%20%20%20%20%20%20%20%20%20%20preferCanvas%3A%20false%2C%0A%20%20%20%20%20%20%20%20%20%20%20%20%20%20%20%20%7D%0A%20%20%20%20%20%20%20%20%20%20%20%20%29%3B%0A%0A%20%20%20%20%20%20%20%20%20%20%20%20%0A%0A%20%20%20%20%20%20%20%20%0A%20%20%20%20%0A%20%20%20%20%20%20%20%20%20%20%20%20var%20tile_layer_70fe95fa56e04ffb8f3c7305816639c2%20%3D%20L.tileLayer%28%0A%20%20%20%20%20%20%20%20%20%20%20%20%20%20%20%20%22https%3A//%7Bs%7D.tile.openstreetmap.org/%7Bz%7D/%7Bx%7D/%7By%7D.png%22%2C%0A%20%20%20%20%20%20%20%20%20%20%20%20%20%20%20%20%7B%22attribution%22%3A%20%22Data%20by%20%5Cu0026copy%3B%20%5Cu003ca%20href%3D%5C%22http%3A//openstreetmap.org%5C%22%5Cu003eOpenStreetMap%5Cu003c/a%5Cu003e%2C%20under%20%5Cu003ca%20href%3D%5C%22http%3A//www.openstreetmap.org/copyright%5C%22%5Cu003eODbL%5Cu003c/a%5Cu003e.%22%2C%20%22detectRetina%22%3A%20false%2C%20%22maxNativeZoom%22%3A%2018%2C%20%22maxZoom%22%3A%2018%2C%20%22minZoom%22%3A%200%2C%20%22noWrap%22%3A%20false%2C%20%22opacity%22%3A%201%2C%20%22subdomains%22%3A%20%22abc%22%2C%20%22tms%22%3A%20false%7D%0A%20%20%20%20%20%20%20%20%20%20%20%20%29.addTo%28map_077402132db747d6bdeb24242fe1d522%29%3B%0A%20%20%20%20%20%20%20%20%0A%3C/script%3E onload=\"this.contentDocument.open();this.contentDocument.write(    decodeURIComponent(this.getAttribute('data-html')));this.contentDocument.close();\" allowfullscreen webkitallowfullscreen mozallowfullscreen></iframe></div></div>"
      ],
      "text/plain": [
       "<folium.folium.Map at 0x2098f2caee0>"
      ]
     },
     "execution_count": 83,
     "metadata": {},
     "output_type": "execute_result"
    }
   ],
   "source": [
    "import folium\n",
    "mumbai_map = folium.Map(location=[19.0760,72.8777],width = '90%',height = '70%',zoom_start = 15)\n",
    "mumbai_map"
   ]
  },
  {
   "cell_type": "markdown",
   "id": "bridal-genealogy",
   "metadata": {},
   "source": [
    "#### The `tiles` Parameter\n",
    "\n",
    "You can change the background of a map using the `tiles` parameter. Let's change the background of the map to a greyscale (or black & white) colour scheme by setting the `tiles` value equal to `Stamen Toner`."
   ]
  },
  {
   "cell_type": "code",
   "execution_count": 84,
   "id": "medical-tribute",
   "metadata": {},
   "outputs": [
    {
     "data": {
      "text/html": [
       "<div style=\"width:100%;\"><div style=\"position:relative;width:100%;height:0;padding-bottom:60%;\"><span style=\"color:#565656\">Make this Notebook Trusted to load map: File -> Trust Notebook</span><iframe src=\"about:blank\" style=\"position:absolute;width:100%;height:100%;left:0;top:0;border:none !important;\" data-html=%3C%21DOCTYPE%20html%3E%0A%3Chead%3E%20%20%20%20%0A%20%20%20%20%3Cmeta%20http-equiv%3D%22content-type%22%20content%3D%22text/html%3B%20charset%3DUTF-8%22%20/%3E%0A%20%20%20%20%0A%20%20%20%20%20%20%20%20%3Cscript%3E%0A%20%20%20%20%20%20%20%20%20%20%20%20L_NO_TOUCH%20%3D%20false%3B%0A%20%20%20%20%20%20%20%20%20%20%20%20L_DISABLE_3D%20%3D%20false%3B%0A%20%20%20%20%20%20%20%20%3C/script%3E%0A%20%20%20%20%0A%20%20%20%20%3Cstyle%3Ehtml%2C%20body%20%7Bwidth%3A%20100%25%3Bheight%3A%20100%25%3Bmargin%3A%200%3Bpadding%3A%200%3B%7D%3C/style%3E%0A%20%20%20%20%3Cstyle%3E%23map%20%7Bposition%3Aabsolute%3Btop%3A0%3Bbottom%3A0%3Bright%3A0%3Bleft%3A0%3B%7D%3C/style%3E%0A%20%20%20%20%3Cscript%20src%3D%22https%3A//cdn.jsdelivr.net/npm/leaflet%401.6.0/dist/leaflet.js%22%3E%3C/script%3E%0A%20%20%20%20%3Cscript%20src%3D%22https%3A//code.jquery.com/jquery-1.12.4.min.js%22%3E%3C/script%3E%0A%20%20%20%20%3Cscript%20src%3D%22https%3A//maxcdn.bootstrapcdn.com/bootstrap/3.2.0/js/bootstrap.min.js%22%3E%3C/script%3E%0A%20%20%20%20%3Cscript%20src%3D%22https%3A//cdnjs.cloudflare.com/ajax/libs/Leaflet.awesome-markers/2.0.2/leaflet.awesome-markers.js%22%3E%3C/script%3E%0A%20%20%20%20%3Clink%20rel%3D%22stylesheet%22%20href%3D%22https%3A//cdn.jsdelivr.net/npm/leaflet%401.6.0/dist/leaflet.css%22/%3E%0A%20%20%20%20%3Clink%20rel%3D%22stylesheet%22%20href%3D%22https%3A//maxcdn.bootstrapcdn.com/bootstrap/3.2.0/css/bootstrap.min.css%22/%3E%0A%20%20%20%20%3Clink%20rel%3D%22stylesheet%22%20href%3D%22https%3A//maxcdn.bootstrapcdn.com/bootstrap/3.2.0/css/bootstrap-theme.min.css%22/%3E%0A%20%20%20%20%3Clink%20rel%3D%22stylesheet%22%20href%3D%22https%3A//maxcdn.bootstrapcdn.com/font-awesome/4.6.3/css/font-awesome.min.css%22/%3E%0A%20%20%20%20%3Clink%20rel%3D%22stylesheet%22%20href%3D%22https%3A//cdnjs.cloudflare.com/ajax/libs/Leaflet.awesome-markers/2.0.2/leaflet.awesome-markers.css%22/%3E%0A%20%20%20%20%3Clink%20rel%3D%22stylesheet%22%20href%3D%22https%3A//cdn.jsdelivr.net/gh/python-visualization/folium/folium/templates/leaflet.awesome.rotate.min.css%22/%3E%0A%20%20%20%20%0A%20%20%20%20%20%20%20%20%20%20%20%20%3Cmeta%20name%3D%22viewport%22%20content%3D%22width%3Ddevice-width%2C%0A%20%20%20%20%20%20%20%20%20%20%20%20%20%20%20%20initial-scale%3D1.0%2C%20maximum-scale%3D1.0%2C%20user-scalable%3Dno%22%20/%3E%0A%20%20%20%20%20%20%20%20%20%20%20%20%3Cstyle%3E%0A%20%20%20%20%20%20%20%20%20%20%20%20%20%20%20%20%23map_36f7a072bb2448989821e5f631db5537%20%7B%0A%20%20%20%20%20%20%20%20%20%20%20%20%20%20%20%20%20%20%20%20position%3A%20relative%3B%0A%20%20%20%20%20%20%20%20%20%20%20%20%20%20%20%20%20%20%20%20width%3A%2090.0%25%3B%0A%20%20%20%20%20%20%20%20%20%20%20%20%20%20%20%20%20%20%20%20height%3A%2070.0%25%3B%0A%20%20%20%20%20%20%20%20%20%20%20%20%20%20%20%20%20%20%20%20left%3A%200.0%25%3B%0A%20%20%20%20%20%20%20%20%20%20%20%20%20%20%20%20%20%20%20%20top%3A%200.0%25%3B%0A%20%20%20%20%20%20%20%20%20%20%20%20%20%20%20%20%7D%0A%20%20%20%20%20%20%20%20%20%20%20%20%3C/style%3E%0A%20%20%20%20%20%20%20%20%0A%3C/head%3E%0A%3Cbody%3E%20%20%20%20%0A%20%20%20%20%0A%20%20%20%20%20%20%20%20%20%20%20%20%3Cdiv%20class%3D%22folium-map%22%20id%3D%22map_36f7a072bb2448989821e5f631db5537%22%20%3E%3C/div%3E%0A%20%20%20%20%20%20%20%20%0A%3C/body%3E%0A%3Cscript%3E%20%20%20%20%0A%20%20%20%20%0A%20%20%20%20%20%20%20%20%20%20%20%20var%20map_36f7a072bb2448989821e5f631db5537%20%3D%20L.map%28%0A%20%20%20%20%20%20%20%20%20%20%20%20%20%20%20%20%22map_36f7a072bb2448989821e5f631db5537%22%2C%0A%20%20%20%20%20%20%20%20%20%20%20%20%20%20%20%20%7B%0A%20%20%20%20%20%20%20%20%20%20%20%20%20%20%20%20%20%20%20%20center%3A%20%5B19.076%2C%2072.8777%5D%2C%0A%20%20%20%20%20%20%20%20%20%20%20%20%20%20%20%20%20%20%20%20crs%3A%20L.CRS.EPSG3857%2C%0A%20%20%20%20%20%20%20%20%20%20%20%20%20%20%20%20%20%20%20%20zoom%3A%2011%2C%0A%20%20%20%20%20%20%20%20%20%20%20%20%20%20%20%20%20%20%20%20zoomControl%3A%20true%2C%0A%20%20%20%20%20%20%20%20%20%20%20%20%20%20%20%20%20%20%20%20preferCanvas%3A%20false%2C%0A%20%20%20%20%20%20%20%20%20%20%20%20%20%20%20%20%7D%0A%20%20%20%20%20%20%20%20%20%20%20%20%29%3B%0A%0A%20%20%20%20%20%20%20%20%20%20%20%20%0A%0A%20%20%20%20%20%20%20%20%0A%20%20%20%20%0A%20%20%20%20%20%20%20%20%20%20%20%20var%20tile_layer_447cc1d2eca14790a7da8bd0dc2dbb77%20%3D%20L.tileLayer%28%0A%20%20%20%20%20%20%20%20%20%20%20%20%20%20%20%20%22https%3A//stamen-tiles-%7Bs%7D.a.ssl.fastly.net/terrain/%7Bz%7D/%7Bx%7D/%7By%7D.jpg%22%2C%0A%20%20%20%20%20%20%20%20%20%20%20%20%20%20%20%20%7B%22attribution%22%3A%20%22Map%20tiles%20by%20%5Cu003ca%20href%3D%5C%22http%3A//stamen.com%5C%22%5Cu003eStamen%20Design%5Cu003c/a%5Cu003e%2C%20under%20%5Cu003ca%20href%3D%5C%22http%3A//creativecommons.org/licenses/by/3.0%5C%22%5Cu003eCC%20BY%203.0%5Cu003c/a%5Cu003e.%20Data%20by%20%5Cu0026copy%3B%20%5Cu003ca%20href%3D%5C%22http%3A//openstreetmap.org%5C%22%5Cu003eOpenStreetMap%5Cu003c/a%5Cu003e%2C%20under%20%5Cu003ca%20href%3D%5C%22http%3A//creativecommons.org/licenses/by-sa/3.0%5C%22%5Cu003eCC%20BY%20SA%5Cu003c/a%5Cu003e.%22%2C%20%22detectRetina%22%3A%20false%2C%20%22maxNativeZoom%22%3A%2018%2C%20%22maxZoom%22%3A%2018%2C%20%22minZoom%22%3A%200%2C%20%22noWrap%22%3A%20false%2C%20%22opacity%22%3A%201%2C%20%22subdomains%22%3A%20%22abc%22%2C%20%22tms%22%3A%20false%7D%0A%20%20%20%20%20%20%20%20%20%20%20%20%29.addTo%28map_36f7a072bb2448989821e5f631db5537%29%3B%0A%20%20%20%20%20%20%20%20%0A%3C/script%3E onload=\"this.contentDocument.open();this.contentDocument.write(    decodeURIComponent(this.getAttribute('data-html')));this.contentDocument.close();\" allowfullscreen webkitallowfullscreen mozallowfullscreen></iframe></div></div>"
      ],
      "text/plain": [
       "<folium.folium.Map at 0x20990c7f0a0>"
      ]
     },
     "execution_count": 84,
     "metadata": {},
     "output_type": "execute_result"
    }
   ],
   "source": [
    "import folium\n",
    "mumbai_map = folium.Map(location=[19.0760,72.8777],width = '90%',height = '70%',zoom_start = 11,tiles ='Stamen Terrain')\n",
    "mumbai_map"
   ]
  },
  {
   "cell_type": "markdown",
   "id": "exciting-controversy",
   "metadata": {},
   "source": [
    "As you can see, the background of the map is changed. Here's a list of different possible background options for a folium map. You can choose any one of these:\n",
    "\n",
    "1. `'OpenStreetMap'`\n",
    "\n",
    "2. `'Stamen Terrain'`\n",
    "\n",
    "3. `'Stamen Toner'`\n",
    "\n",
    "4. `'Mapbox Bright'` (Not recommended as it throws an error)\n",
    "\n",
    "5. `'Mapbox Control Room'` (Not recommended as it throws an error)\n",
    "\n",
    "If the `tiles` parameter is not specified, then by default it is set to `OpenStreetMap`."
   ]
  },
  {
   "cell_type": "markdown",
   "id": "seventh-sauce",
   "metadata": {},
   "source": [
    "####  Adding A Marker^\n",
    "\n",
    "Now, let's add a marker to the Mumbai map. If you search for the **Gateway of India** on Google maps, you will get a red coloured marker as shown in the image below.\n",
    "\n",
    "<img src='https://student-datasets-bucket.s3.ap-south-1.amazonaws.com/images/lesson-22/gateway_of_india.png' width=700>\n",
    "\n",
    "We can also add a marker like these in a cartogram. Let's mark the Gateway of India (coordinates `18.9220, 72.8347`) on the Mumbai map using a marker.\n",
    "\n",
    "To add a marker, you need to use the `folium.Marker()` function. It requires location coordinates of the place to be marked as an input.\n",
    "\n",
    "```\n",
    "folium.Marker(location=[latitude, longitude])\n",
    "```\n",
    "\n",
    "You can also add another parameter called `popup` inside the `folium.Marker()` function to popup some information on the marker when a user clicks on it. Note that it is not mandatory to provide the value to the `popup` parameter.\n",
    "\n",
    "```\n",
    "folium.Marker(location=[latitude, longitude], popup='Some information')\n",
    "```\n",
    "\n",
    "At the end of the `folium.Marker()` function, you need to apply the `add_to()` function whose input is the map in which you want to add the marker.\n",
    "\n",
    "```\n",
    "folium.Marker(location=[latitude, longitude], popup='Some information').add_to(map_name)\n",
    "```\n",
    "\n",
    "Let's display `'Gateway of India` on the marker when a user clicks on it.\n"
   ]
  },
  {
   "cell_type": "code",
   "execution_count": 85,
   "id": "interpreted-feedback",
   "metadata": {
    "scrolled": true
   },
   "outputs": [
    {
     "data": {
      "text/html": [
       "<div style=\"width:100%;\"><div style=\"position:relative;width:100%;height:0;padding-bottom:60%;\"><span style=\"color:#565656\">Make this Notebook Trusted to load map: File -> Trust Notebook</span><iframe src=\"about:blank\" style=\"position:absolute;width:100%;height:100%;left:0;top:0;border:none !important;\" data-html=%3C%21DOCTYPE%20html%3E%0A%3Chead%3E%20%20%20%20%0A%20%20%20%20%3Cmeta%20http-equiv%3D%22content-type%22%20content%3D%22text/html%3B%20charset%3DUTF-8%22%20/%3E%0A%20%20%20%20%0A%20%20%20%20%20%20%20%20%3Cscript%3E%0A%20%20%20%20%20%20%20%20%20%20%20%20L_NO_TOUCH%20%3D%20false%3B%0A%20%20%20%20%20%20%20%20%20%20%20%20L_DISABLE_3D%20%3D%20false%3B%0A%20%20%20%20%20%20%20%20%3C/script%3E%0A%20%20%20%20%0A%20%20%20%20%3Cstyle%3Ehtml%2C%20body%20%7Bwidth%3A%20100%25%3Bheight%3A%20100%25%3Bmargin%3A%200%3Bpadding%3A%200%3B%7D%3C/style%3E%0A%20%20%20%20%3Cstyle%3E%23map%20%7Bposition%3Aabsolute%3Btop%3A0%3Bbottom%3A0%3Bright%3A0%3Bleft%3A0%3B%7D%3C/style%3E%0A%20%20%20%20%3Cscript%20src%3D%22https%3A//cdn.jsdelivr.net/npm/leaflet%401.6.0/dist/leaflet.js%22%3E%3C/script%3E%0A%20%20%20%20%3Cscript%20src%3D%22https%3A//code.jquery.com/jquery-1.12.4.min.js%22%3E%3C/script%3E%0A%20%20%20%20%3Cscript%20src%3D%22https%3A//maxcdn.bootstrapcdn.com/bootstrap/3.2.0/js/bootstrap.min.js%22%3E%3C/script%3E%0A%20%20%20%20%3Cscript%20src%3D%22https%3A//cdnjs.cloudflare.com/ajax/libs/Leaflet.awesome-markers/2.0.2/leaflet.awesome-markers.js%22%3E%3C/script%3E%0A%20%20%20%20%3Clink%20rel%3D%22stylesheet%22%20href%3D%22https%3A//cdn.jsdelivr.net/npm/leaflet%401.6.0/dist/leaflet.css%22/%3E%0A%20%20%20%20%3Clink%20rel%3D%22stylesheet%22%20href%3D%22https%3A//maxcdn.bootstrapcdn.com/bootstrap/3.2.0/css/bootstrap.min.css%22/%3E%0A%20%20%20%20%3Clink%20rel%3D%22stylesheet%22%20href%3D%22https%3A//maxcdn.bootstrapcdn.com/bootstrap/3.2.0/css/bootstrap-theme.min.css%22/%3E%0A%20%20%20%20%3Clink%20rel%3D%22stylesheet%22%20href%3D%22https%3A//maxcdn.bootstrapcdn.com/font-awesome/4.6.3/css/font-awesome.min.css%22/%3E%0A%20%20%20%20%3Clink%20rel%3D%22stylesheet%22%20href%3D%22https%3A//cdnjs.cloudflare.com/ajax/libs/Leaflet.awesome-markers/2.0.2/leaflet.awesome-markers.css%22/%3E%0A%20%20%20%20%3Clink%20rel%3D%22stylesheet%22%20href%3D%22https%3A//cdn.jsdelivr.net/gh/python-visualization/folium/folium/templates/leaflet.awesome.rotate.min.css%22/%3E%0A%20%20%20%20%0A%20%20%20%20%20%20%20%20%20%20%20%20%3Cmeta%20name%3D%22viewport%22%20content%3D%22width%3Ddevice-width%2C%0A%20%20%20%20%20%20%20%20%20%20%20%20%20%20%20%20initial-scale%3D1.0%2C%20maximum-scale%3D1.0%2C%20user-scalable%3Dno%22%20/%3E%0A%20%20%20%20%20%20%20%20%20%20%20%20%3Cstyle%3E%0A%20%20%20%20%20%20%20%20%20%20%20%20%20%20%20%20%23map_4465f33800ec465c9408db3f96a673dd%20%7B%0A%20%20%20%20%20%20%20%20%20%20%20%20%20%20%20%20%20%20%20%20position%3A%20relative%3B%0A%20%20%20%20%20%20%20%20%20%20%20%20%20%20%20%20%20%20%20%20width%3A%2090.0%25%3B%0A%20%20%20%20%20%20%20%20%20%20%20%20%20%20%20%20%20%20%20%20height%3A%2070.0%25%3B%0A%20%20%20%20%20%20%20%20%20%20%20%20%20%20%20%20%20%20%20%20left%3A%200.0%25%3B%0A%20%20%20%20%20%20%20%20%20%20%20%20%20%20%20%20%20%20%20%20top%3A%200.0%25%3B%0A%20%20%20%20%20%20%20%20%20%20%20%20%20%20%20%20%7D%0A%20%20%20%20%20%20%20%20%20%20%20%20%3C/style%3E%0A%20%20%20%20%20%20%20%20%0A%3C/head%3E%0A%3Cbody%3E%20%20%20%20%0A%20%20%20%20%0A%20%20%20%20%20%20%20%20%20%20%20%20%3Cdiv%20class%3D%22folium-map%22%20id%3D%22map_4465f33800ec465c9408db3f96a673dd%22%20%3E%3C/div%3E%0A%20%20%20%20%20%20%20%20%0A%3C/body%3E%0A%3Cscript%3E%20%20%20%20%0A%20%20%20%20%0A%20%20%20%20%20%20%20%20%20%20%20%20var%20map_4465f33800ec465c9408db3f96a673dd%20%3D%20L.map%28%0A%20%20%20%20%20%20%20%20%20%20%20%20%20%20%20%20%22map_4465f33800ec465c9408db3f96a673dd%22%2C%0A%20%20%20%20%20%20%20%20%20%20%20%20%20%20%20%20%7B%0A%20%20%20%20%20%20%20%20%20%20%20%20%20%20%20%20%20%20%20%20center%3A%20%5B19.076%2C%2072.8777%5D%2C%0A%20%20%20%20%20%20%20%20%20%20%20%20%20%20%20%20%20%20%20%20crs%3A%20L.CRS.EPSG3857%2C%0A%20%20%20%20%20%20%20%20%20%20%20%20%20%20%20%20%20%20%20%20zoom%3A%2011%2C%0A%20%20%20%20%20%20%20%20%20%20%20%20%20%20%20%20%20%20%20%20zoomControl%3A%20true%2C%0A%20%20%20%20%20%20%20%20%20%20%20%20%20%20%20%20%20%20%20%20preferCanvas%3A%20false%2C%0A%20%20%20%20%20%20%20%20%20%20%20%20%20%20%20%20%7D%0A%20%20%20%20%20%20%20%20%20%20%20%20%29%3B%0A%0A%20%20%20%20%20%20%20%20%20%20%20%20%0A%0A%20%20%20%20%20%20%20%20%0A%20%20%20%20%0A%20%20%20%20%20%20%20%20%20%20%20%20var%20tile_layer_d98f94af9feb4b71a4beacd77874f47f%20%3D%20L.tileLayer%28%0A%20%20%20%20%20%20%20%20%20%20%20%20%20%20%20%20%22https%3A//%7Bs%7D.tile.openstreetmap.org/%7Bz%7D/%7Bx%7D/%7By%7D.png%22%2C%0A%20%20%20%20%20%20%20%20%20%20%20%20%20%20%20%20%7B%22attribution%22%3A%20%22Data%20by%20%5Cu0026copy%3B%20%5Cu003ca%20href%3D%5C%22http%3A//openstreetmap.org%5C%22%5Cu003eOpenStreetMap%5Cu003c/a%5Cu003e%2C%20under%20%5Cu003ca%20href%3D%5C%22http%3A//www.openstreetmap.org/copyright%5C%22%5Cu003eODbL%5Cu003c/a%5Cu003e.%22%2C%20%22detectRetina%22%3A%20false%2C%20%22maxNativeZoom%22%3A%2018%2C%20%22maxZoom%22%3A%2018%2C%20%22minZoom%22%3A%200%2C%20%22noWrap%22%3A%20false%2C%20%22opacity%22%3A%201%2C%20%22subdomains%22%3A%20%22abc%22%2C%20%22tms%22%3A%20false%7D%0A%20%20%20%20%20%20%20%20%20%20%20%20%29.addTo%28map_4465f33800ec465c9408db3f96a673dd%29%3B%0A%20%20%20%20%20%20%20%20%0A%20%20%20%20%0A%20%20%20%20%20%20%20%20%20%20%20%20var%20marker_22de35a9d9e248efb0451b47146a71b6%20%3D%20L.marker%28%0A%20%20%20%20%20%20%20%20%20%20%20%20%20%20%20%20%5B18.922%2C%2072.8347%5D%2C%0A%20%20%20%20%20%20%20%20%20%20%20%20%20%20%20%20%7B%7D%0A%20%20%20%20%20%20%20%20%20%20%20%20%29.addTo%28map_4465f33800ec465c9408db3f96a673dd%29%3B%0A%20%20%20%20%20%20%20%20%0A%20%20%20%20%0A%20%20%20%20%20%20%20%20var%20popup_514bb27e1f0a4a06b180f3c6a9ed80b0%20%3D%20L.popup%28%7B%22maxWidth%22%3A%20%22100%25%22%7D%29%3B%0A%0A%20%20%20%20%20%20%20%20%0A%20%20%20%20%20%20%20%20%20%20%20%20var%20html_ed50d9aeaf0b4a3ba1a26549771aba19%20%3D%20%24%28%60%3Cdiv%20id%3D%22html_ed50d9aeaf0b4a3ba1a26549771aba19%22%20style%3D%22width%3A%20100.0%25%3B%20height%3A%20100.0%25%3B%22%3EGateway%20of%20India%3C/div%3E%60%29%5B0%5D%3B%0A%20%20%20%20%20%20%20%20%20%20%20%20popup_514bb27e1f0a4a06b180f3c6a9ed80b0.setContent%28html_ed50d9aeaf0b4a3ba1a26549771aba19%29%3B%0A%20%20%20%20%20%20%20%20%0A%0A%20%20%20%20%20%20%20%20marker_22de35a9d9e248efb0451b47146a71b6.bindPopup%28popup_514bb27e1f0a4a06b180f3c6a9ed80b0%29%0A%20%20%20%20%20%20%20%20%3B%0A%0A%20%20%20%20%20%20%20%20%0A%20%20%20%20%0A%3C/script%3E onload=\"this.contentDocument.open();this.contentDocument.write(    decodeURIComponent(this.getAttribute('data-html')));this.contentDocument.close();\" allowfullscreen webkitallowfullscreen mozallowfullscreen></iframe></div></div>"
      ],
      "text/plain": [
       "<folium.folium.Map at 0x20990c7faf0>"
      ]
     },
     "execution_count": 85,
     "metadata": {},
     "output_type": "execute_result"
    }
   ],
   "source": [
    "import folium\n",
    "mumbai_map = folium.Map(location=[19.0760,72.8777],width = '90%',height = '70%',zoom_start = 11)\n",
    "folium.Marker(location =[18.9220, 72.8347],popup = 'Gateway of India').add_to(mumbai_map)\n",
    "mumbai_map"
   ]
  },
  {
   "cell_type": "markdown",
   "id": "retained-twist",
   "metadata": {},
   "source": [
    "As you can see, we have added the marker to the Mumbai using the `folium.Marker()` function.\n",
    "\n",
    "You can also create the same map with the same marker by replacing the Mumbai city coordinates with the Gateway of India coordinates."
   ]
  },
  {
   "cell_type": "code",
   "execution_count": 86,
   "id": "occupied-nightlife",
   "metadata": {
    "scrolled": true
   },
   "outputs": [
    {
     "data": {
      "text/html": [
       "<div style=\"width:100%;\"><div style=\"position:relative;width:100%;height:0;padding-bottom:60%;\"><span style=\"color:#565656\">Make this Notebook Trusted to load map: File -> Trust Notebook</span><iframe src=\"about:blank\" style=\"position:absolute;width:100%;height:100%;left:0;top:0;border:none !important;\" data-html=%3C%21DOCTYPE%20html%3E%0A%3Chead%3E%20%20%20%20%0A%20%20%20%20%3Cmeta%20http-equiv%3D%22content-type%22%20content%3D%22text/html%3B%20charset%3DUTF-8%22%20/%3E%0A%20%20%20%20%0A%20%20%20%20%20%20%20%20%3Cscript%3E%0A%20%20%20%20%20%20%20%20%20%20%20%20L_NO_TOUCH%20%3D%20false%3B%0A%20%20%20%20%20%20%20%20%20%20%20%20L_DISABLE_3D%20%3D%20false%3B%0A%20%20%20%20%20%20%20%20%3C/script%3E%0A%20%20%20%20%0A%20%20%20%20%3Cstyle%3Ehtml%2C%20body%20%7Bwidth%3A%20100%25%3Bheight%3A%20100%25%3Bmargin%3A%200%3Bpadding%3A%200%3B%7D%3C/style%3E%0A%20%20%20%20%3Cstyle%3E%23map%20%7Bposition%3Aabsolute%3Btop%3A0%3Bbottom%3A0%3Bright%3A0%3Bleft%3A0%3B%7D%3C/style%3E%0A%20%20%20%20%3Cscript%20src%3D%22https%3A//cdn.jsdelivr.net/npm/leaflet%401.6.0/dist/leaflet.js%22%3E%3C/script%3E%0A%20%20%20%20%3Cscript%20src%3D%22https%3A//code.jquery.com/jquery-1.12.4.min.js%22%3E%3C/script%3E%0A%20%20%20%20%3Cscript%20src%3D%22https%3A//maxcdn.bootstrapcdn.com/bootstrap/3.2.0/js/bootstrap.min.js%22%3E%3C/script%3E%0A%20%20%20%20%3Cscript%20src%3D%22https%3A//cdnjs.cloudflare.com/ajax/libs/Leaflet.awesome-markers/2.0.2/leaflet.awesome-markers.js%22%3E%3C/script%3E%0A%20%20%20%20%3Clink%20rel%3D%22stylesheet%22%20href%3D%22https%3A//cdn.jsdelivr.net/npm/leaflet%401.6.0/dist/leaflet.css%22/%3E%0A%20%20%20%20%3Clink%20rel%3D%22stylesheet%22%20href%3D%22https%3A//maxcdn.bootstrapcdn.com/bootstrap/3.2.0/css/bootstrap.min.css%22/%3E%0A%20%20%20%20%3Clink%20rel%3D%22stylesheet%22%20href%3D%22https%3A//maxcdn.bootstrapcdn.com/bootstrap/3.2.0/css/bootstrap-theme.min.css%22/%3E%0A%20%20%20%20%3Clink%20rel%3D%22stylesheet%22%20href%3D%22https%3A//maxcdn.bootstrapcdn.com/font-awesome/4.6.3/css/font-awesome.min.css%22/%3E%0A%20%20%20%20%3Clink%20rel%3D%22stylesheet%22%20href%3D%22https%3A//cdnjs.cloudflare.com/ajax/libs/Leaflet.awesome-markers/2.0.2/leaflet.awesome-markers.css%22/%3E%0A%20%20%20%20%3Clink%20rel%3D%22stylesheet%22%20href%3D%22https%3A//cdn.jsdelivr.net/gh/python-visualization/folium/folium/templates/leaflet.awesome.rotate.min.css%22/%3E%0A%20%20%20%20%0A%20%20%20%20%20%20%20%20%20%20%20%20%3Cmeta%20name%3D%22viewport%22%20content%3D%22width%3Ddevice-width%2C%0A%20%20%20%20%20%20%20%20%20%20%20%20%20%20%20%20initial-scale%3D1.0%2C%20maximum-scale%3D1.0%2C%20user-scalable%3Dno%22%20/%3E%0A%20%20%20%20%20%20%20%20%20%20%20%20%3Cstyle%3E%0A%20%20%20%20%20%20%20%20%20%20%20%20%20%20%20%20%23map_b05889cffc3a491c94f717a7d165b5a4%20%7B%0A%20%20%20%20%20%20%20%20%20%20%20%20%20%20%20%20%20%20%20%20position%3A%20relative%3B%0A%20%20%20%20%20%20%20%20%20%20%20%20%20%20%20%20%20%20%20%20width%3A%2090.0%25%3B%0A%20%20%20%20%20%20%20%20%20%20%20%20%20%20%20%20%20%20%20%20height%3A%2070.0%25%3B%0A%20%20%20%20%20%20%20%20%20%20%20%20%20%20%20%20%20%20%20%20left%3A%200.0%25%3B%0A%20%20%20%20%20%20%20%20%20%20%20%20%20%20%20%20%20%20%20%20top%3A%200.0%25%3B%0A%20%20%20%20%20%20%20%20%20%20%20%20%20%20%20%20%7D%0A%20%20%20%20%20%20%20%20%20%20%20%20%3C/style%3E%0A%20%20%20%20%20%20%20%20%0A%3C/head%3E%0A%3Cbody%3E%20%20%20%20%0A%20%20%20%20%0A%20%20%20%20%20%20%20%20%20%20%20%20%3Cdiv%20class%3D%22folium-map%22%20id%3D%22map_b05889cffc3a491c94f717a7d165b5a4%22%20%3E%3C/div%3E%0A%20%20%20%20%20%20%20%20%0A%3C/body%3E%0A%3Cscript%3E%20%20%20%20%0A%20%20%20%20%0A%20%20%20%20%20%20%20%20%20%20%20%20var%20map_b05889cffc3a491c94f717a7d165b5a4%20%3D%20L.map%28%0A%20%20%20%20%20%20%20%20%20%20%20%20%20%20%20%20%22map_b05889cffc3a491c94f717a7d165b5a4%22%2C%0A%20%20%20%20%20%20%20%20%20%20%20%20%20%20%20%20%7B%0A%20%20%20%20%20%20%20%20%20%20%20%20%20%20%20%20%20%20%20%20center%3A%20%5B18.922%2C%2072.8347%5D%2C%0A%20%20%20%20%20%20%20%20%20%20%20%20%20%20%20%20%20%20%20%20crs%3A%20L.CRS.EPSG3857%2C%0A%20%20%20%20%20%20%20%20%20%20%20%20%20%20%20%20%20%20%20%20zoom%3A%2020%2C%0A%20%20%20%20%20%20%20%20%20%20%20%20%20%20%20%20%20%20%20%20zoomControl%3A%20true%2C%0A%20%20%20%20%20%20%20%20%20%20%20%20%20%20%20%20%20%20%20%20preferCanvas%3A%20false%2C%0A%20%20%20%20%20%20%20%20%20%20%20%20%20%20%20%20%7D%0A%20%20%20%20%20%20%20%20%20%20%20%20%29%3B%0A%0A%20%20%20%20%20%20%20%20%20%20%20%20%0A%0A%20%20%20%20%20%20%20%20%0A%20%20%20%20%0A%20%20%20%20%20%20%20%20%20%20%20%20var%20tile_layer_b4f74219007448b89f900f3fd1d51970%20%3D%20L.tileLayer%28%0A%20%20%20%20%20%20%20%20%20%20%20%20%20%20%20%20%22https%3A//%7Bs%7D.tile.openstreetmap.org/%7Bz%7D/%7Bx%7D/%7By%7D.png%22%2C%0A%20%20%20%20%20%20%20%20%20%20%20%20%20%20%20%20%7B%22attribution%22%3A%20%22Data%20by%20%5Cu0026copy%3B%20%5Cu003ca%20href%3D%5C%22http%3A//openstreetmap.org%5C%22%5Cu003eOpenStreetMap%5Cu003c/a%5Cu003e%2C%20under%20%5Cu003ca%20href%3D%5C%22http%3A//www.openstreetmap.org/copyright%5C%22%5Cu003eODbL%5Cu003c/a%5Cu003e.%22%2C%20%22detectRetina%22%3A%20false%2C%20%22maxNativeZoom%22%3A%2018%2C%20%22maxZoom%22%3A%2018%2C%20%22minZoom%22%3A%200%2C%20%22noWrap%22%3A%20false%2C%20%22opacity%22%3A%201%2C%20%22subdomains%22%3A%20%22abc%22%2C%20%22tms%22%3A%20false%7D%0A%20%20%20%20%20%20%20%20%20%20%20%20%29.addTo%28map_b05889cffc3a491c94f717a7d165b5a4%29%3B%0A%20%20%20%20%20%20%20%20%0A%20%20%20%20%0A%20%20%20%20%20%20%20%20%20%20%20%20var%20marker_684a74f1454b4aeda254036c6987608b%20%3D%20L.marker%28%0A%20%20%20%20%20%20%20%20%20%20%20%20%20%20%20%20%5B18.922%2C%2072.8347%5D%2C%0A%20%20%20%20%20%20%20%20%20%20%20%20%20%20%20%20%7B%7D%0A%20%20%20%20%20%20%20%20%20%20%20%20%29.addTo%28map_b05889cffc3a491c94f717a7d165b5a4%29%3B%0A%20%20%20%20%20%20%20%20%0A%20%20%20%20%0A%20%20%20%20%20%20%20%20var%20popup_9e2510c58eaf48fdb8db08ae9f1db40e%20%3D%20L.popup%28%7B%22maxWidth%22%3A%20%22100%25%22%7D%29%3B%0A%0A%20%20%20%20%20%20%20%20%0A%20%20%20%20%20%20%20%20%20%20%20%20var%20html_dcafcba0ed0a43e8b55ced823e603023%20%3D%20%24%28%60%3Cdiv%20id%3D%22html_dcafcba0ed0a43e8b55ced823e603023%22%20style%3D%22width%3A%20100.0%25%3B%20height%3A%20100.0%25%3B%22%3EGateway%20of%20India%3C/div%3E%60%29%5B0%5D%3B%0A%20%20%20%20%20%20%20%20%20%20%20%20popup_9e2510c58eaf48fdb8db08ae9f1db40e.setContent%28html_dcafcba0ed0a43e8b55ced823e603023%29%3B%0A%20%20%20%20%20%20%20%20%0A%0A%20%20%20%20%20%20%20%20marker_684a74f1454b4aeda254036c6987608b.bindPopup%28popup_9e2510c58eaf48fdb8db08ae9f1db40e%29%0A%20%20%20%20%20%20%20%20%3B%0A%0A%20%20%20%20%20%20%20%20%0A%20%20%20%20%0A%3C/script%3E onload=\"this.contentDocument.open();this.contentDocument.write(    decodeURIComponent(this.getAttribute('data-html')));this.contentDocument.close();\" allowfullscreen webkitallowfullscreen mozallowfullscreen></iframe></div></div>"
      ],
      "text/plain": [
       "<folium.folium.Map at 0x20990c8f580>"
      ]
     },
     "execution_count": 86,
     "metadata": {},
     "output_type": "execute_result"
    }
   ],
   "source": [
    "import folium\n",
    "mumbai_map = folium.Map(location=[18.9220, 72.8347],width = '90%',height = '70%',zoom_start = 20)\n",
    "folium.Marker(location =[18.9220, 72.8347],popup = 'Gateway of India').add_to(mumbai_map)\n",
    "mumbai_map"
   ]
  },
  {
   "cell_type": "markdown",
   "id": "intelligent-wages",
   "metadata": {},
   "source": [
    "##### Circular Markers^^^\n",
    "\n",
    "Apart from the regular marker, you can also add the circular makers to a folium map. There are two functions to add circular markers. They are as follows:\n",
    "\n",
    "1. `folium.Circle()` - Radius of the circular marker is reflected in meters. It tells the land area occupied on the map.\n",
    "\n",
    "2. `folium.CircleMarker()` - Radius of the circular marker is reflected in pixels. It tells the number of pixels occupied on the image of the map. \n",
    "\n",
    "You will notice the difference in both the markers when you zoon-in and zoom-out of the map. Both the above functions take the following parameters as inputs:\n",
    "\n",
    "1. `location` - It defines the position on the map where a circular marker needs to be placed.\n",
    "\n",
    "2. `radius` - It defines the radius of the circular marker\n",
    "\n",
    "3. `popup` - It defines the information to be displayed which clicked on a marker.\n",
    "\n",
    "4. `color` - It defines the colour of the circular marker.\n",
    "\n",
    "5. `fill` - It defines whether the circular marker should hollow or filled.\n",
    "\n",
    "6. `fill_color` - It defines the colour of the filled circular marker.\n",
    "\n",
    "Let's create the circular markers for the Mumbai international airport and the Dharavi slum in Mumbai. Their coordinates are `19.0896, 72.8656` and `19.0380, 72.8538` respectively. Let's colour them with blue and red colours respectively.\n",
    "\n",
    "**Note:**\n",
    "\n",
    "1. `#0000ff` is the hexadecimal colour code for the blue colour.\n",
    "\n",
    "2. `#ff0000` is the hexadecimal colour code for the red colour.\n",
    "\n"
   ]
  },
  {
   "cell_type": "code",
   "execution_count": 87,
   "id": "stainless-journalist",
   "metadata": {},
   "outputs": [
    {
     "data": {
      "text/html": [
       "<div style=\"width:100%;\"><div style=\"position:relative;width:100%;height:0;padding-bottom:60%;\"><span style=\"color:#565656\">Make this Notebook Trusted to load map: File -> Trust Notebook</span><iframe src=\"about:blank\" style=\"position:absolute;width:100%;height:100%;left:0;top:0;border:none !important;\" data-html=%3C%21DOCTYPE%20html%3E%0A%3Chead%3E%20%20%20%20%0A%20%20%20%20%3Cmeta%20http-equiv%3D%22content-type%22%20content%3D%22text/html%3B%20charset%3DUTF-8%22%20/%3E%0A%20%20%20%20%0A%20%20%20%20%20%20%20%20%3Cscript%3E%0A%20%20%20%20%20%20%20%20%20%20%20%20L_NO_TOUCH%20%3D%20false%3B%0A%20%20%20%20%20%20%20%20%20%20%20%20L_DISABLE_3D%20%3D%20false%3B%0A%20%20%20%20%20%20%20%20%3C/script%3E%0A%20%20%20%20%0A%20%20%20%20%3Cstyle%3Ehtml%2C%20body%20%7Bwidth%3A%20100%25%3Bheight%3A%20100%25%3Bmargin%3A%200%3Bpadding%3A%200%3B%7D%3C/style%3E%0A%20%20%20%20%3Cstyle%3E%23map%20%7Bposition%3Aabsolute%3Btop%3A0%3Bbottom%3A0%3Bright%3A0%3Bleft%3A0%3B%7D%3C/style%3E%0A%20%20%20%20%3Cscript%20src%3D%22https%3A//cdn.jsdelivr.net/npm/leaflet%401.6.0/dist/leaflet.js%22%3E%3C/script%3E%0A%20%20%20%20%3Cscript%20src%3D%22https%3A//code.jquery.com/jquery-1.12.4.min.js%22%3E%3C/script%3E%0A%20%20%20%20%3Cscript%20src%3D%22https%3A//maxcdn.bootstrapcdn.com/bootstrap/3.2.0/js/bootstrap.min.js%22%3E%3C/script%3E%0A%20%20%20%20%3Cscript%20src%3D%22https%3A//cdnjs.cloudflare.com/ajax/libs/Leaflet.awesome-markers/2.0.2/leaflet.awesome-markers.js%22%3E%3C/script%3E%0A%20%20%20%20%3Clink%20rel%3D%22stylesheet%22%20href%3D%22https%3A//cdn.jsdelivr.net/npm/leaflet%401.6.0/dist/leaflet.css%22/%3E%0A%20%20%20%20%3Clink%20rel%3D%22stylesheet%22%20href%3D%22https%3A//maxcdn.bootstrapcdn.com/bootstrap/3.2.0/css/bootstrap.min.css%22/%3E%0A%20%20%20%20%3Clink%20rel%3D%22stylesheet%22%20href%3D%22https%3A//maxcdn.bootstrapcdn.com/bootstrap/3.2.0/css/bootstrap-theme.min.css%22/%3E%0A%20%20%20%20%3Clink%20rel%3D%22stylesheet%22%20href%3D%22https%3A//maxcdn.bootstrapcdn.com/font-awesome/4.6.3/css/font-awesome.min.css%22/%3E%0A%20%20%20%20%3Clink%20rel%3D%22stylesheet%22%20href%3D%22https%3A//cdnjs.cloudflare.com/ajax/libs/Leaflet.awesome-markers/2.0.2/leaflet.awesome-markers.css%22/%3E%0A%20%20%20%20%3Clink%20rel%3D%22stylesheet%22%20href%3D%22https%3A//cdn.jsdelivr.net/gh/python-visualization/folium/folium/templates/leaflet.awesome.rotate.min.css%22/%3E%0A%20%20%20%20%0A%20%20%20%20%20%20%20%20%20%20%20%20%3Cmeta%20name%3D%22viewport%22%20content%3D%22width%3Ddevice-width%2C%0A%20%20%20%20%20%20%20%20%20%20%20%20%20%20%20%20initial-scale%3D1.0%2C%20maximum-scale%3D1.0%2C%20user-scalable%3Dno%22%20/%3E%0A%20%20%20%20%20%20%20%20%20%20%20%20%3Cstyle%3E%0A%20%20%20%20%20%20%20%20%20%20%20%20%20%20%20%20%23map_3b262fa9c132427582636c06290bd41a%20%7B%0A%20%20%20%20%20%20%20%20%20%20%20%20%20%20%20%20%20%20%20%20position%3A%20relative%3B%0A%20%20%20%20%20%20%20%20%20%20%20%20%20%20%20%20%20%20%20%20width%3A%2090.0%25%3B%0A%20%20%20%20%20%20%20%20%20%20%20%20%20%20%20%20%20%20%20%20height%3A%2070.0%25%3B%0A%20%20%20%20%20%20%20%20%20%20%20%20%20%20%20%20%20%20%20%20left%3A%200.0%25%3B%0A%20%20%20%20%20%20%20%20%20%20%20%20%20%20%20%20%20%20%20%20top%3A%200.0%25%3B%0A%20%20%20%20%20%20%20%20%20%20%20%20%20%20%20%20%7D%0A%20%20%20%20%20%20%20%20%20%20%20%20%3C/style%3E%0A%20%20%20%20%20%20%20%20%0A%3C/head%3E%0A%3Cbody%3E%20%20%20%20%0A%20%20%20%20%0A%20%20%20%20%20%20%20%20%20%20%20%20%3Cdiv%20class%3D%22folium-map%22%20id%3D%22map_3b262fa9c132427582636c06290bd41a%22%20%3E%3C/div%3E%0A%20%20%20%20%20%20%20%20%0A%3C/body%3E%0A%3Cscript%3E%20%20%20%20%0A%20%20%20%20%0A%20%20%20%20%20%20%20%20%20%20%20%20var%20map_3b262fa9c132427582636c06290bd41a%20%3D%20L.map%28%0A%20%20%20%20%20%20%20%20%20%20%20%20%20%20%20%20%22map_3b262fa9c132427582636c06290bd41a%22%2C%0A%20%20%20%20%20%20%20%20%20%20%20%20%20%20%20%20%7B%0A%20%20%20%20%20%20%20%20%20%20%20%20%20%20%20%20%20%20%20%20center%3A%20%5B19.076%2C%2072.8777%5D%2C%0A%20%20%20%20%20%20%20%20%20%20%20%20%20%20%20%20%20%20%20%20crs%3A%20L.CRS.EPSG3857%2C%0A%20%20%20%20%20%20%20%20%20%20%20%20%20%20%20%20%20%20%20%20zoom%3A%2011%2C%0A%20%20%20%20%20%20%20%20%20%20%20%20%20%20%20%20%20%20%20%20zoomControl%3A%20true%2C%0A%20%20%20%20%20%20%20%20%20%20%20%20%20%20%20%20%20%20%20%20preferCanvas%3A%20false%2C%0A%20%20%20%20%20%20%20%20%20%20%20%20%20%20%20%20%7D%0A%20%20%20%20%20%20%20%20%20%20%20%20%29%3B%0A%0A%20%20%20%20%20%20%20%20%20%20%20%20%0A%0A%20%20%20%20%20%20%20%20%0A%20%20%20%20%0A%20%20%20%20%20%20%20%20%20%20%20%20var%20tile_layer_ec618121762d49efaa48cc0f810e5e17%20%3D%20L.tileLayer%28%0A%20%20%20%20%20%20%20%20%20%20%20%20%20%20%20%20%22https%3A//%7Bs%7D.tile.openstreetmap.org/%7Bz%7D/%7Bx%7D/%7By%7D.png%22%2C%0A%20%20%20%20%20%20%20%20%20%20%20%20%20%20%20%20%7B%22attribution%22%3A%20%22Data%20by%20%5Cu0026copy%3B%20%5Cu003ca%20href%3D%5C%22http%3A//openstreetmap.org%5C%22%5Cu003eOpenStreetMap%5Cu003c/a%5Cu003e%2C%20under%20%5Cu003ca%20href%3D%5C%22http%3A//www.openstreetmap.org/copyright%5C%22%5Cu003eODbL%5Cu003c/a%5Cu003e.%22%2C%20%22detectRetina%22%3A%20false%2C%20%22maxNativeZoom%22%3A%2018%2C%20%22maxZoom%22%3A%2018%2C%20%22minZoom%22%3A%200%2C%20%22noWrap%22%3A%20false%2C%20%22opacity%22%3A%201%2C%20%22subdomains%22%3A%20%22abc%22%2C%20%22tms%22%3A%20false%7D%0A%20%20%20%20%20%20%20%20%20%20%20%20%29.addTo%28map_3b262fa9c132427582636c06290bd41a%29%3B%0A%20%20%20%20%20%20%20%20%0A%20%20%20%20%0A%20%20%20%20%20%20%20%20%20%20%20%20var%20marker_413d13707a024f96a3adcbdcbd0c93ba%20%3D%20L.marker%28%0A%20%20%20%20%20%20%20%20%20%20%20%20%20%20%20%20%5B18.922%2C%2072.8347%5D%2C%0A%20%20%20%20%20%20%20%20%20%20%20%20%20%20%20%20%7B%7D%0A%20%20%20%20%20%20%20%20%20%20%20%20%29.addTo%28map_3b262fa9c132427582636c06290bd41a%29%3B%0A%20%20%20%20%20%20%20%20%0A%20%20%20%20%0A%20%20%20%20%20%20%20%20var%20popup_e2865fcfc5d64e0782726f68c423cbeb%20%3D%20L.popup%28%7B%22maxWidth%22%3A%20%22100%25%22%7D%29%3B%0A%0A%20%20%20%20%20%20%20%20%0A%20%20%20%20%20%20%20%20%20%20%20%20var%20html_eaaf46d13c374d1d914f717fc0244d73%20%3D%20%24%28%60%3Cdiv%20id%3D%22html_eaaf46d13c374d1d914f717fc0244d73%22%20style%3D%22width%3A%20100.0%25%3B%20height%3A%20100.0%25%3B%22%3EGateway%20of%20India%3C/div%3E%60%29%5B0%5D%3B%0A%20%20%20%20%20%20%20%20%20%20%20%20popup_e2865fcfc5d64e0782726f68c423cbeb.setContent%28html_eaaf46d13c374d1d914f717fc0244d73%29%3B%0A%20%20%20%20%20%20%20%20%0A%0A%20%20%20%20%20%20%20%20marker_413d13707a024f96a3adcbdcbd0c93ba.bindPopup%28popup_e2865fcfc5d64e0782726f68c423cbeb%29%0A%20%20%20%20%20%20%20%20%3B%0A%0A%20%20%20%20%20%20%20%20%0A%20%20%20%20%0A%20%20%20%20%0A%20%20%20%20%20%20%20%20%20%20%20%20var%20circle_dcbb1b07dd344c08a199c55a29319d31%20%3D%20L.circle%28%0A%20%20%20%20%20%20%20%20%20%20%20%20%20%20%20%20%5B19.0896%2C%2072.8656%5D%2C%0A%20%20%20%20%20%20%20%20%20%20%20%20%20%20%20%20%7B%22bubblingMouseEvents%22%3A%20true%2C%20%22color%22%3A%20%22%230000ff%22%2C%20%22dashArray%22%3A%20null%2C%20%22dashOffset%22%3A%20null%2C%20%22fill%22%3A%20false%2C%20%22fillColor%22%3A%20%22%230000ff%22%2C%20%22fillOpacity%22%3A%200.2%2C%20%22fillRule%22%3A%20%22evenodd%22%2C%20%22lineCap%22%3A%20%22round%22%2C%20%22lineJoin%22%3A%20%22round%22%2C%20%22opacity%22%3A%201.0%2C%20%22radius%22%3A%201000%2C%20%22stroke%22%3A%20true%2C%20%22weight%22%3A%203%7D%0A%20%20%20%20%20%20%20%20%20%20%20%20%29.addTo%28map_3b262fa9c132427582636c06290bd41a%29%3B%0A%20%20%20%20%20%20%20%20%0A%20%20%20%20%0A%20%20%20%20%20%20%20%20var%20popup_4093db5720f74389a0a0f0bc98c27c12%20%3D%20L.popup%28%7B%22maxWidth%22%3A%20%22100%25%22%7D%29%3B%0A%0A%20%20%20%20%20%20%20%20%0A%20%20%20%20%20%20%20%20%20%20%20%20var%20html_0f1fd00ade6442bfac0c923acfae7f4b%20%3D%20%24%28%60%3Cdiv%20id%3D%22html_0f1fd00ade6442bfac0c923acfae7f4b%22%20style%3D%22width%3A%20100.0%25%3B%20height%3A%20100.0%25%3B%22%3EMumbai%20International%20Airport%3C/div%3E%60%29%5B0%5D%3B%0A%20%20%20%20%20%20%20%20%20%20%20%20popup_4093db5720f74389a0a0f0bc98c27c12.setContent%28html_0f1fd00ade6442bfac0c923acfae7f4b%29%3B%0A%20%20%20%20%20%20%20%20%0A%0A%20%20%20%20%20%20%20%20circle_dcbb1b07dd344c08a199c55a29319d31.bindPopup%28popup_4093db5720f74389a0a0f0bc98c27c12%29%0A%20%20%20%20%20%20%20%20%3B%0A%0A%20%20%20%20%20%20%20%20%0A%20%20%20%20%0A%20%20%20%20%0A%20%20%20%20%20%20%20%20%20%20%20%20var%20circle_marker_31cb667342834e9492f5429d8545d180%20%3D%20L.circleMarker%28%0A%20%20%20%20%20%20%20%20%20%20%20%20%20%20%20%20%5B19.038%2C%2072.8538%5D%2C%0A%20%20%20%20%20%20%20%20%20%20%20%20%20%20%20%20%7B%22bubblingMouseEvents%22%3A%20true%2C%20%22color%22%3A%20%22red%22%2C%20%22dashArray%22%3A%20null%2C%20%22dashOffset%22%3A%20null%2C%20%22fill%22%3A%20true%2C%20%22fillColor%22%3A%20%22red%22%2C%20%22fillOpacity%22%3A%200.2%2C%20%22fillRule%22%3A%20%22evenodd%22%2C%20%22lineCap%22%3A%20%22round%22%2C%20%22lineJoin%22%3A%20%22round%22%2C%20%22opacity%22%3A%201.0%2C%20%22radius%22%3A%2050%2C%20%22stroke%22%3A%20true%2C%20%22weight%22%3A%203%7D%0A%20%20%20%20%20%20%20%20%20%20%20%20%29.addTo%28map_3b262fa9c132427582636c06290bd41a%29%3B%0A%20%20%20%20%20%20%20%20%0A%20%20%20%20%0A%20%20%20%20%20%20%20%20var%20popup_f6c7dd40283d498ba354705f0388b9ec%20%3D%20L.popup%28%7B%22maxWidth%22%3A%20%22100%25%22%7D%29%3B%0A%0A%20%20%20%20%20%20%20%20%0A%20%20%20%20%20%20%20%20%20%20%20%20var%20html_c27beabd8b234c96844a87735d3e58ca%20%3D%20%24%28%60%3Cdiv%20id%3D%22html_c27beabd8b234c96844a87735d3e58ca%22%20style%3D%22width%3A%20100.0%25%3B%20height%3A%20100.0%25%3B%22%3EDharavi%20Slum%3C/div%3E%60%29%5B0%5D%3B%0A%20%20%20%20%20%20%20%20%20%20%20%20popup_f6c7dd40283d498ba354705f0388b9ec.setContent%28html_c27beabd8b234c96844a87735d3e58ca%29%3B%0A%20%20%20%20%20%20%20%20%0A%0A%20%20%20%20%20%20%20%20circle_marker_31cb667342834e9492f5429d8545d180.bindPopup%28popup_f6c7dd40283d498ba354705f0388b9ec%29%0A%20%20%20%20%20%20%20%20%3B%0A%0A%20%20%20%20%20%20%20%20%0A%20%20%20%20%0A%3C/script%3E onload=\"this.contentDocument.open();this.contentDocument.write(    decodeURIComponent(this.getAttribute('data-html')));this.contentDocument.close();\" allowfullscreen webkitallowfullscreen mozallowfullscreen></iframe></div></div>"
      ],
      "text/plain": [
       "<folium.folium.Map at 0x209910053a0>"
      ]
     },
     "execution_count": 87,
     "metadata": {},
     "output_type": "execute_result"
    }
   ],
   "source": [
    "\n",
    "mumbai_map = folium.Map(location=[19.0760,72.8777],width = '90%',height = '70%',zoom_start = 11)\n",
    "folium.Marker(location =[18.9220, 72.8347],popup = 'Gateway of India').add_to(mumbai_map)\n",
    "\n",
    "folium.Circle(location =[19.0896, 72.8656],\n",
    "             radius = 1000,\n",
    "             popup='Mumbai International Airport',\n",
    "             color = '#0000ff',\n",
    "             fill = False).add_to(mumbai_map)\n",
    "\n",
    "folium.CircleMarker(location = [19.0380, 72.8538],\n",
    "                   radius =50,\n",
    "                   popup = \"Dharavi Slum\",\n",
    "                   color = 'red',\n",
    "                   fill = True,\n",
    "                   fill_color ='red').add_to(mumbai_map)\n",
    "mumbai_map"
   ]
  },
  {
   "cell_type": "markdown",
   "id": "oriented-nurse",
   "metadata": {},
   "source": [
    "As you zoom-in and out of the map, the radius of the circular marker created using the `folium.Circle()` function increases and decreases whereas the radius of the circular marker created using the `folium.CircleMarker()` remains the same because the latter circular marker occupies the fixed number of pixels on the map.\n"
   ]
  },
  {
   "cell_type": "markdown",
   "id": "alert-amber",
   "metadata": {},
   "source": [
    "**Meteorite Landings - Count Plots**"
   ]
  },
  {
   "cell_type": "markdown",
   "id": "pleasant-string",
   "metadata": {},
   "source": [
    "A count plot is simply a type of bar graph which presents the number of occurrences of a value in a visual format. It helps in visualising the variation of values for a particular feature. For e.g., if you want to see graphically whether the number of meteorites falling over the years increasing or decreasing year-on-year basis, then you can chose to create a count plot. They are very easy to create. Let's get create a few count plots to get a better understanding."
   ]
  },
  {
   "cell_type": "code",
   "execution_count": 88,
   "id": "polar-destination",
   "metadata": {},
   "outputs": [
    {
     "name": "stdout",
     "output_type": "stream",
     "text": [
      "(45716, 10)\n"
     ]
    },
    {
     "name": "stderr",
     "output_type": "stream",
     "text": [
      "C:\\Users\\ADMIN\\anaconda3\\lib\\site-packages\\pandas\\core\\indexing.py:1720: SettingWithCopyWarning: \n",
      "A value is trying to be set on a copy of a slice from a DataFrame.\n",
      "Try using .loc[row_indexer,col_indexer] = value instead\n",
      "\n",
      "See the caveats in the documentation: https://pandas.pydata.org/pandas-docs/stable/user_guide/indexing.html#returning-a-view-versus-a-copy\n",
      "  self._setitem_single_column(loc, value, pi)\n",
      "C:\\Users\\ADMIN\\anaconda3\\lib\\site-packages\\pandas\\core\\indexing.py:1676: SettingWithCopyWarning: \n",
      "A value is trying to be set on a copy of a slice from a DataFrame.\n",
      "Try using .loc[row_indexer,col_indexer] = value instead\n",
      "\n",
      "See the caveats in the documentation: https://pandas.pydata.org/pandas-docs/stable/user_guide/indexing.html#returning-a-view-versus-a-copy\n",
      "  self._setitem_single_column(ilocs[0], value, pi)\n"
     ]
    }
   ],
   "source": [
    "\n",
    "# 1. Import the necessary libraries for this class and create a DataFrame.\n",
    "import numpy as np\n",
    "import pandas as pd\n",
    "import matplotlib.pyplot as plt\n",
    "\n",
    "met_df = pd.read_csv('https://student-datasets-bucket.s3.ap-south-1.amazonaws.com/whitehat-ds-datasets/meteorite-landings/meteorite-landings.csv')\n",
    "\n",
    "# 2. Find the number of rows and columns in the DataFrame. \n",
    "print(met_df.shape)\n",
    "\n",
    "# 3. Rows containing the year values less than 860 and greater than 2016.\n",
    "correct_years_df = met_df[(met_df['year'] >= 860) & (met_df['year'] <= 2016)]\n",
    "\n",
    "# 4. Rows having the 'reclong' values greater than or equal to -180 degrees and less than or equal to 180 degrees.\n",
    "correct_long_df = correct_years_df[(correct_years_df['reclong'] >= -180) & (correct_years_df['reclong'] <= 180)]\n",
    "\n",
    "# 5. Rows containing the '0 reclat' and '0 reclong' values from the 'correct_long_df'.\n",
    "correct_lat_long_df = correct_long_df[~((correct_long_df['reclat'] == 0 ) & (correct_long_df['reclong'] == 0))]\n",
    "\n",
    "# 6. Indices of the rows having missing mass values.\n",
    "row_indices = correct_lat_long_df[correct_lat_long_df['mass'].isnull() == True].index\n",
    "\n",
    "# 7. Missing values in the 'mass' column in the 'correct_lat_long_df' DataFrame with median of mass.\n",
    "median_mass = correct_lat_long_df['mass'].median()\n",
    "correct_lat_long_df.loc[row_indices, 'mass'] = median_mass\n",
    "\n",
    "# 8. Convert the 'year' values into an integer type values.\n",
    "correct_lat_long_df.loc[:, 'year'] = correct_lat_long_df.loc[:, 'year'].astype('int')"
   ]
  },
  {
   "cell_type": "code",
   "execution_count": 89,
   "id": "olympic-wilson",
   "metadata": {},
   "outputs": [
    {
     "data": {
      "text/html": [
       "<div>\n",
       "<style scoped>\n",
       "    .dataframe tbody tr th:only-of-type {\n",
       "        vertical-align: middle;\n",
       "    }\n",
       "\n",
       "    .dataframe tbody tr th {\n",
       "        vertical-align: top;\n",
       "    }\n",
       "\n",
       "    .dataframe thead th {\n",
       "        text-align: right;\n",
       "    }\n",
       "</style>\n",
       "<table border=\"1\" class=\"dataframe\">\n",
       "  <thead>\n",
       "    <tr style=\"text-align: right;\">\n",
       "      <th></th>\n",
       "      <th>name</th>\n",
       "      <th>id</th>\n",
       "      <th>nametype</th>\n",
       "      <th>recclass</th>\n",
       "      <th>mass</th>\n",
       "      <th>fall</th>\n",
       "      <th>year</th>\n",
       "      <th>reclat</th>\n",
       "      <th>reclong</th>\n",
       "      <th>GeoLocation</th>\n",
       "    </tr>\n",
       "  </thead>\n",
       "  <tbody>\n",
       "    <tr>\n",
       "      <th>0</th>\n",
       "      <td>Aachen</td>\n",
       "      <td>1</td>\n",
       "      <td>Valid</td>\n",
       "      <td>L5</td>\n",
       "      <td>21.0</td>\n",
       "      <td>Fell</td>\n",
       "      <td>1880.0</td>\n",
       "      <td>50.77500</td>\n",
       "      <td>6.08333</td>\n",
       "      <td>(50.775000, 6.083330)</td>\n",
       "    </tr>\n",
       "    <tr>\n",
       "      <th>1</th>\n",
       "      <td>Aarhus</td>\n",
       "      <td>2</td>\n",
       "      <td>Valid</td>\n",
       "      <td>H6</td>\n",
       "      <td>720.0</td>\n",
       "      <td>Fell</td>\n",
       "      <td>1951.0</td>\n",
       "      <td>56.18333</td>\n",
       "      <td>10.23333</td>\n",
       "      <td>(56.183330, 10.233330)</td>\n",
       "    </tr>\n",
       "    <tr>\n",
       "      <th>2</th>\n",
       "      <td>Abee</td>\n",
       "      <td>6</td>\n",
       "      <td>Valid</td>\n",
       "      <td>EH4</td>\n",
       "      <td>107000.0</td>\n",
       "      <td>Fell</td>\n",
       "      <td>1952.0</td>\n",
       "      <td>54.21667</td>\n",
       "      <td>-113.00000</td>\n",
       "      <td>(54.216670, -113.000000)</td>\n",
       "    </tr>\n",
       "    <tr>\n",
       "      <th>3</th>\n",
       "      <td>Acapulco</td>\n",
       "      <td>10</td>\n",
       "      <td>Valid</td>\n",
       "      <td>Acapulcoite</td>\n",
       "      <td>1914.0</td>\n",
       "      <td>Fell</td>\n",
       "      <td>1976.0</td>\n",
       "      <td>16.88333</td>\n",
       "      <td>-99.90000</td>\n",
       "      <td>(16.883330, -99.900000)</td>\n",
       "    </tr>\n",
       "    <tr>\n",
       "      <th>4</th>\n",
       "      <td>Achiras</td>\n",
       "      <td>370</td>\n",
       "      <td>Valid</td>\n",
       "      <td>L6</td>\n",
       "      <td>780.0</td>\n",
       "      <td>Fell</td>\n",
       "      <td>1902.0</td>\n",
       "      <td>-33.16667</td>\n",
       "      <td>-64.95000</td>\n",
       "      <td>(-33.166670, -64.950000)</td>\n",
       "    </tr>\n",
       "    <tr>\n",
       "      <th>...</th>\n",
       "      <td>...</td>\n",
       "      <td>...</td>\n",
       "      <td>...</td>\n",
       "      <td>...</td>\n",
       "      <td>...</td>\n",
       "      <td>...</td>\n",
       "      <td>...</td>\n",
       "      <td>...</td>\n",
       "      <td>...</td>\n",
       "      <td>...</td>\n",
       "    </tr>\n",
       "    <tr>\n",
       "      <th>45711</th>\n",
       "      <td>Zillah 002</td>\n",
       "      <td>31356</td>\n",
       "      <td>Valid</td>\n",
       "      <td>Eucrite</td>\n",
       "      <td>172.0</td>\n",
       "      <td>Found</td>\n",
       "      <td>1990.0</td>\n",
       "      <td>29.03700</td>\n",
       "      <td>17.01850</td>\n",
       "      <td>(29.037000, 17.018500)</td>\n",
       "    </tr>\n",
       "    <tr>\n",
       "      <th>45712</th>\n",
       "      <td>Zinder</td>\n",
       "      <td>30409</td>\n",
       "      <td>Valid</td>\n",
       "      <td>Pallasite, ungrouped</td>\n",
       "      <td>46.0</td>\n",
       "      <td>Found</td>\n",
       "      <td>1999.0</td>\n",
       "      <td>13.78333</td>\n",
       "      <td>8.96667</td>\n",
       "      <td>(13.783330, 8.966670)</td>\n",
       "    </tr>\n",
       "    <tr>\n",
       "      <th>45713</th>\n",
       "      <td>Zlin</td>\n",
       "      <td>30410</td>\n",
       "      <td>Valid</td>\n",
       "      <td>H4</td>\n",
       "      <td>3.3</td>\n",
       "      <td>Found</td>\n",
       "      <td>1939.0</td>\n",
       "      <td>49.25000</td>\n",
       "      <td>17.66667</td>\n",
       "      <td>(49.250000, 17.666670)</td>\n",
       "    </tr>\n",
       "    <tr>\n",
       "      <th>45714</th>\n",
       "      <td>Zubkovsky</td>\n",
       "      <td>31357</td>\n",
       "      <td>Valid</td>\n",
       "      <td>L6</td>\n",
       "      <td>2167.0</td>\n",
       "      <td>Found</td>\n",
       "      <td>2003.0</td>\n",
       "      <td>49.78917</td>\n",
       "      <td>41.50460</td>\n",
       "      <td>(49.789170, 41.504600)</td>\n",
       "    </tr>\n",
       "    <tr>\n",
       "      <th>45715</th>\n",
       "      <td>Zulu Queen</td>\n",
       "      <td>30414</td>\n",
       "      <td>Valid</td>\n",
       "      <td>L3.7</td>\n",
       "      <td>200.0</td>\n",
       "      <td>Found</td>\n",
       "      <td>1976.0</td>\n",
       "      <td>33.98333</td>\n",
       "      <td>-115.68333</td>\n",
       "      <td>(33.983330, -115.683330)</td>\n",
       "    </tr>\n",
       "  </tbody>\n",
       "</table>\n",
       "<p>45716 rows × 10 columns</p>\n",
       "</div>"
      ],
      "text/plain": [
       "             name     id nametype              recclass      mass   fall  \\\n",
       "0          Aachen      1    Valid                    L5      21.0   Fell   \n",
       "1          Aarhus      2    Valid                    H6     720.0   Fell   \n",
       "2            Abee      6    Valid                   EH4  107000.0   Fell   \n",
       "3        Acapulco     10    Valid           Acapulcoite    1914.0   Fell   \n",
       "4         Achiras    370    Valid                    L6     780.0   Fell   \n",
       "...           ...    ...      ...                   ...       ...    ...   \n",
       "45711  Zillah 002  31356    Valid               Eucrite     172.0  Found   \n",
       "45712      Zinder  30409    Valid  Pallasite, ungrouped      46.0  Found   \n",
       "45713        Zlin  30410    Valid                    H4       3.3  Found   \n",
       "45714   Zubkovsky  31357    Valid                    L6    2167.0  Found   \n",
       "45715  Zulu Queen  30414    Valid                  L3.7     200.0  Found   \n",
       "\n",
       "         year    reclat    reclong               GeoLocation  \n",
       "0      1880.0  50.77500    6.08333     (50.775000, 6.083330)  \n",
       "1      1951.0  56.18333   10.23333    (56.183330, 10.233330)  \n",
       "2      1952.0  54.21667 -113.00000  (54.216670, -113.000000)  \n",
       "3      1976.0  16.88333  -99.90000   (16.883330, -99.900000)  \n",
       "4      1902.0 -33.16667  -64.95000  (-33.166670, -64.950000)  \n",
       "...       ...       ...        ...                       ...  \n",
       "45711  1990.0  29.03700   17.01850    (29.037000, 17.018500)  \n",
       "45712  1999.0  13.78333    8.96667     (13.783330, 8.966670)  \n",
       "45713  1939.0  49.25000   17.66667    (49.250000, 17.666670)  \n",
       "45714  2003.0  49.78917   41.50460    (49.789170, 41.504600)  \n",
       "45715  1976.0  33.98333 -115.68333  (33.983330, -115.683330)  \n",
       "\n",
       "[45716 rows x 10 columns]"
      ]
     },
     "execution_count": 89,
     "metadata": {},
     "output_type": "execute_result"
    }
   ],
   "source": [
    "met_df"
   ]
  },
  {
   "cell_type": "markdown",
   "id": "excess-range",
   "metadata": {},
   "source": [
    "####  Count Plots^\n",
    "\n",
    "Now let's make a count plot for all the years after 1990 to see the variation in the number of meteorites observed over the years. For this, we need to create a DataFrame for all the meteorites observed (`Fell` & `Found`) after 1990."
   ]
  },
  {
   "cell_type": "code",
   "execution_count": 90,
   "id": "daily-protest",
   "metadata": {},
   "outputs": [
    {
     "data": {
      "text/html": [
       "<div>\n",
       "<style scoped>\n",
       "    .dataframe tbody tr th:only-of-type {\n",
       "        vertical-align: middle;\n",
       "    }\n",
       "\n",
       "    .dataframe tbody tr th {\n",
       "        vertical-align: top;\n",
       "    }\n",
       "\n",
       "    .dataframe thead th {\n",
       "        text-align: right;\n",
       "    }\n",
       "</style>\n",
       "<table border=\"1\" class=\"dataframe\">\n",
       "  <thead>\n",
       "    <tr style=\"text-align: right;\">\n",
       "      <th></th>\n",
       "      <th>name</th>\n",
       "      <th>id</th>\n",
       "      <th>nametype</th>\n",
       "      <th>recclass</th>\n",
       "      <th>mass</th>\n",
       "      <th>fall</th>\n",
       "      <th>year</th>\n",
       "      <th>reclat</th>\n",
       "      <th>reclong</th>\n",
       "      <th>GeoLocation</th>\n",
       "    </tr>\n",
       "  </thead>\n",
       "  <tbody>\n",
       "    <tr>\n",
       "      <th>18</th>\n",
       "      <td>Al Zarnkh</td>\n",
       "      <td>447</td>\n",
       "      <td>Valid</td>\n",
       "      <td>LL5</td>\n",
       "      <td>700.0</td>\n",
       "      <td>Fell</td>\n",
       "      <td>2001</td>\n",
       "      <td>13.66033</td>\n",
       "      <td>28.96000</td>\n",
       "      <td>(13.660330, 28.960000)</td>\n",
       "    </tr>\n",
       "    <tr>\n",
       "      <th>22</th>\n",
       "      <td>Alby sur Chéran</td>\n",
       "      <td>458</td>\n",
       "      <td>Valid</td>\n",
       "      <td>Eucrite-mmict</td>\n",
       "      <td>252.0</td>\n",
       "      <td>Fell</td>\n",
       "      <td>2002</td>\n",
       "      <td>45.82133</td>\n",
       "      <td>6.01533</td>\n",
       "      <td>(45.821330, 6.015330)</td>\n",
       "    </tr>\n",
       "    <tr>\n",
       "      <th>30</th>\n",
       "      <td>Almahata Sitta</td>\n",
       "      <td>48915</td>\n",
       "      <td>Valid</td>\n",
       "      <td>Ureilite-an</td>\n",
       "      <td>3950.0</td>\n",
       "      <td>Fell</td>\n",
       "      <td>2008</td>\n",
       "      <td>20.74575</td>\n",
       "      <td>32.41275</td>\n",
       "      <td>(20.745750, 32.412750)</td>\n",
       "    </tr>\n",
       "    <tr>\n",
       "      <th>49</th>\n",
       "      <td>Ash Creek</td>\n",
       "      <td>48954</td>\n",
       "      <td>Valid</td>\n",
       "      <td>L6</td>\n",
       "      <td>9500.0</td>\n",
       "      <td>Fell</td>\n",
       "      <td>2009</td>\n",
       "      <td>31.80500</td>\n",
       "      <td>-97.01000</td>\n",
       "      <td>(31.805000, -97.010000)</td>\n",
       "    </tr>\n",
       "    <tr>\n",
       "      <th>70</th>\n",
       "      <td>Ban Rong Du</td>\n",
       "      <td>4934</td>\n",
       "      <td>Valid</td>\n",
       "      <td>Iron, ungrouped</td>\n",
       "      <td>16700.0</td>\n",
       "      <td>Fell</td>\n",
       "      <td>1993</td>\n",
       "      <td>16.66667</td>\n",
       "      <td>101.18333</td>\n",
       "      <td>(16.666670, 101.183330)</td>\n",
       "    </tr>\n",
       "    <tr>\n",
       "      <th>...</th>\n",
       "      <td>...</td>\n",
       "      <td>...</td>\n",
       "      <td>...</td>\n",
       "      <td>...</td>\n",
       "      <td>...</td>\n",
       "      <td>...</td>\n",
       "      <td>...</td>\n",
       "      <td>...</td>\n",
       "      <td>...</td>\n",
       "      <td>...</td>\n",
       "    </tr>\n",
       "    <tr>\n",
       "      <th>45697</th>\n",
       "      <td>Zapaliname</td>\n",
       "      <td>30392</td>\n",
       "      <td>Valid</td>\n",
       "      <td>Iron, IAB-MG</td>\n",
       "      <td>85000.0</td>\n",
       "      <td>Found</td>\n",
       "      <td>1998</td>\n",
       "      <td>25.00944</td>\n",
       "      <td>-100.75000</td>\n",
       "      <td>(25.009440, -100.750000)</td>\n",
       "    </tr>\n",
       "    <tr>\n",
       "      <th>45701</th>\n",
       "      <td>Zegdou</td>\n",
       "      <td>30398</td>\n",
       "      <td>Valid</td>\n",
       "      <td>H3</td>\n",
       "      <td>6700.0</td>\n",
       "      <td>Found</td>\n",
       "      <td>1998</td>\n",
       "      <td>29.75000</td>\n",
       "      <td>-4.50000</td>\n",
       "      <td>(29.750000, -4.500000)</td>\n",
       "    </tr>\n",
       "    <tr>\n",
       "      <th>45702</th>\n",
       "      <td>Zelfana</td>\n",
       "      <td>31353</td>\n",
       "      <td>Valid</td>\n",
       "      <td>L5</td>\n",
       "      <td>1058.0</td>\n",
       "      <td>Found</td>\n",
       "      <td>2002</td>\n",
       "      <td>32.15833</td>\n",
       "      <td>4.63333</td>\n",
       "      <td>(32.158330, 4.633330)</td>\n",
       "    </tr>\n",
       "    <tr>\n",
       "      <th>45712</th>\n",
       "      <td>Zinder</td>\n",
       "      <td>30409</td>\n",
       "      <td>Valid</td>\n",
       "      <td>Pallasite, ungrouped</td>\n",
       "      <td>46.0</td>\n",
       "      <td>Found</td>\n",
       "      <td>1999</td>\n",
       "      <td>13.78333</td>\n",
       "      <td>8.96667</td>\n",
       "      <td>(13.783330, 8.966670)</td>\n",
       "    </tr>\n",
       "    <tr>\n",
       "      <th>45714</th>\n",
       "      <td>Zubkovsky</td>\n",
       "      <td>31357</td>\n",
       "      <td>Valid</td>\n",
       "      <td>L6</td>\n",
       "      <td>2167.0</td>\n",
       "      <td>Found</td>\n",
       "      <td>2003</td>\n",
       "      <td>49.78917</td>\n",
       "      <td>41.50460</td>\n",
       "      <td>(49.789170, 41.504600)</td>\n",
       "    </tr>\n",
       "  </tbody>\n",
       "</table>\n",
       "<p>16503 rows × 10 columns</p>\n",
       "</div>"
      ],
      "text/plain": [
       "                  name     id nametype              recclass     mass   fall  \\\n",
       "18           Al Zarnkh    447    Valid                   LL5    700.0   Fell   \n",
       "22     Alby sur Chéran    458    Valid         Eucrite-mmict    252.0   Fell   \n",
       "30      Almahata Sitta  48915    Valid           Ureilite-an   3950.0   Fell   \n",
       "49           Ash Creek  48954    Valid                    L6   9500.0   Fell   \n",
       "70         Ban Rong Du   4934    Valid       Iron, ungrouped  16700.0   Fell   \n",
       "...                ...    ...      ...                   ...      ...    ...   \n",
       "45697       Zapaliname  30392    Valid          Iron, IAB-MG  85000.0  Found   \n",
       "45701           Zegdou  30398    Valid                    H3   6700.0  Found   \n",
       "45702          Zelfana  31353    Valid                    L5   1058.0  Found   \n",
       "45712           Zinder  30409    Valid  Pallasite, ungrouped     46.0  Found   \n",
       "45714        Zubkovsky  31357    Valid                    L6   2167.0  Found   \n",
       "\n",
       "       year    reclat    reclong               GeoLocation  \n",
       "18     2001  13.66033   28.96000    (13.660330, 28.960000)  \n",
       "22     2002  45.82133    6.01533     (45.821330, 6.015330)  \n",
       "30     2008  20.74575   32.41275    (20.745750, 32.412750)  \n",
       "49     2009  31.80500  -97.01000   (31.805000, -97.010000)  \n",
       "70     1993  16.66667  101.18333   (16.666670, 101.183330)  \n",
       "...     ...       ...        ...                       ...  \n",
       "45697  1998  25.00944 -100.75000  (25.009440, -100.750000)  \n",
       "45701  1998  29.75000   -4.50000    (29.750000, -4.500000)  \n",
       "45702  2002  32.15833    4.63333     (32.158330, 4.633330)  \n",
       "45712  1999  13.78333    8.96667     (13.783330, 8.966670)  \n",
       "45714  2003  49.78917   41.50460    (49.789170, 41.504600)  \n",
       "\n",
       "[16503 rows x 10 columns]"
      ]
     },
     "execution_count": 90,
     "metadata": {},
     "output_type": "execute_result"
    }
   ],
   "source": [
    "met_after_1990_df = correct_lat_long_df[correct_lat_long_df['year']>1990]\n",
    "met_after_1990_df"
   ]
  },
  {
   "cell_type": "markdown",
   "id": "medical-insertion",
   "metadata": {},
   "source": [
    "So there are 16,503 meteorites which were observed (`Fell & Found`) after 1990. Now, let's create a count plot for this DataFrame.\n",
    "\n",
    "To create a count plot, we will use the `countplot()` function which exists in the `seaborn` module. It takes two inputs. The first input is the axis on which the values to be plotted and the second input is the source of the data, i.e., the DataFrame containing those values. Here, we will plot the `year` values on the x-axis."
   ]
  },
  {
   "cell_type": "code",
   "execution_count": 91,
   "id": "german-newfoundland",
   "metadata": {},
   "outputs": [
    {
     "data": {
      "image/png": "[encoded data removed]",
      "text/plain": [
       "<Figure size 1080x576 with 1 Axes>"
      ]
     },
     "metadata": {
      "needs_background": "light"
     },
     "output_type": "display_data"
    }
   ],
   "source": [
    "import seaborn as sns\n",
    "import matplotlib.pyplot as plt\n",
    "plt.figure(figsize = (15,8))\n",
    "sns.countplot(x = 'year',data = met_after_1990_df)\n",
    "plt.show()"
   ]
  },
  {
   "cell_type": "markdown",
   "id": "accepting-overall",
   "metadata": {},
   "source": [
    "So according to the above count plot, after the years 1990 (exclusive), the number of meteorites falling have been increasing and decreasing non-periodically. In other words, there appears no fixed pattern in the number of the falls of meteorites.\n",
    "\n",
    "Most number of meteorites were observed in the year 2003. Thereafter, the number of meteorites observed dropped.\n"
   ]
  },
  {
   "cell_type": "markdown",
   "id": "educational-indication",
   "metadata": {},
   "source": [
    "####  Horizontal Bars In Count Plot^^\n",
    "\n",
    "We can also change the orientation of a count plot by plotting it horizontally. In other words, we can plot the year values on the y-axis by replacing `x` with `y` in the `countplot()` function."
   ]
  },
  {
   "cell_type": "code",
   "execution_count": 92,
   "id": "seventh-assurance",
   "metadata": {},
   "outputs": [
    {
     "data": {
      "image/png": "[encoded data removed]",
      "text/plain": [
       "<Figure size 1080x576 with 1 Axes>"
      ]
     },
     "metadata": {
      "needs_background": "light"
     },
     "output_type": "display_data"
    }
   ],
   "source": [
    "plt.figure(figsize = (15,8))\n",
    "sns.countplot(y = 'year',data = met_after_1990_df)\n",
    "plt.show()"
   ]
  },
  {
   "cell_type": "markdown",
   "id": "searching-internship",
   "metadata": {},
   "source": [
    "#### The `hue` Parameter^^^\n",
    "\n",
    "We can split the count bars based on a category in a count plot. For e.g., \n",
    "we can split the count bars to show \n",
    "\n",
    "- the number of meteorites that fell but were not found in a year and \n",
    "\n",
    "- the number of meteorites that fell and were found in a year\n",
    "\n",
    "To split the count bars based on a category, use the `hue` parameter. "
   ]
  },
  {
   "cell_type": "code",
   "execution_count": null,
   "id": "hearing-monroe",
   "metadata": {},
   "outputs": [],
   "source": []
  },
  {
   "cell_type": "markdown",
   "id": "assumed-russia",
   "metadata": {},
   "source": [
    "As you can see, we have divided the count bars into the count of `Fell` and the count of `Found` bars for a year. The blue coloured bars represent the count of the meteorites which fell but not found in a year whereas the orange coloured bars represent the count of the meteorites which fell but were found in a year. The `Fell` values are very low in comparison to the `Found` values. Hence, the blue coloured bars are very short compared to the orange coloured bars.\n",
    "\n",
    "Similarly, we can also divide the count bars based on the `nametype` category."
   ]
  },
  {
   "cell_type": "code",
   "execution_count": null,
   "id": "parental-beverage",
   "metadata": {},
   "outputs": [],
   "source": []
  },
  {
   "cell_type": "markdown",
   "id": "consecutive-cincinnati",
   "metadata": {},
   "source": [
    "As you can see, we have divided the count bars into the count of `Valid` and the count of `Relict` bars for a year. The blue coloured bars represent the count of the meteorites that were found in a good condition in a year whereas the orange coloured bars represent the count of the meteorites that were found in a withered condition in a year. The `Relict` values are very low in comparison to the `Valid` values. Hence, the orange coloured bars are very short compared to the blue coloured bars.\n",
    "\n",
    "Now, let's create a count plot for the meteorites observed between the years 1961 and 1990 (both inclusive)."
   ]
  },
  {
   "cell_type": "code",
   "execution_count": null,
   "id": "seasonal-tunisia",
   "metadata": {},
   "outputs": [],
   "source": []
  },
  {
   "cell_type": "markdown",
   "id": "prompt-biotechnology",
   "metadata": {},
   "source": [
    "So, there are 13,631 meteorites which were observed between 1961 and 1990 (both inclusive). Let's create a count plot for these years."
   ]
  },
  {
   "cell_type": "code",
   "execution_count": null,
   "id": "consecutive-occurrence",
   "metadata": {},
   "outputs": [],
   "source": []
  },
  {
   "cell_type": "markdown",
   "id": "taken-annotation",
   "metadata": {},
   "source": [
    "As you can see, the number of meteorites fallen on Earth started increasing since 1974. Before 1974, the number of meteorites fallen were consistently less than 500. This could also possibly mean that till 1974, we did not had the capacity (or technology) to precisely monitor the fall of the meteorites.\n",
    "\n",
    "The most number of meteorites were observed in the year 1979. Now, let's split the count bar for each year into two count bars based on the `fall` category.\n",
    "\n"
   ]
  },
  {
   "cell_type": "code",
   "execution_count": null,
   "id": "detailed-strip",
   "metadata": {},
   "outputs": [],
   "source": []
  },
  {
   "cell_type": "markdown",
   "id": "great-negative",
   "metadata": {},
   "source": [
    "Again, the `Found` meteorites are large in numbers for each year.\n",
    "\n",
    "Now, let's split the count bars into two count bars based on the `nametype` category.\n"
   ]
  },
  {
   "cell_type": "code",
   "execution_count": null,
   "id": "dimensional-simpson",
   "metadata": {},
   "outputs": [],
   "source": []
  },
  {
   "cell_type": "markdown",
   "id": "registered-personality",
   "metadata": {},
   "source": [
    "<b> Histograms</b>\n",
    "\n",
    "Histogram is a type of bar graph which plots the data falling in the same interval together"
   ]
  },
  {
   "cell_type": "markdown",
   "id": "danish-falls",
   "metadata": {},
   "source": [
    "<b> hist() </b>"
   ]
  },
  {
   "cell_type": "code",
   "execution_count": null,
   "id": "following-carry",
   "metadata": {},
   "outputs": [],
   "source": []
  },
  {
   "cell_type": "code",
   "execution_count": null,
   "id": "rocky-centre",
   "metadata": {},
   "outputs": [],
   "source": []
  },
  {
   "cell_type": "markdown",
   "id": "fourth-yacht",
   "metadata": {},
   "source": [
    "*** sum() ***"
   ]
  },
  {
   "cell_type": "code",
   "execution_count": null,
   "id": "massive-interview",
   "metadata": {},
   "outputs": [],
   "source": []
  },
  {
   "cell_type": "markdown",
   "id": "greatest-catering",
   "metadata": {},
   "source": [
    "<b> Histogram using the distplot() Function </b>\n",
    "\n",
    "\n"
   ]
  },
  {
   "cell_type": "code",
   "execution_count": null,
   "id": "demanding-delay",
   "metadata": {},
   "outputs": [],
   "source": []
  },
  {
   "cell_type": "code",
   "execution_count": null,
   "id": "clinical-crown",
   "metadata": {},
   "outputs": [],
   "source": []
  },
  {
   "cell_type": "code",
   "execution_count": null,
   "id": "chemical-massachusetts",
   "metadata": {},
   "outputs": [],
   "source": []
  },
  {
   "cell_type": "code",
   "execution_count": null,
   "id": "stylish-panel",
   "metadata": {},
   "outputs": [],
   "source": []
  },
  {
   "cell_type": "code",
   "execution_count": null,
   "id": "palestinian-suggestion",
   "metadata": {},
   "outputs": [],
   "source": []
  },
  {
   "cell_type": "markdown",
   "id": "empty-probe",
   "metadata": {},
   "source": [
    "**What is Matplotlib?**\n",
    "Matplotlib is a low level graph plotting library in python that serves as a visualization utility.\n",
    "\n",
    "Matplotlib is open source and we can use it freely.\n",
    "\n",
    "Matplotlib is mostly written in python, a few segments are written in C, Objective-C and Javascript for Platform compatibility."
   ]
  },
  {
   "cell_type": "markdown",
   "id": "grand-freight",
   "metadata": {},
   "source": [
    "**Import Matplotlib**\n",
    "Once Matplotlib is installed, import it in your applications by adding the import module statement:"
   ]
  },
  {
   "cell_type": "code",
   "execution_count": null,
   "id": "acknowledged-fortune",
   "metadata": {},
   "outputs": [],
   "source": []
  },
  {
   "cell_type": "markdown",
   "id": "announced-sponsorship",
   "metadata": {},
   "source": [
    "**Pyplot**\n",
    "\n",
    "Most of the Matplotlib utilities lies under the pyplot submodule, and are usually imported under the plt alias:"
   ]
  },
  {
   "cell_type": "code",
   "execution_count": null,
   "id": "emotional-craft",
   "metadata": {},
   "outputs": [],
   "source": [
    "\n"
   ]
  },
  {
   "cell_type": "markdown",
   "id": "suitable-kinase",
   "metadata": {},
   "source": [
    "Now the Pyplot package can be referred to as plt.\n",
    "\n",
    "**Example**\n",
    "Draw a line in a diagram from position (0,0) to position (6,250):"
   ]
  },
  {
   "cell_type": "code",
   "execution_count": null,
   "id": "ranging-webcam",
   "metadata": {},
   "outputs": [],
   "source": []
  },
  {
   "cell_type": "markdown",
   "id": "worst-regulation",
   "metadata": {},
   "source": [
    "**Matplotlib Plotting**\n",
    "\n",
    "<b>Plotting x and y points</b>\n",
    "\n",
    "The plot() function is used to draw points (markers) in a diagram.\n",
    "\n",
    "By default, the plot() function draws a line from point to point.\n",
    "\n",
    "The function takes parameters for specifying points in the diagram.\n",
    "\n",
    "Parameter 1 is an array containing the points on the x-axis.\n",
    "\n",
    "Parameter 2 is an array containing the points on the y-axis.\n",
    "\n",
    "If we need to plot a line from (1, 3) to (8, 10), we have to pass two arrays [1, 8] and [3, 10] to the plot function.\n",
    "\n",
    "<b>Example</b>\n",
    "\n",
    "Draw a line in a diagram from position (1, 3) to position (8, 10):"
   ]
  },
  {
   "cell_type": "code",
   "execution_count": null,
   "id": "atlantic-recorder",
   "metadata": {},
   "outputs": [],
   "source": []
  },
  {
   "cell_type": "markdown",
   "id": "sitting-dominant",
   "metadata": {},
   "source": [
    "The x-axis is the horizontal axis.\n",
    "\n",
    "The y-axis is the vertical axis.\n",
    "\n",
    "**Plotting Without Line**\n",
    "\n",
    "To plot only the markers, you can use shortcut string notation parameter 'o', which means 'rings'.\n",
    "\n",
    "**Example**\n",
    "Draw two points in the diagram, one at position (1, 3) and one in position (8, 10):"
   ]
  },
  {
   "cell_type": "code",
   "execution_count": null,
   "id": "decent-qualification",
   "metadata": {},
   "outputs": [],
   "source": []
  },
  {
   "cell_type": "markdown",
   "id": "boolean-single",
   "metadata": {},
   "source": [
    "**Multiple Points**\n",
    "\n",
    "You can plot as many points as you like, just make sure you have the same number of points in both axis.\n",
    "\n",
    "**Example**\n",
    "Draw a line in a diagram from position (1, 3) to (2, 8) then to (6, 1) and finally to position (8, 10):"
   ]
  },
  {
   "cell_type": "code",
   "execution_count": null,
   "id": "surrounded-international",
   "metadata": {},
   "outputs": [],
   "source": []
  },
  {
   "cell_type": "markdown",
   "id": "natural-border",
   "metadata": {},
   "source": [
    "**Default X-Points**\n",
    "\n",
    "If we do not specify the points in the x-axis, they will get the default values 0, 1, 2, 3, (etc. depending on the length of the y-points.\n",
    "\n",
    "So, if we take the same example as above, and leave out the x-points, the diagram will look like this:\n",
    "\n",
    "**Example**\n",
    "Plotting without x-points:"
   ]
  },
  {
   "cell_type": "code",
   "execution_count": null,
   "id": "virtual-minnesota",
   "metadata": {},
   "outputs": [],
   "source": []
  },
  {
   "cell_type": "markdown",
   "id": "protected-corner",
   "metadata": {},
   "source": [
    "**Matplotlib Markers**\n",
    "\n",
    "\n",
    "You can use the keyword argument marker to emphasize each point with a specified marker:\n",
    "\n",
    "**Example**\n",
    "Mark each point with a circle:"
   ]
  },
  {
   "cell_type": "code",
   "execution_count": null,
   "id": "interior-review",
   "metadata": {},
   "outputs": [],
   "source": []
  },
  {
   "cell_type": "markdown",
   "id": "trained-xerox",
   "metadata": {},
   "source": [
    "**Example**\n",
    "Mark each point with a star:"
   ]
  },
  {
   "cell_type": "code",
   "execution_count": null,
   "id": "super-desert",
   "metadata": {},
   "outputs": [],
   "source": []
  },
  {
   "cell_type": "markdown",
   "id": "previous-namibia",
   "metadata": {},
   "source": [
    "**You can choose any of these markers:**\n",
    "\n",
    "'o'\tCircle\t\n",
    "'*'\tStar\t\n",
    "'.'\tPoint\t\n",
    "','\tPixel\t\n",
    "'x'\tX\t\n",
    "'X'\tX (filled)\t\n",
    "'+'\tPlus\t\n",
    "'P'\tPlus (filled)\t\n",
    "'s'\tSquare\t\n",
    "'D'\tDiamond\t\n",
    "'d'\tDiamond (thin)\t\n",
    "'p'\tPentagon\t\n",
    "'H'\tHexagon\t\n",
    "'h'\tHexagon\t\n",
    "'v'\tTriangle Down\t\n",
    "'^'\tTriangle Up\t\n",
    "'<'\tTriangle Left\t\n",
    "'>'\tTriangle Right\t\n",
    "'1'\tTri Down\t\n",
    "'2'\tTri Up\t\n",
    "'3'\tTri Left\t\n",
    "'4'\tTri Right\t\n",
    "'|'\tVline\t\n",
    "'_'\tHline\t\n",
    "\n",
    "\n",
    "**Format Strings fmt**\n",
    "\n",
    "You can use also use the shortcut string notation parameter to specify the marker.\n",
    "\n",
    "This parameter is also called fmt, and is written with this syntax:\n",
    "\n",
    "marker|line|color\n",
    "\n",
    "Example\n",
    "Mark each point with a circle:"
   ]
  },
  {
   "cell_type": "code",
   "execution_count": null,
   "id": "present-pleasure",
   "metadata": {},
   "outputs": [],
   "source": []
  },
  {
   "cell_type": "markdown",
   "id": "induced-slovak",
   "metadata": {},
   "source": [
    "The marker value can be anything from the Marker Reference above.\n",
    "\n",
    "The line value can be one of the following:\n",
    "\n",
    "'-'\tSolid line\t\n",
    "':'\tDotted line\t\n",
    "'--'Dashed line\t\n",
    "'-.'Dashed/dotted line\t\n",
    "\n",
    "Note: If you leave out the line value in the fmt parameter, no line will be plottet.\n",
    "\n",
    "The short color value can be one of the following:\n",
    "\n",
    "'r'\tRed\t\n",
    "'g'\tGreen\t\n",
    "'b'\tBlue\t\n",
    "'c'\tCyan\t\n",
    "'m'\tMagenta\t\n",
    "'y'\tYellow\t\n",
    "'k'\tBlack\t\n",
    "'w'\tWhite\t\n",
    "\n",
    "\n",
    "**Marker Size**\n",
    "\n",
    "You can use the keyword argument markersize or the shorter version, ms to set the size of the markers:\n",
    "\n",
    "**Example**\n",
    "\n",
    "Set the size of the markers to 20:"
   ]
  },
  {
   "cell_type": "code",
   "execution_count": null,
   "id": "silver-commercial",
   "metadata": {},
   "outputs": [],
   "source": []
  },
  {
   "cell_type": "markdown",
   "id": "respiratory-tribe",
   "metadata": {},
   "source": [
    "**Marker Color**\n",
    "\n",
    "You can use the keyword argument markeredgecolor or the shorter mec to set the color of the edge of the markers:\n",
    "\n",
    "**Example**\n",
    "Set the EDGE color to red:"
   ]
  },
  {
   "cell_type": "code",
   "execution_count": null,
   "id": "indonesian-waterproof",
   "metadata": {},
   "outputs": [],
   "source": []
  },
  {
   "cell_type": "markdown",
   "id": "basic-chambers",
   "metadata": {},
   "source": [
    "You can use the keyword argument markerfacecolor or the shorter mfc to set the color inside the edge of the markers:\n",
    "\n",
    "**Example**\n",
    "\n",
    "Set the FACE color to red:"
   ]
  },
  {
   "cell_type": "code",
   "execution_count": null,
   "id": "solar-entertainment",
   "metadata": {},
   "outputs": [],
   "source": []
  },
  {
   "cell_type": "markdown",
   "id": "later-ability",
   "metadata": {},
   "source": [
    "Use both the mec and mfc arguments to color of the entire marker:\n",
    "\n",
    "**Example**\n",
    "Set the color of both the edge and the face to red:"
   ]
  },
  {
   "cell_type": "code",
   "execution_count": null,
   "id": "individual-lounge",
   "metadata": {},
   "outputs": [],
   "source": []
  },
  {
   "cell_type": "markdown",
   "id": "involved-husband",
   "metadata": {},
   "source": [
    "**Matplotlib Line**\n",
    "\n",
    "**Linestyle**\n",
    "\n",
    "You can use the keyword argument linestyle, or shorter ls, to change the style of the plotted line:\n",
    "\n",
    "Example\n",
    "Use a dotted line:"
   ]
  },
  {
   "cell_type": "code",
   "execution_count": null,
   "id": "ecological-residence",
   "metadata": {},
   "outputs": [],
   "source": []
  },
  {
   "cell_type": "markdown",
   "id": "super-prime",
   "metadata": {},
   "source": [
    "<b>Example</b>\n",
    "\n",
    "Use a dashed line:"
   ]
  },
  {
   "cell_type": "code",
   "execution_count": null,
   "id": "novel-validation",
   "metadata": {},
   "outputs": [],
   "source": []
  },
  {
   "cell_type": "markdown",
   "id": "progressive-buying",
   "metadata": {},
   "source": [
    "**Shorter Syntax**\n",
    "\n",
    "The line style can be written in a shorter syntax:\n",
    "\n",
    "linestyle can be written as ls.\n",
    "\n",
    "dotted can be written as :.\n",
    "\n",
    "dashed can be written as --.\n",
    "\n",
    "**Example**\n",
    "\n",
    "Shorter syntax:"
   ]
  },
  {
   "cell_type": "code",
   "execution_count": null,
   "id": "analyzed-blend",
   "metadata": {},
   "outputs": [],
   "source": []
  },
  {
   "cell_type": "markdown",
   "id": "fifteen-tamil",
   "metadata": {},
   "source": [
    "**Line Styles**\n",
    "You can choose any of these styles:\n",
    "\n",
    "\n",
    "'solid' (default)\t'-'\t\n",
    "'dotted'\t':'\t\n",
    "'dashed'\t'--'\t\n",
    "'dashdot'\t'-.'\t\n",
    "'None'\t'' or ' '\t\n",
    "\n",
    "**Line Color**\n",
    "\n",
    "You can use the keyword argument color or the shorter c to set the color of the line:\n",
    "\n",
    "Example\n",
    "Set the line color to red:"
   ]
  },
  {
   "cell_type": "code",
   "execution_count": null,
   "id": "biological-lease",
   "metadata": {},
   "outputs": [],
   "source": []
  },
  {
   "cell_type": "markdown",
   "id": "hydraulic-removal",
   "metadata": {},
   "source": [
    "**Line Width**\n",
    "You can use the keyword argument linewidth or the shorter lw to change the width of the line.\n",
    "\n",
    "The value is a floating number, in points:\n",
    "\n",
    "**Example**\n",
    "\n",
    "Plot with a 20.5pt wide line:"
   ]
  },
  {
   "cell_type": "code",
   "execution_count": null,
   "id": "printable-haiti",
   "metadata": {},
   "outputs": [],
   "source": []
  },
  {
   "cell_type": "markdown",
   "id": "french-techno",
   "metadata": {},
   "source": [
    "**Multiple Lines**\n",
    "\n",
    "You can plot as many lines as you like by simply adding more plt.plot() functions:\n",
    "\n",
    "**Example**\n",
    "\n",
    "Draw two lines by specifying a plt.plot() function for each line:"
   ]
  },
  {
   "cell_type": "code",
   "execution_count": null,
   "id": "fleet-protection",
   "metadata": {},
   "outputs": [],
   "source": [
    "\n"
   ]
  },
  {
   "cell_type": "markdown",
   "id": "honey-arthur",
   "metadata": {},
   "source": [
    "You can also plot many lines by adding the points for the x- and y-axis for each line in the same plt.plot() function.\n",
    "\n",
    "(In the examples above we only specified the points on the y-axis, meaning that the points on the x-axis got the the default values (0, 1, 2, 3).)\n",
    "\n",
    "The x- and y- values come in pairs:\n",
    "\n",
    "**Example**\n",
    "\n",
    "Draw two lines by specifiyng the x- and y-point values for both lines:"
   ]
  },
  {
   "cell_type": "code",
   "execution_count": null,
   "id": "allied-canvas",
   "metadata": {},
   "outputs": [],
   "source": []
  },
  {
   "cell_type": "markdown",
   "id": "automatic-kentucky",
   "metadata": {},
   "source": [
    "**Matplotlib Labels and Title**\n",
    "\n",
    "<b>Create Labels for a Plot</b>\n",
    "\n",
    "With Pyplot, you can use the xlabel() and ylabel() functions to set a label for the x- and y-axis.\n",
    "\n",
    "Example\n",
    "Add labels to the x- and y-axis:"
   ]
  },
  {
   "cell_type": "code",
   "execution_count": null,
   "id": "valued-facing",
   "metadata": {},
   "outputs": [],
   "source": []
  },
  {
   "cell_type": "markdown",
   "id": "professional-flesh",
   "metadata": {},
   "source": [
    "**Create a Title for a Plot**\n",
    "\n",
    "With Pyplot, you can use the title() function to set a title for the plot.\n",
    "\n",
    "Example\n",
    "Add a plot title and labels for the x- and y-axis:"
   ]
  },
  {
   "cell_type": "code",
   "execution_count": null,
   "id": "sharp-appendix",
   "metadata": {},
   "outputs": [],
   "source": [
    "\n"
   ]
  },
  {
   "cell_type": "markdown",
   "id": "increasing-database",
   "metadata": {},
   "source": [
    "**Set Font Properties for Title and Labels**\n",
    "\n",
    "You can use the fontdict parameter in xlabel(), ylabel(), and title() to set font properties for the title and labels.\n",
    "\n",
    "Example\n",
    "Set font properties for the title and labels:"
   ]
  },
  {
   "cell_type": "code",
   "execution_count": null,
   "id": "forward-standing",
   "metadata": {},
   "outputs": [],
   "source": [
    "\n"
   ]
  },
  {
   "cell_type": "code",
   "execution_count": null,
   "id": "elementary-creature",
   "metadata": {},
   "outputs": [],
   "source": []
  },
  {
   "cell_type": "markdown",
   "id": "national-easter",
   "metadata": {},
   "source": [
    "**Position the Title**\n",
    "\n",
    "You can use the loc parameter in title() to position the title.\n",
    "\n",
    "Legal values are: 'left', 'right', and 'center'. Default value is 'center'.\n",
    "\n",
    "Example\n",
    "Position the title to the left:"
   ]
  },
  {
   "cell_type": "code",
   "execution_count": null,
   "id": "formal-catholic",
   "metadata": {},
   "outputs": [],
   "source": []
  },
  {
   "cell_type": "markdown",
   "id": "logical-biography",
   "metadata": {},
   "source": [
    "**Matplotlib Adding Grid Lines**\n",
    "\n",
    "With Pyplot, you can use the grid() function to add grid lines to the plot.\n",
    "\n",
    "Example\n",
    "Add grid lines to the plot:"
   ]
  },
  {
   "cell_type": "code",
   "execution_count": null,
   "id": "proved-behalf",
   "metadata": {},
   "outputs": [],
   "source": []
  },
  {
   "cell_type": "markdown",
   "id": "industrial-yukon",
   "metadata": {},
   "source": [
    "**Specify Which Grid Lines to Display**\n",
    "\n",
    "You can use the axis parameter in the grid() function to specify which grid lines to display.\n",
    "\n",
    "Legal values are: 'x', 'y', and 'both'. Default value is 'both'.\n",
    "\n",
    "Example\n",
    "Display only grid lines for the x-axis:"
   ]
  },
  {
   "cell_type": "code",
   "execution_count": null,
   "id": "hearing-messaging",
   "metadata": {},
   "outputs": [],
   "source": []
  },
  {
   "cell_type": "code",
   "execution_count": null,
   "id": "documentary-nickname",
   "metadata": {},
   "outputs": [],
   "source": []
  },
  {
   "cell_type": "markdown",
   "id": "engaged-lyric",
   "metadata": {},
   "source": [
    "**Set Line Properties for the Grid**\n",
    "\n",
    "You can also set the line properties of the grid, like this: grid(color = 'color', linestyle = 'linestyle', linewidth = number).\n",
    "\n",
    "Example\n",
    "Set the line properties of the grid:"
   ]
  },
  {
   "cell_type": "code",
   "execution_count": null,
   "id": "defensive-ebony",
   "metadata": {},
   "outputs": [],
   "source": []
  },
  {
   "cell_type": "markdown",
   "id": "informed-slovakia",
   "metadata": {},
   "source": [
    "**Matplotlib Subplots**\n",
    "\n",
    "Display Multiple Plots\n",
    "\n",
    "With the subplots() function you can draw multiple plots in one figure:\n",
    "\n",
    "Example\n",
    "Draw 2 plots:"
   ]
  },
  {
   "cell_type": "code",
   "execution_count": null,
   "id": "future-scale",
   "metadata": {},
   "outputs": [],
   "source": [
    "\n"
   ]
  },
  {
   "cell_type": "markdown",
   "id": "dressed-dayton",
   "metadata": {},
   "source": [
    "**The subplots() Function**\n",
    "\n",
    "The subplots() function takes three arguments that describes the layout of the figure.\n",
    "\n",
    "The layout is organized in rows and columns, which are represented by the first and second argument.\n",
    "\n",
    "The third argument represents the index of the current plot.\n",
    "\n",
    "plt.subplot(1, 2, 1)\n",
    "#the figure has 1 row, 2 columns, and this plot is the first plot.\n",
    "\n",
    "plt.subplot(1, 2, 2)\n",
    "\n",
    "the figure has 1 row, 2 columns, and this plot is the second plot.\n",
    "So, if we want a figure with 2 rows an 1 column (meaning that the two plots will be displayed on top of each other instead of side-by-side), we can write the syntax like this:\n",
    "\n",
    "**Example**\n",
    "Draw 2 plots on top of each other:"
   ]
  },
  {
   "cell_type": "code",
   "execution_count": null,
   "id": "extra-hydrogen",
   "metadata": {},
   "outputs": [],
   "source": []
  },
  {
   "cell_type": "markdown",
   "id": "accurate-trinity",
   "metadata": {},
   "source": [
    "**Title***\n",
    "\n",
    "You can add a title to each plot with the title() function:\n",
    "\n",
    "Example\n",
    "2 plots, with titles:"
   ]
  },
  {
   "cell_type": "code",
   "execution_count": null,
   "id": "olympic-greene",
   "metadata": {},
   "outputs": [],
   "source": []
  },
  {
   "cell_type": "markdown",
   "id": "discrete-quality",
   "metadata": {},
   "source": [
    "**Super Title**\n",
    "\n",
    "You can add a title to the entire figure with the suptitle() function:\n",
    "\n",
    "Example\n",
    "Add a title for the entire figure:"
   ]
  },
  {
   "cell_type": "code",
   "execution_count": null,
   "id": "suburban-possible",
   "metadata": {},
   "outputs": [],
   "source": [
    "\n",
    "\n"
   ]
  },
  {
   "cell_type": "markdown",
   "id": "consistent-tutorial",
   "metadata": {},
   "source": [
    "**Creating Scatter Plots**\n",
    "\n",
    "With Pyplot, you can use the scatter() function to draw a scatter plot.\n",
    "\n",
    "The scatter() function plots one dot for each observation. It needs two arrays of the same length, one for the values of the x-axis, and one for values on the y-axis:\n",
    "\n",
    "**Example**\n",
    "\n",
    "A simple scatter plot:"
   ]
  },
  {
   "cell_type": "code",
   "execution_count": null,
   "id": "wrong-titanium",
   "metadata": {},
   "outputs": [],
   "source": []
  },
  {
   "cell_type": "markdown",
   "id": "difficult-nelson",
   "metadata": {},
   "source": [
    "The observation in the example above is the result of 13 cars passing by.\n",
    "\n",
    "The X-axis shows how old the car is.\n",
    "\n",
    "The Y-axis shows the speed of the car when it passes.\n",
    "\n",
    "Are there any relationships between the observations?\n",
    "\n",
    "It seems that the newer the car, the faster it drives, but that could be a coincidence, after all we only registered 13 cars.\n",
    "\n",
    "**Compare Plots**\n",
    "\n",
    "In the example above, there seems to be a relationship between speed and age, but what if we plot the observations from another day as well? Will the scatter plot tell us something else?\n",
    "\n",
    "Example\n",
    "Draw two plots on the same figure:"
   ]
  },
  {
   "cell_type": "code",
   "execution_count": null,
   "id": "advanced-liberal",
   "metadata": {},
   "outputs": [],
   "source": []
  },
  {
   "cell_type": "markdown",
   "id": "threatened-cycle",
   "metadata": {},
   "source": [
    "Note: The two plots are plotted with two different colors, by default blue and orange, you will learn how to change colors later.\n",
    "\n",
    "By comparing the two plots, I think it is safe to say that they both gives us the same conclusion: the newer the car, the faster it drives.\n",
    "\n",
    "**Colors**\n",
    "\n",
    "You can set your own color for each scatter plot with the color or the c argument:\n",
    "\n",
    "Example\n",
    "Set your own color of the markers:"
   ]
  },
  {
   "cell_type": "code",
   "execution_count": null,
   "id": "frequent-rates",
   "metadata": {},
   "outputs": [],
   "source": []
  },
  {
   "attachments": {
    "img_colorbar.png": {
     "image/png": "[encoded data removed]"
    }
   },
   "cell_type": "markdown",
   "id": "relative-traveler",
   "metadata": {},
   "source": [
    "**ColorMap**\n",
    "\n",
    "The Matplotlib module has a number of available colormaps.\n",
    "\n",
    "A colormap is like a list of colors, where each color has a value that ranges from 0 to 100.\n",
    "\n",
    "Here is an example of a colormap:\n",
    "\n",
    "\n",
    "![img_colorbar.png](attachment:img_colorbar.png)\n",
    "\n",
    "This colormap is called 'viridis' and as you can see it ranges from 0, which is a purple color, and up to 100, which is a yellow color.\n",
    "\n",
    "**How to Use the ColorMap**\n",
    "\n",
    "You can specify the colormap with the keyword argument cmap with the value of the colormap, in this case 'viridis' which is one of the built-in colormaps available in Matplotlib.\n",
    "\n",
    "In addition you have to create an array with values (from 0 to 100), one value for each of the point in the scatter plot:\n",
    "\n",
    "Example\n",
    "Create a color array, and specify a colormap in the scatter plot:"
   ]
  },
  {
   "cell_type": "code",
   "execution_count": null,
   "id": "graduate-least",
   "metadata": {},
   "outputs": [],
   "source": []
  },
  {
   "cell_type": "markdown",
   "id": "dominican-network",
   "metadata": {},
   "source": [
    "You can include the colormap in the drawing by including the plt.colorbar() statement:\n",
    "\n",
    "Example\n",
    "Include the actual colormap:"
   ]
  },
  {
   "cell_type": "code",
   "execution_count": null,
   "id": "honest-frame",
   "metadata": {},
   "outputs": [],
   "source": []
  },
  {
   "cell_type": "markdown",
   "id": "general-sandwich",
   "metadata": {},
   "source": [
    "**Creating Pie Charts**\n",
    "\n",
    "With Pyplot, you can use the pie() function to draw pie charts:\n",
    "\n",
    "Example\n",
    "A simple pie chart:"
   ]
  },
  {
   "cell_type": "code",
   "execution_count": null,
   "id": "present-edgar",
   "metadata": {},
   "outputs": [],
   "source": []
  },
  {
   "attachments": {
    "img_matplotlib_pie_start.png": {
     "image/png": "[encoded data removed]"
    }
   },
   "cell_type": "markdown",
   "id": "hydraulic-buffalo",
   "metadata": {},
   "source": [
    "As you can see the pie chart draws one piece (called a wedge) for each value in the array (in this case [35, 25, 25, 15]).\n",
    "\n",
    "By default the plotting of the first wedge starts from the x-axis and move counterclockwise:\n",
    "\n",
    "![img_matplotlib_pie_start.png](attachment:img_matplotlib_pie_start.png)\n",
    "\n",
    "Note: The size of each wedge is determined by comparing the value with all the other values, by using this formula:\n",
    "\n",
    "The value divided by the sum of all values: x/sum(x)\n",
    "\n",
    "**Labels**\n",
    "\n",
    "Add labels to the pie chart with the label parameter.\n",
    "\n",
    "The label parameter must be an array with one label for each wedge:\n",
    "\n",
    "Example\n",
    "A simple pie chart:"
   ]
  },
  {
   "cell_type": "code",
   "execution_count": null,
   "id": "stunning-silver",
   "metadata": {},
   "outputs": [],
   "source": []
  },
  {
   "attachments": {
    "img_matplotlib_pie_angles.png": {
     "image/png": "[encoded data removed]"
    }
   },
   "cell_type": "markdown",
   "id": "choice-seeker",
   "metadata": {},
   "source": [
    "**Start Angle**\n",
    "\n",
    "As mentioned the default start angle is at the x-axis, but you can change the start angle by specifying a startangle parameter.\n",
    "\n",
    "The startangle parameter is defined with an angle in degrees, default angle is 0:\n",
    "\n",
    "![img_matplotlib_pie_angles.png](attachment:img_matplotlib_pie_angles.png)\n",
    "\n",
    "Example\n",
    "Start the first wedge at 90 degrees:"
   ]
  },
  {
   "cell_type": "code",
   "execution_count": null,
   "id": "improving-cache",
   "metadata": {},
   "outputs": [],
   "source": []
  },
  {
   "cell_type": "markdown",
   "id": "occupied-sucking",
   "metadata": {},
   "source": [
    "**Explode**\n",
    "\n",
    "Maybe you want one of the wedges to stand out? The explode parameter allows you to do that.\n",
    "\n",
    "The explode parameter, if specified, and not None, must be an array with one value for each wedge.\n",
    "\n",
    "Each value represents how far from the center each wedge is displayed:\n",
    "\n",
    "Example\n",
    "Pull the \"Apples\" wedge 0.2 from the center of the pie:"
   ]
  },
  {
   "cell_type": "code",
   "execution_count": null,
   "id": "equal-texas",
   "metadata": {},
   "outputs": [],
   "source": []
  },
  {
   "cell_type": "markdown",
   "id": "cooperative-intensity",
   "metadata": {},
   "source": [
    "**Shadow**\n",
    "\n",
    "Add a shadow to the pie chart by setting the shadows parameter to True:\n",
    "\n",
    "Example\n",
    "Add a shadow:"
   ]
  },
  {
   "cell_type": "code",
   "execution_count": null,
   "id": "lyric-scottish",
   "metadata": {},
   "outputs": [],
   "source": []
  },
  {
   "cell_type": "markdown",
   "id": "functional-speech",
   "metadata": {},
   "source": [
    "**Colors**\n",
    "\n",
    "You can set the color of each wedge with the colors parameter.\n",
    "\n",
    "The colors parameter, if specified, must be an array with one value for each wedge:\n",
    "\n",
    "Example\n",
    "Specify a new color for each wedge:"
   ]
  },
  {
   "cell_type": "code",
   "execution_count": null,
   "id": "painful-bangladesh",
   "metadata": {},
   "outputs": [],
   "source": []
  },
  {
   "cell_type": "markdown",
   "id": "continent-retro",
   "metadata": {},
   "source": [
    "**Legend**\n",
    "To add a list of explanation for each wedge, use the legend() function:\n",
    "\n",
    "Example\n",
    "Add a legend:"
   ]
  },
  {
   "cell_type": "code",
   "execution_count": null,
   "id": "statewide-parts",
   "metadata": {},
   "outputs": [],
   "source": []
  },
  {
   "cell_type": "markdown",
   "id": "thousand-charlotte",
   "metadata": {},
   "source": [
    "####  The Boxplot^^^\n",
    "\n",
    "Let's visualise the spread of the values in \n",
    "DataFrame. For this, we will create a boxplot. It plots the minimum, first quartile, second quartile, third quartile and maximum values in the form of a box. \n",
    "\n",
    "<img src='https://student-datasets-bucket.s3.ap-south-1.amazonaws.com/images/boxplot_description.png' width='800'>\n",
    "\n",
    "In a boxplot:\n",
    "\n",
    "1. The leftmost vertical line denotes the \n",
    "$Q1 - 1.5 \\times IQR$ \n",
    "value where \n",
    "    \n",
    "    - $IQR$ \n",
    "      stands for *inter-quartile range*. Its value is equal to \n",
    "      $Q3 - Q1$\n",
    "\n",
    "    - $Q1$ \n",
    "      denotes the first quartile value\n",
    "\n",
    "    - $Q3$ \n",
    "      denotes the third quartile value\n",
    "\n",
    "2. The left edge of the rectangle denotes the first quartile\n",
    "   $(Q1)$\n",
    "   value\n",
    "\n",
    "3. The middle edge in the rectangle denotes the median \n",
    "   $(Q2)$ \n",
    "   value\n",
    "\n",
    "4. The right edge of the rectangle denotes the third quartile \n",
    "   $(Q3)$ \n",
    "   value\n",
    "\n",
    "5. The rightmost vertical line denotes the \n",
    "   $Q3 + 1.5 \\times IQR$ \n",
    "   value in the series\n",
    "\n",
    "6. The two horizontal lines are called whiskers. The length of these whiskers represent the number of values lying between the \n",
    "$Q1$ and $Q1 - 1.5 \\times IQR$ \n",
    "values and the \n",
    "$Q3$ \n",
    "and \n",
    "$Q3 + 1.5 \\times IQR$ \n",
    "values. **Smaller the length, the fewer number of values. Larger the length, more the number of values.**\n",
    "\n",
    "7. The length of the rectangle also represents the number of values lying between the first and third quartile values.\n",
    "\n",
    "8. The filled-circles beyond the vertical lines denote the **outliers**. The outliers in a dataset are those values which are unusually too large or too small. For example in the series \n",
    "\n",
    "$$1, 5, 2, 6, 4, 8, 5, 7, 9, 3, 121109, 459882$$\n",
    "\n",
    "   the numbers $121109, 459882$ are unusually high values compared to the majority of values.\n",
    "\n",
    "To create a boxplot, we will use the `boxplot()` function from the `seaborn` library. The `seaborn` is another library for data visualisation. It is built on top of the `matplotlib.pyplot` library. For all practical purposes, the `seaborn` library is an extension to the `matplotlib.pyplot` library. "
   ]
  },
  {
   "cell_type": "code",
   "execution_count": null,
   "id": "mighty-sheep",
   "metadata": {},
   "outputs": [],
   "source": []
  },
  {
   "cell_type": "code",
   "execution_count": null,
   "id": "married-ethernet",
   "metadata": {},
   "outputs": [],
   "source": []
  },
  {
   "cell_type": "markdown",
   "id": "governing-adapter",
   "metadata": {},
   "source": [
    "#### Annotations\n",
    "\n",
    "**Patches**\n",
    "\n",
    "With reference to the `matplotlib.pyplot` module, the bars in the count plots and histograms are considered as rectangles. Each rectangle (or bar) in a count plot and a histogram has a width, height, $x$ and $y$ coordinates as shown in the image below.\n",
    "\n",
    "<img src='https://student-datasets-bucket.s3.ap-south-1.amazonaws.com/images/matplotlib_rectangle.png' width=700>\n",
    "\n",
    "To create an annotated bar (both histogram and count plot) graph, we first need to get the rectangle attributes using the `patches` keyword along with the following functions:\n",
    "\n",
    "1. The `get_width()` function returns the width of the rectangle as shown in the image above.\n",
    "\n",
    "2. The `get_height()` function returns the height of the rectangle as shown in the image above.\n",
    "\n",
    "3. The `get_x()` function returns the `x` (or left) coordinate of the rectangle as shown in the image above.\n",
    "\n",
    "4. The `get_y()` function returns the `y` (or bottom) coordinate of the rectangle as shown in the image above.\n",
    "\n",
    "**Note:** \n",
    "\n",
    "1. The `angle` and `fill` are two more attributes of a rectanglee which we don't need to know at the moment. We will learn about them whenever we require them.\n",
    "\n",
    "2. The `patches` keyword works only if the `matplotlib` module is imported.\n",
    "\n",
    "Let's get the Python list containing the rectangle attributes for the count plot displaying the number of meteorites fallen between 1970 and 2000. Also, let's print the length of the list. The steps to be followed are:\n",
    "\n",
    "1. Use the `countplot()` function to create a count plot for the meteorites fallen between 1970 and 2000 (both inclusive) and then store the count plot in a variable.\n",
    "\n",
    "2. Use the `patches` keyword to get the rectangle attributes list. Print the length of the list.\n",
    "\n",
    "3. Use the `for` loop to print rectangle attributes for each rectangle.\n"
   ]
  },
  {
   "cell_type": "code",
   "execution_count": null,
   "id": "ignored-czech",
   "metadata": {},
   "outputs": [],
   "source": []
  },
  {
   "cell_type": "markdown",
   "id": "returning-belly",
   "metadata": {},
   "source": [
    "As you can see, the `patches` keyword returns the Python list containing the attributes of each bar (or rectangle) in the count plot along with the countplot (to be ignored at the moment). There are 31 such rectangles, hence we have attributes for 31 rectangles in the `cp.patches` list.\n",
    "\n",
    "Let's get the `width, height, x` and `y` coordinates of each bar in the above count plot using the `get_width(), get_height(), get_x()` and `get_y()` functions respectively."
   ]
  },
  {
   "cell_type": "code",
   "execution_count": null,
   "id": "processed-queensland",
   "metadata": {},
   "outputs": [],
   "source": []
  },
  {
   "cell_type": "markdown",
   "id": "sublime-laundry",
   "metadata": {},
   "source": [
    "#### The `annotate()` Function^^\n",
    "\n",
    "To annotate a bar in either a histogram or a count plot, you need to use the `annotate()` function. It takes several parameters as inputs. But for the time being, we will pass only the following parameters:\n",
    "\n",
    "1. `text` - It is the label (or annotation) that you would like to put in the graph. Here, we will put the height of each bar graph as the labels. It is supposed to be a string value. The `text` parameter also supports integer values but as a best practice, always use only the string values.\n",
    "\n",
    "2. `xy` - It is the position (`x` and `y` coordinates) of the bar where a label (or annotation) is supposed to be applied. The coordinates need to be passed as a tuple.\n",
    "\n",
    "3. `ha` or `horizontalalignment` - As the name suggests, it controls the horizontal alignment of the label (or annotation). You can provide the following values for horizontal alignment:\n",
    "\n",
    "  - `left` - It puts a label on the right-hand side of the `x` coordinate. This is counter-intuitive.\n",
    "\n",
    "  - `right` - It puts a label on the left-hand side of the `x` coordinate. This is again counter-intuitive.\n",
    "\n",
    "  - `center` - It puts a label at equal distances w.r.t. the `x` coordinate. \n",
    "\n",
    "4. `va` or `verticalalignment` - As the name suggests, it controls the vertical alignment of the label (or annotation).\n",
    "\n",
    "  - `top` - It puts a label at bottom w.r.t. the `y` coordinate. This is counter-intuitive.\n",
    "\n",
    "  - `center` - It puts a label at equal distances w.r.t. the `y` coordinate.\n",
    "\n",
    "  - `bottom` - It puts a label at top w.r.t. the `y` coordinate. This is counter-intuitive.\n",
    "\n",
    "**Syntax:** `some_plot.annotate(text, xy, ha, va)` where `some_plot` is the variable storing the `matplotlib.pyplot` graph.\n",
    "\n",
    "Now, let's annotate the count plot for the meteorites fallen between the years 1970 and 2000 (including 2000). \n"
   ]
  },
  {
   "cell_type": "code",
   "execution_count": null,
   "id": "apart-outreach",
   "metadata": {},
   "outputs": [],
   "source": []
  },
  {
   "cell_type": "markdown",
   "id": "important-thing",
   "metadata": {},
   "source": [
    "In the above code, we iterate through each patch to get the attributes for each bar in the count plot. \n",
    "\n",
    "For each bar:\n",
    "\n",
    "- We annotate (or label) the bar height to the bar. The bar height is essentially the count of meteorites fallen to Earth in a year. We convert it into a string value using the `str()` function to pass it as the value for the `text` parameter in the `annotate()` function. \n",
    "\n",
    "- Using the `get_x()` function, we get the x-coordinate of the bar to specify the horizontal position of the label to be placed.\n",
    "\n",
    "- Using the `get_height()` function again, we get the height of the bar which we use to specify the vertical position of the label to be placed.\n",
    "\n",
    "- Using the `get_width()` function, we get the width of the bar which we have added to the value returned by the `get_x()` function to adjust the horizontal position of the label to be placed. The horizontal and vertical positions are passed as the values of the `xy` parameter.\n",
    "\n",
    "- We have further adjusted the position of the label to be placed using the `ha` and `va` parameters.\n",
    "\n",
    "You should play with the `xy`, `ha` and `va` parameters by changing their values to truly understand the alignment behaviour of an annotation (or label).\n",
    "\n",
    "Now, let's annotate a histogram created using the `displot()` function of the `seaborn` module."
   ]
  },
  {
   "cell_type": "code",
   "execution_count": null,
   "id": "ethical-merit",
   "metadata": {},
   "outputs": [],
   "source": []
  },
  {
   "cell_type": "markdown",
   "id": "alternate-aspect",
   "metadata": {},
   "source": [
    "####  Annotate `seaborn` Histogram^\n",
    "\n",
    "For a histogram created using the `seaborn` module, the same process is followed. Recall that to create a histogram using the `seaborn` module, you need to use the `distplot()` function with the `kde` parameter set equal to `False`."
   ]
  },
  {
   "cell_type": "code",
   "execution_count": null,
   "id": "separated-technique",
   "metadata": {},
   "outputs": [],
   "source": []
  },
  {
   "cell_type": "code",
   "execution_count": null,
   "id": "common-tongue",
   "metadata": {},
   "outputs": [],
   "source": []
  },
  {
   "cell_type": "markdown",
   "id": "breeding-marsh",
   "metadata": {},
   "source": [
    "#### Annotating `matplotlib.pyplot` Histogram^^^\n",
    "\n",
    "The annotation of a histogram created using the `hist()` function which exists in the `matplotlib.pyplot` module is slightly different. Let's jump in right away without going too much into the theory.\n",
    "\n",
    "Let's create a histogram for the meteorites fallen on Earth between 1970 and 2000 (both inclusive) using the `hist()` function and store it in a variable. Let's keep the bin size 6 because we want to compare this histogram with the one created using the `distplot()` function."
   ]
  },
  {
   "cell_type": "code",
   "execution_count": null,
   "id": "secure-entry",
   "metadata": {},
   "outputs": [],
   "source": []
  },
  {
   "cell_type": "code",
   "execution_count": null,
   "id": "lyric-above",
   "metadata": {},
   "outputs": [],
   "source": []
  },
  {
   "cell_type": "code",
   "execution_count": null,
   "id": "steady-gasoline",
   "metadata": {},
   "outputs": [],
   "source": []
  },
  {
   "cell_type": "code",
   "execution_count": null,
   "id": "injured-julian",
   "metadata": {},
   "outputs": [],
   "source": []
  },
  {
   "cell_type": "code",
   "execution_count": null,
   "id": "lightweight-allowance",
   "metadata": {},
   "outputs": [],
   "source": []
  },
  {
   "cell_type": "code",
   "execution_count": null,
   "id": "eleven-emperor",
   "metadata": {},
   "outputs": [],
   "source": []
  },
  {
   "cell_type": "code",
   "execution_count": null,
   "id": "aboriginal-terrace",
   "metadata": {},
   "outputs": [],
   "source": []
  },
  {
   "cell_type": "code",
   "execution_count": null,
   "id": "expressed-kinase",
   "metadata": {},
   "outputs": [],
   "source": []
  },
  {
   "cell_type": "code",
   "execution_count": null,
   "id": "vulnerable-spread",
   "metadata": {},
   "outputs": [],
   "source": []
  },
  {
   "cell_type": "code",
   "execution_count": null,
   "id": "dutch-juice",
   "metadata": {},
   "outputs": [],
   "source": []
  },
  {
   "cell_type": "code",
   "execution_count": null,
   "id": "higher-image",
   "metadata": {},
   "outputs": [],
   "source": []
  },
  {
   "cell_type": "code",
   "execution_count": null,
   "id": "adjusted-picture",
   "metadata": {},
   "outputs": [],
   "source": []
  },
  {
   "cell_type": "code",
   "execution_count": null,
   "id": "alternative-sitting",
   "metadata": {},
   "outputs": [],
   "source": []
  }
 ],
 "metadata": {
  "kernelspec": {
   "display_name": "Python 3",
   "language": "python",
   "name": "python3"
  },
  "language_info": {
   "codemirror_mode": {
    "name": "ipython",
    "version": 3
   },
   "file_extension": ".py",
   "mimetype": "text/x-python",
   "name": "python",
   "nbconvert_exporter": "python",
   "pygments_lexer": "ipython3",
   "version": "3.8.8"
  }
 },
 "nbformat": 4,
 "nbformat_minor": 5
}

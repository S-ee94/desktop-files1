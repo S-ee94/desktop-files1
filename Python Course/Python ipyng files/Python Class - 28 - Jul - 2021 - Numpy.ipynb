{
 "cells": [
  {
   "cell_type": "markdown",
   "id": "processed-vegetarian",
   "metadata": {},
   "source": [
    "<h1>\n",
    "    <b>\n",
    "        NUMPY</b>\n",
    "    </h>\n"
   ]
  },
  {
   "cell_type": "markdown",
   "id": "occupied-fellow",
   "metadata": {},
   "source": [
    "NumPy is a Python library.\n",
    "\n",
    "NumPy is used for working with arrays.\n",
    "\n",
    "NumPy is short for \"Numerical Python\".\n",
    "\n",
    "<b>What is NumPy?</b>\n",
    "\n",
    "NumPy is a Python library used for working with arrays.\n",
    "\n",
    "It also has functions for working in domain of linear algebra, fourier transform, and matrices.\n",
    "\n",
    "It is an open source project and you can use it freely.\n",
    "\n",
    "<b>Why Use NumPy?</b>\n",
    "\n",
    "In Python we have lists that serve the purpose of arrays, but they are slow to process.\n",
    "\n",
    "NumPy aims to provide an array object that is up to 50x faster than traditional Python lists.\n",
    "\n",
    "The array object in NumPy is called ndarray, it provides a lot of supporting functions that make working with ndarray very easy.\n",
    "\n",
    "Arrays are very frequently used in data science, where speed and resources are very important.\n",
    "\n",
    "<b>Why is NumPy Faster Than Lists?</b>\n",
    "\n",
    "NumPy arrays are stored at one continuous place in memory unlike lists, so processes can access and manipulate them very efficiently.\n",
    "\n",
    "This behavior is called locality of reference in computer science.\n",
    "\n",
    "This is the main reason why NumPy is faster than lists. Also it is optimized to work with latest CPU architectures."
   ]
  },
  {
   "cell_type": "markdown",
   "id": "falling-cornwall",
   "metadata": {},
   "source": [
    "<b>NumPy Getting Started</b>\n",
    "\n",
    "Installation of NumPy\n",
    "\n",
    "If you have Python and PIP already installed on a system, then installation of NumPy is very easy.\n",
    "\n",
    "Install it using this command:\n",
    "\n",
    "<b>pip install numpy</b>"
   ]
  },
  {
   "cell_type": "markdown",
   "id": "heated-warrant",
   "metadata": {},
   "source": [
    "Import NumPy\n",
    "Once NumPy is installed, import it in your applications by adding the import keyword:"
   ]
  },
  {
   "cell_type": "code",
   "execution_count": 1,
   "id": "agreed-switzerland",
   "metadata": {},
   "outputs": [],
   "source": [
    "import numpy # If you get error as no module found when you are running this code then pip install numpy"
   ]
  },
  {
   "cell_type": "markdown",
   "id": "mysterious-computer",
   "metadata": {},
   "source": [
    "Now NumPy is imported and ready to use.\n",
    "\n",
    "Example:"
   ]
  },
  {
   "cell_type": "code",
   "execution_count": null,
   "id": "proper-huntington",
   "metadata": {},
   "outputs": [],
   "source": []
  },
  {
   "cell_type": "markdown",
   "id": "careful-manufacturer",
   "metadata": {},
   "source": [
    "<b>NumPy as np</b>\n",
    "\n",
    "NumPy is usually imported under the np alias.\n",
    "\n",
    "<b>alias:</b> In Python alias are an alternate name for referring to the same thing.\n",
    "\n",
    "Create an alias with the as keyword while importing:"
   ]
  },
  {
   "cell_type": "code",
   "execution_count": 2,
   "id": "greek-audit",
   "metadata": {},
   "outputs": [],
   "source": [
    "import numpy as p #nick name of numpy"
   ]
  },
  {
   "cell_type": "markdown",
   "id": "successful-thermal",
   "metadata": {},
   "source": [
    "Now the NumPy package can be referred to as np instead of numpy."
   ]
  },
  {
   "cell_type": "code",
   "execution_count": 3,
   "id": "regional-square",
   "metadata": {},
   "outputs": [
    {
     "data": {
      "text/plain": [
       "array([1, 2, 3, 4, 5])"
      ]
     },
     "execution_count": 3,
     "metadata": {},
     "output_type": "execute_result"
    }
   ],
   "source": [
    "arr = p.array([1,2,3,4,5])\n",
    "arr"
   ]
  },
  {
   "cell_type": "code",
   "execution_count": 4,
   "id": "prerequisite-madonna",
   "metadata": {},
   "outputs": [
    {
     "ename": "NameError",
     "evalue": "name 'np' is not defined",
     "output_type": "error",
     "traceback": [
      "\u001b[1;31m---------------------------------------------------------------------------\u001b[0m",
      "\u001b[1;31mNameError\u001b[0m                                 Traceback (most recent call last)",
      "\u001b[1;32m<ipython-input-4-264220db01f2>\u001b[0m in \u001b[0;36m<module>\u001b[1;34m\u001b[0m\n\u001b[0;32m      1\u001b[0m \u001b[1;31m#check version\u001b[0m\u001b[1;33m\u001b[0m\u001b[1;33m\u001b[0m\u001b[1;33m\u001b[0m\u001b[0m\n\u001b[1;32m----> 2\u001b[1;33m \u001b[0mnp\u001b[0m\u001b[1;33m.\u001b[0m\u001b[0m__version__\u001b[0m\u001b[1;33m\u001b[0m\u001b[1;33m\u001b[0m\u001b[0m\n\u001b[0m",
      "\u001b[1;31mNameError\u001b[0m: name 'np' is not defined"
     ]
    }
   ],
   "source": [
    "#check version\n",
    "np.__version__"
   ]
  },
  {
   "cell_type": "markdown",
   "id": "native-sarah",
   "metadata": {},
   "source": [
    "<b>NumPy Creating Arrays</b>\n",
    "\n",
    "Create a NumPy ndarray Object\n",
    "\n",
    "NumPy is used to work with arrays. The array object in NumPy is called ndarray.\n",
    "\n",
    "We can create a NumPy ndarray object by using the array() function."
   ]
  },
  {
   "cell_type": "code",
   "execution_count": null,
   "id": "korean-adrian",
   "metadata": {},
   "outputs": [],
   "source": [
    "arr = np.array([10,20,30])\n",
    "print(arr)\n",
    "print(type(arr))"
   ]
  },
  {
   "cell_type": "markdown",
   "id": "partial-banks",
   "metadata": {},
   "source": [
    "To create an ndarray, we can pass a list, tuple or any array-like object into the array() method, and it will be converted into an ndarray:\n",
    "\n",
    "Example\n",
    "\n",
    "Use a tuple to create a NumPy array:"
   ]
  },
  {
   "cell_type": "code",
   "execution_count": null,
   "id": "specific-doctrine",
   "metadata": {},
   "outputs": [],
   "source": [
    "arr = np.array((1,2,3,4))\n",
    "arr"
   ]
  },
  {
   "cell_type": "code",
   "execution_count": null,
   "id": "saved-madison",
   "metadata": {},
   "outputs": [],
   "source": [
    "type(arr)"
   ]
  },
  {
   "cell_type": "markdown",
   "id": "boring-outside",
   "metadata": {},
   "source": [
    "<b>Dimensions in Arrays</b>\n",
    "\n",
    "A dimension in arrays is one level of array depth (nested arrays).\n",
    "\n",
    "nested array: are arrays that have arrays as their elements.\n",
    "\n",
    "<b>0-D Arrays</b>\n",
    "\n",
    "0-D arrays, or Scalars, are the elements in an array. Each value in an array is a 0-D array.\n",
    "\n",
    "Example\n",
    "\n",
    "Create a 0-D array with value 42"
   ]
  },
  {
   "cell_type": "code",
   "execution_count": null,
   "id": "crucial-score",
   "metadata": {},
   "outputs": [],
   "source": [
    "arr = np.array(42)\n",
    "arr"
   ]
  },
  {
   "cell_type": "markdown",
   "id": "forced-laugh",
   "metadata": {},
   "source": [
    "<b>1-D Arrays</b>\n",
    "\n",
    "An array that has 0-D arrays as its elements is called uni-dimensional or 1-D array.\n",
    "\n",
    "These are the most common and basic arrays.\n",
    "\n",
    "Example\n",
    "Create a 1-D array containing the values 1,2,3,4,5:"
   ]
  },
  {
   "cell_type": "code",
   "execution_count": null,
   "id": "maritime-dependence",
   "metadata": {},
   "outputs": [],
   "source": [
    "arr = np.array([1,2,3])\n",
    "arr"
   ]
  },
  {
   "cell_type": "markdown",
   "id": "criminal-overhead",
   "metadata": {},
   "source": [
    "<b>2-D Arrays</b>\n",
    "\n",
    "An array that has 1-D arrays as its elements is called a 2-D array.\n",
    "\n",
    "These are often used to represent matrix or 2nd order tensors.\n",
    "\n",
    "NumPy has a whole sub module dedicated towards matrix operations called numpy.mat\n",
    "\n",
    "Example\n",
    "Create a 2-D array containing two arrays with the values 1,2,3 and 4,5,6:"
   ]
  },
  {
   "cell_type": "code",
   "execution_count": null,
   "id": "aboriginal-diamond",
   "metadata": {},
   "outputs": [],
   "source": [
    "arr = np.array([[1,2,3],[2,5,6]])\n",
    "arr"
   ]
  },
  {
   "cell_type": "markdown",
   "id": "proof-religious",
   "metadata": {},
   "source": [
    "<b>3-D arrays</b>\n",
    "\n",
    "An array that has 2-D arrays (matrices) as its elements is called 3-D array.\n",
    "\n",
    "These are often used to represent a 3rd order tensor.\n"
   ]
  },
  {
   "cell_type": "code",
   "execution_count": null,
   "id": "insured-samba",
   "metadata": {},
   "outputs": [],
   "source": [
    "arr = np.array([[[1,2,3],[1,4,5]],[[5,6,1],[2,3,6]]])\n",
    "arr"
   ]
  },
  {
   "cell_type": "markdown",
   "id": "touched-curve",
   "metadata": {},
   "source": [
    "<b>Check Number of Dimensions?</b>\n",
    "\n",
    "NumPy Arrays provides the ndim attribute that returns an integer that tells us how many dimensions the array have.\n",
    "\n",
    "Example\n",
    "Check how many dimensions the arrays have:"
   ]
  },
  {
   "cell_type": "code",
   "execution_count": null,
   "id": "sudden-maria",
   "metadata": {},
   "outputs": [],
   "source": [
    "a = np.array(42)\n",
    "b = np.array([1,2,3,4,5,6])\n",
    "c = np.array([[1,2,3],[4,5,6]])\n",
    "d = np.array([[[1,2,3],[1,4,5]],[[5,6,1],[2,3,6]]])\n",
    "\n",
    "print(a.ndim)\n",
    "print(b.ndim)\n",
    "print(c.ndim)\n",
    "print(d.ndim)"
   ]
  },
  {
   "cell_type": "markdown",
   "id": "unusual-flush",
   "metadata": {},
   "source": [
    "<b>Higher Dimensional Arrays</b>\n",
    "\n",
    "An array can have any number of dimensions.\n",
    "\n",
    "When the array is created, you can define the number of dimensions by using the ndmin argument.\n",
    "\n",
    "Example\n",
    "Create an array with 5 dimensions and verify that it has 5 dimensions:"
   ]
  },
  {
   "cell_type": "code",
   "execution_count": null,
   "id": "precise-championship",
   "metadata": {},
   "outputs": [],
   "source": [
    "arr = np.array([[[1,2,3,4]]],ndmin =2)\n",
    "print(arr)\n",
    "print(\"num of dimensions\", arr.ndim)"
   ]
  },
  {
   "cell_type": "markdown",
   "id": "raising-thermal",
   "metadata": {},
   "source": [
    "<h2>NumPy Array Indexing</h2>\n",
    "\n",
    "<b>Access Array Elements</b>\n",
    "\n",
    "Array indexing is the same as accessing an array element.\n",
    "\n",
    "You can access an array element by referring to its index number.\n",
    "\n",
    "The indexes in NumPy arrays start with 0, meaning that the first element has index 0, and the second has index 1 etc.\n",
    "\n",
    "Example\n",
    "\n",
    "Get the first element from the following array:"
   ]
  },
  {
   "cell_type": "code",
   "execution_count": null,
   "id": "dominant-cross",
   "metadata": {},
   "outputs": [],
   "source": [
    "arr = np.array([1,2,3,4])\n",
    "print(arr[1])"
   ]
  },
  {
   "cell_type": "markdown",
   "id": "convertible-concrete",
   "metadata": {},
   "source": [
    "Example\n",
    "\n",
    "Get third and fourth elements from the following array and add them."
   ]
  },
  {
   "cell_type": "code",
   "execution_count": null,
   "id": "considerable-johnston",
   "metadata": {},
   "outputs": [],
   "source": [
    "arr = np.array([1,2,3,4])\n",
    "print(arr[2] + arr[3])"
   ]
  },
  {
   "cell_type": "markdown",
   "id": "amended-details",
   "metadata": {},
   "source": [
    "<b>Access 2-D Arrays</b>\n",
    "\n",
    "To access elements from 2-D arrays we can use comma separated integers representing the dimension and the index of the element.\n",
    "\n",
    "Example\n",
    "\n",
    "Access the 2nd element on 1st dim:"
   ]
  },
  {
   "cell_type": "code",
   "execution_count": null,
   "id": "concrete-veteran",
   "metadata": {},
   "outputs": [],
   "source": [
    "arr = np.array([[1,2,3,4,5],[6,7,8,9,10]])\n",
    "print('second element on 1st dim is:',arr[1,3])"
   ]
  },
  {
   "cell_type": "markdown",
   "id": "material-pakistan",
   "metadata": {},
   "source": [
    "<b>Access 3-D Arrays</b>\n",
    "\n",
    "To access elements from 3-D arrays we can use comma separated integers representing the dimensions and the index of the element.\n",
    "\n",
    "Example\n",
    "Access the third element of the second array of the first array:"
   ]
  },
  {
   "cell_type": "code",
   "execution_count": null,
   "id": "about-listening",
   "metadata": {},
   "outputs": [],
   "source": [
    "arr = np.array([[[1,2,3],[4,5,6]],[[7,8,9],[10,11,12]]])\n",
    "print(arr[0,1,2])"
   ]
  },
  {
   "cell_type": "code",
   "execution_count": null,
   "id": "furnished-proposal",
   "metadata": {},
   "outputs": [],
   "source": [
    "[1,2,3]--1D\n",
    "[[1,2,3],[4,5,6]] ---2D\n",
    "[[[1,2,3],[4,5,6]],[[1,2,3],[4,5,6]]] --3D"
   ]
  },
  {
   "cell_type": "markdown",
   "id": "demanding-recipient",
   "metadata": {},
   "source": [
    "<b>Negative Indexing</b>\n",
    "\n",
    "Use negative indexing to access an array from the end.\n",
    "\n",
    "Example\n",
    "\n",
    "Print the last element from the 2nd dim:"
   ]
  },
  {
   "cell_type": "code",
   "execution_count": null,
   "id": "whole-gardening",
   "metadata": {},
   "outputs": [],
   "source": [
    "arr = np.array([[1,2,3,4,5],[6,7,8,9,10]])\n",
    "print(arr[0,-5])"
   ]
  },
  {
   "cell_type": "markdown",
   "id": "upset-worry",
   "metadata": {},
   "source": [
    "<h1>NumPy Array Slicing</h1>\n",
    "\n",
    "<b>Slicing arrays</b>\n",
    "\n",
    "Slicing in python means taking elements from one given index to another given index.\n",
    "\n",
    "We pass slice instead of index like this: [start:end].\n",
    "\n",
    "We can also define the step, like this: [start:end:step].\n",
    "\n",
    "If we don't pass start its considered 0\n",
    "\n",
    "If we don't pass end its considered length of array in that dimension\n",
    "\n",
    "If we don't pass step its considered 1\n",
    "\n",
    "Example\n",
    "Slice elements from index 1 to index 5 from the following array:"
   ]
  },
  {
   "cell_type": "code",
   "execution_count": null,
   "id": "primary-exhibit",
   "metadata": {},
   "outputs": [],
   "source": [
    "arr = np.array([1,2,3,4,5,6,7])\n",
    "print(arr[0:])"
   ]
  },
  {
   "cell_type": "markdown",
   "id": "corrected-crowd",
   "metadata": {},
   "source": [
    "Example\n",
    "\n",
    "Slice elements from index 4 to the end of the array:"
   ]
  },
  {
   "cell_type": "code",
   "execution_count": null,
   "id": "confident-genius",
   "metadata": {},
   "outputs": [],
   "source": [
    "arr = np.array([1,2,3,4,5,6,7])\n",
    "print(arr[1:5])"
   ]
  },
  {
   "cell_type": "markdown",
   "id": "green-warrior",
   "metadata": {},
   "source": [
    "<b>Negative Slicing</b>\n",
    "\n",
    "Use the minus operator to refer to an index from the end:\n",
    "\n",
    "Example\n",
    "\n",
    "Slice from the index 3 from the end to index 1 from the end:"
   ]
  },
  {
   "cell_type": "code",
   "execution_count": null,
   "id": "international-indian",
   "metadata": {},
   "outputs": [],
   "source": [
    "arr = np.array([1,2,3,4,5,6,7])\n",
    "print(arr[-7:-3])"
   ]
  },
  {
   "cell_type": "markdown",
   "id": "swiss-helena",
   "metadata": {},
   "source": [
    "<b>STEP</b>\n",
    "\n",
    "Use the step value to determine the step of the slicing:\n",
    "\n",
    "Example\n",
    "\n",
    "Return every other element from index 1 to index 5:"
   ]
  },
  {
   "cell_type": "code",
   "execution_count": null,
   "id": "prime-notice",
   "metadata": {},
   "outputs": [],
   "source": [
    "arr = np.array([1,2,3,4,5,6,7,8])\n",
    "print(arr[0:8:2])"
   ]
  },
  {
   "cell_type": "markdown",
   "id": "strategic-recognition",
   "metadata": {},
   "source": [
    "Example\n",
    "\n",
    "Return every other element from the entire array:"
   ]
  },
  {
   "cell_type": "code",
   "execution_count": null,
   "id": "basic-rendering",
   "metadata": {},
   "outputs": [],
   "source": [
    "arr = np.array([1,2,3,4,5,6,7,8])\n",
    "print(arr[::2])"
   ]
  },
  {
   "cell_type": "markdown",
   "id": "permanent-fraction",
   "metadata": {},
   "source": [
    "Slicing 2-D Arrays\n",
    "\n",
    "Example\n",
    "\n",
    "From the second element, slice elements from index 1 to index 4 (not included):"
   ]
  },
  {
   "cell_type": "code",
   "execution_count": null,
   "id": "otherwise-nation",
   "metadata": {},
   "outputs": [],
   "source": [
    "arr = np.array([[1,2,3,4,5],[6,7,8,9,10]])\n",
    "print(arr[1,1:4])"
   ]
  },
  {
   "cell_type": "markdown",
   "id": "charged-auction",
   "metadata": {},
   "source": [
    "Example\n",
    "\n",
    "From both elements, return index 2:"
   ]
  },
  {
   "cell_type": "code",
   "execution_count": null,
   "id": "sharing-yorkshire",
   "metadata": {},
   "outputs": [],
   "source": [
    "arr = np.array([[1,2,3,4,5],[6,7,8,9,10]])\n",
    "print(arr[0:1,3])"
   ]
  },
  {
   "cell_type": "markdown",
   "id": "white-sugar",
   "metadata": {},
   "source": [
    "Example\n",
    "\n",
    "From both elements, slice index 1 to index 4 (not included), this will return a 2-D array:"
   ]
  },
  {
   "cell_type": "code",
   "execution_count": null,
   "id": "secret-lodging",
   "metadata": {},
   "outputs": [],
   "source": [
    "arr = np.array([[1,2,3,4,5],[6,7,8,9,10]])\n",
    "print(arr[:,1:5])"
   ]
  },
  {
   "cell_type": "code",
   "execution_count": null,
   "id": "cultural-processor",
   "metadata": {},
   "outputs": [],
   "source": [
    "arr=np.array([ [1,2,3,4,5], [6,7,8,9,10] ] )\n",
    "lst=[[1,2,3,4,5], [6,7,8,9,10] ]\n",
    "\n",
    "\n",
    "print(arr.shape)"
   ]
  },
  {
   "cell_type": "code",
   "execution_count": null,
   "id": "tribal-yacht",
   "metadata": {},
   "outputs": [],
   "source": []
  },
  {
   "cell_type": "markdown",
   "id": "complimentary-proposal",
   "metadata": {},
   "source": [
    "<h2>NumPy Data Types</h2>\n",
    "\n",
    "Data Types in Python\n",
    "\n",
    "By default Python have these data types:\n",
    "\n",
    "strings - used to represent text data, the text is given under quote marks. e.g. \"ABCD\"\n",
    "\n",
    "integer - used to represent integer numbers. e.g. -1, -2, -3\n",
    "\n",
    "float - used to represent real numbers. e.g. 1.2, 42.42\n",
    "\n",
    "boolean - used to represent True or False.\n",
    "\n",
    "complex - used to represent complex numbers. e.g. 1.0 + 2.0j, 1.5 + 2.5j\n",
    "    \n",
    "Data Types in NumPy\n",
    "\n",
    "NumPy has some extra data types, and refer to data types with one character, like i for integers, u for unsigned integers etc.\n",
    "\n",
    "Below is a list of all data types in NumPy and the characters used to represent them.\n",
    "\n",
    "i - integer\n",
    "\n",
    "b - boolean\n",
    "\n",
    "u - unsigned integer\n",
    "\n",
    "f - float\n",
    "\n",
    "c - complex float\n",
    "\n",
    "m - timedelta\n",
    "\n",
    "M - datetime\n",
    "\n",
    "O - object\n",
    "\n",
    "S - string\n",
    "\n",
    "U - unicode string\n",
    "\n",
    "V - fixed chunk of memory for other type ( void )\n",
    "\n",
    "Checking the Data Type of an Array\n",
    "\n",
    "The NumPy array object has a property called dtype that returns the data type of the array:\n",
    "\n",
    "Example\n",
    "    \n",
    "Get the data type of an array object:"
   ]
  },
  {
   "cell_type": "code",
   "execution_count": null,
   "id": "annual-boulder",
   "metadata": {},
   "outputs": [],
   "source": [
    "arr = np.array([1,2,3])\n",
    "print(arr.dtype)\n",
    "print(type(arr))"
   ]
  },
  {
   "cell_type": "markdown",
   "id": "removable-registrar",
   "metadata": {},
   "source": [
    "<b>NumPy Array Copy vs View</b>\n",
    "\n",
    "The Difference Between Copy and View\n",
    "\n",
    "The main difference between a copy and a view of an array is that the copy is a new array, and the view is just a view of the original array.\n",
    "\n",
    "The copy owns the data and any changes made to the copy will not affect original array, and any changes made to the original array will not affect the copy.\n",
    "\n",
    "The view does not own the data and any changes made to the view will affect the original array, and any changes made to the original array will affect the view."
   ]
  },
  {
   "cell_type": "markdown",
   "id": "confirmed-grace",
   "metadata": {},
   "source": [
    "<b>COPY:</b>\n",
    "    \n",
    "Example\n",
    "\n",
    "Make a copy, change the original array, and display both arrays:"
   ]
  },
  {
   "cell_type": "code",
   "execution_count": null,
   "id": "flexible-fishing",
   "metadata": {},
   "outputs": [],
   "source": [
    "import numpy as np\n",
    "\n",
    "arr = np.array([1, 2, 3, 4, 5])\n",
    "x = arr.copy()\n",
    "arr[0] = 42\n",
    "\n",
    "print(arr)\n",
    "print(x)"
   ]
  },
  {
   "cell_type": "markdown",
   "id": "regulation-palace",
   "metadata": {},
   "source": [
    "<b>VIEW:</b>\n",
    "    \n",
    "Example\n",
    "\n",
    "Make a view, change the original array, and display both arrays:\n",
    "\n",
    "The view SHOULD be affected by the changes made to the original array."
   ]
  },
  {
   "cell_type": "code",
   "execution_count": null,
   "id": "right-scroll",
   "metadata": {},
   "outputs": [],
   "source": [
    "import numpy as np\n",
    "\n",
    "arr = np.array([1, 2, 3, 4, 5])\n",
    "x = arr.view()\n",
    "arr[0] = 42\n",
    "\n",
    "print(arr)\n",
    "print(x)"
   ]
  },
  {
   "cell_type": "markdown",
   "id": "recognized-carter",
   "metadata": {},
   "source": [
    "Make Changes in the VIEW:\n",
    "\n",
    "Example\n",
    "\n",
    "Make a view, change the view, and display both arrays:\n",
    "\n",
    "The original array SHOULD be affected by the changes made to the view."
   ]
  },
  {
   "cell_type": "code",
   "execution_count": null,
   "id": "legendary-transfer",
   "metadata": {},
   "outputs": [],
   "source": [
    "import numpy as np\n",
    "\n",
    "arr = np.array([1, 2, 3, 4, 5])\n",
    "x = arr.view()\n",
    "x[0] = 31\n",
    "\n",
    "print(arr)\n",
    "print(x)"
   ]
  },
  {
   "cell_type": "markdown",
   "id": "floppy-homework",
   "metadata": {},
   "source": [
    "<h2>NumPy Array Shape</h2>\n",
    "\n",
    "<b>Shape of an Array</b>\n",
    "\n",
    "The shape of an array is the number of elements in each dimension.\n",
    "\n",
    "<b>Get the Shape of an Array</b>\n",
    "\n",
    "NumPy arrays have an attribute called shape that returns a tuple with each index having the number of corresponding elements.\n",
    "\n",
    "<b>Example</b>\n",
    "\n",
    "Print the shape of a 2-D array:"
   ]
  },
  {
   "cell_type": "code",
   "execution_count": null,
   "id": "distant-consultancy",
   "metadata": {},
   "outputs": [],
   "source": [
    "import numpy as np\n",
    "\n",
    "arr = np.array([[1, 2, 3, 4], [5, 6, 7, 8]])\n",
    "\n",
    "print(arr.shape)"
   ]
  },
  {
   "cell_type": "markdown",
   "id": "taken-silly",
   "metadata": {},
   "source": [
    "<b>NumPy Array Reshaping</b>\n",
    "\n",
    "<b>Reshaping arrays</b>\n",
    "\n",
    "Reshaping means changing the shape of an array.\n",
    "\n",
    "The shape of an array is the number of elements in each dimension.\n",
    "\n",
    "By reshaping we can add or remove dimensions or change number of elements in each dimension.\n",
    "\n",
    "Reshape From 1-D to 2-D\n",
    "\n",
    "Example\n",
    "\n",
    "Convert the following 1-D array with 12 elements into a 2-D array.\n",
    "\n",
    "The outermost dimension will have 4 arrays, each with 3 elements:"
   ]
  },
  {
   "cell_type": "code",
   "execution_count": null,
   "id": "dangerous-substance",
   "metadata": {},
   "outputs": [],
   "source": [
    "import numpy as np\n",
    "\n",
    "arr = np.array([1, 2, 3, 4, 5, 6, 7, 8, 9, 10, 11, 12])\n",
    "\n",
    "newarr = arr.reshape(4, 3)\n",
    "\n",
    "print(newarr)"
   ]
  },
  {
   "cell_type": "markdown",
   "id": "experienced-tourist",
   "metadata": {},
   "source": [
    "<b>Reshape From 1-D to 3-D</b>\n",
    "\n",
    "Example\n",
    "\n",
    "Convert the following 1-D array with 12 elements into a 3-D array.\n",
    "\n",
    "The outermost dimension will have 2 arrays that contains 3 arrays, each with 2 elements:"
   ]
  },
  {
   "cell_type": "code",
   "execution_count": null,
   "id": "magnetic-commodity",
   "metadata": {},
   "outputs": [],
   "source": [
    "import numpy as np\n",
    "\n",
    "arr = np.array([1, 2, 3, 4, 5, 6, 7, 8, 9, 10, 11, 12])\n",
    "\n",
    "newarr = arr.reshape(2, 3, 2)\n",
    "\n",
    "print(newarr)"
   ]
  },
  {
   "cell_type": "markdown",
   "id": "peripheral-consent",
   "metadata": {},
   "source": [
    "<b>Unknown Dimension</b>\n",
    "\n",
    "You are allowed to have one \"unknown\" dimension.\n",
    "\n",
    "Meaning that you do not have to specify an exact number for one of the dimensions in the reshape method.\n",
    "\n",
    "Pass -1 as the value, and NumPy will calculate this number for you.\n",
    "\n",
    "Example\n",
    "\n",
    "Convert 1D array with 8 elements to 3D array with 2x2 elements:"
   ]
  },
  {
   "cell_type": "code",
   "execution_count": null,
   "id": "graduate-vancouver",
   "metadata": {},
   "outputs": [],
   "source": [
    "import numpy as np\n",
    "\n",
    "arr = np.array([1, 2, 3, 4, 5, 6, 7, 8])\n",
    "\n",
    "newarr = arr.reshape(2, 2, -1)\n",
    "\n",
    "print(newarr)"
   ]
  },
  {
   "cell_type": "markdown",
   "id": "patient-dublin",
   "metadata": {},
   "source": [
    "<b>Flattening the arrays</b>\n",
    "\n",
    "Flattening array means converting a multidimensional array into a 1D array.\n",
    "\n",
    "We can use reshape(-1) to do this.\n",
    "\n",
    "There are a lot of functions for changing the shapes of arrays in numpy flatten, ravel and also for rearranging the elements rot90, flip, fliplr, flipud etc. These fall under Advanced section of numpy.\n",
    "\n",
    "Example\n",
    "Convert the array into a 1D array:"
   ]
  },
  {
   "cell_type": "markdown",
   "id": "threaded-tiger",
   "metadata": {},
   "source": [
    "import numpy as np\n",
    "\n",
    "arr = np.array([[1, 2, 3], [4, 5, 6]])\n",
    "\n",
    "newarr = arr.reshape(-1)\n",
    "\n",
    "print(newarr)"
   ]
  },
  {
   "cell_type": "markdown",
   "id": "funded-progress",
   "metadata": {},
   "source": [
    "<b>NumPy Array Iterating</b>\n",
    "\n",
    "Iterating Arrays\n",
    "\n",
    "Iterating means going through elements one by one.\n",
    "\n",
    "As we deal with multi-dimensional arrays in numpy, we can do this using basic for loop of python.\n",
    "\n",
    "If we iterate on a 1-D array it will go through each element one by one.\n",
    "\n",
    "Example\n",
    "Iterate on the elements of the following 1-D array:"
   ]
  },
  {
   "cell_type": "code",
   "execution_count": 7,
   "id": "muslim-hundred",
   "metadata": {},
   "outputs": [
    {
     "name": "stdout",
     "output_type": "stream",
     "text": [
      "[1 2 3]\n",
      "1\n",
      "2\n",
      "3\n"
     ]
    }
   ],
   "source": [
    "import numpy as np\n",
    "\n",
    "arr = np.array([1, 2, 3])\n",
    "print(arr)\n",
    "for x in arr:\n",
    "  print(x)"
   ]
  },
  {
   "cell_type": "markdown",
   "id": "massive-assembly",
   "metadata": {},
   "source": [
    "<b>Iterating 2-D Arrays</b>\n",
    "\n",
    "In a 2-D array it will go through all the rows.\n",
    "\n",
    "Example\n",
    "Iterate on the elements of the following 2-D array:"
   ]
  },
  {
   "cell_type": "code",
   "execution_count": 9,
   "id": "cooked-affiliate",
   "metadata": {},
   "outputs": [
    {
     "name": "stdout",
     "output_type": "stream",
     "text": [
      "[[1 2 3]\n",
      " [4 5 6]]\n",
      "[1 2 3]\n",
      "[4 5 6]\n"
     ]
    }
   ],
   "source": [
    "import numpy as np\n",
    "\n",
    "arr = np.array([[1, 2, 3], [4, 5, 6]])\n",
    "print(arr)\n",
    "for x in arr:\n",
    "  print(x)"
   ]
  },
  {
   "cell_type": "markdown",
   "id": "aware-slave",
   "metadata": {},
   "source": [
    "To return the actual values, the scalars, we have to iterate the arrays in each dimension.\n",
    "\n",
    "Example\n",
    "Iterate on each scalar element of the 2-D array:"
   ]
  },
  {
   "cell_type": "code",
   "execution_count": 13,
   "id": "representative-invalid",
   "metadata": {},
   "outputs": [
    {
     "name": "stdout",
     "output_type": "stream",
     "text": [
      "1\n",
      "2\n",
      "3\n",
      "4\n",
      "5\n",
      "6\n"
     ]
    }
   ],
   "source": [
    "import numpy as np\n",
    "\n",
    "arr = np.array([[1, 2, 3], [4, 5, 6]])\n",
    "\n",
    "for x in arr:\n",
    "  for y in x:\n",
    "    print(y)"
   ]
  },
  {
   "cell_type": "markdown",
   "id": "medium-belly",
   "metadata": {},
   "source": [
    "Example\n",
    "Iterate down to the scalars: 3D"
   ]
  },
  {
   "cell_type": "code",
   "execution_count": 15,
   "id": "lesser-munich",
   "metadata": {},
   "outputs": [
    {
     "name": "stdout",
     "output_type": "stream",
     "text": [
      "1\n",
      "2\n",
      "3\n",
      "4\n",
      "5\n",
      "6\n",
      "7\n",
      "8\n",
      "9\n",
      "10\n",
      "11\n",
      "12\n"
     ]
    }
   ],
   "source": [
    "import numpy as np\n",
    "\n",
    "arr = np.array([[[1, 2, 3], [4, 5, 6]], [[7, 8, 9], [10, 11, 12]]])\n",
    "\n",
    "for x in arr:\n",
    "  for y in x:\n",
    "    for z in y:\n",
    "      print(z)"
   ]
  },
  {
   "cell_type": "markdown",
   "id": "nervous-characteristic",
   "metadata": {},
   "source": [
    "<b>Iterating Arrays Using nditer()</b>\n",
    "\n",
    "The function nditer() is a helping function that can be used from very basic to very advanced iterations. It solves some basic issues which we face in iteration, lets go through it with examples.\n",
    "\n",
    "Iterating on Each Scalar Element\n",
    "\n",
    "In basic for loops, iterating through each scalar of an array we need to use n for loops which can be difficult to write for arrays with very high dimensionality.\n",
    "\n",
    "Example\n",
    "Iterate through the following 3-D array:"
   ]
  },
  {
   "cell_type": "code",
   "execution_count": 33,
   "id": "orange-webmaster",
   "metadata": {},
   "outputs": [
    {
     "name": "stdout",
     "output_type": "stream",
     "text": [
      "9\n",
      "10\n",
      "11\n",
      "12\n"
     ]
    }
   ],
   "source": [
    "arr = np.array([[[1,2,3,4],[5,6,7,8]],[[9,10,11,12],[13,14,15,16]]])\n",
    "for x in np.nditer(arr[1:,::2]):\n",
    "    print(x)"
   ]
  },
  {
   "cell_type": "markdown",
   "id": "fitted-interpretation",
   "metadata": {},
   "source": [
    "<b>Iterating With Different Step Size</b>\n",
    "\n",
    "We can use filtering and followed by iteration.\n",
    "\n",
    "Example\n",
    "Iterate through every scalar element of the 2D array skipping 1 element:"
   ]
  },
  {
   "cell_type": "code",
   "execution_count": 29,
   "id": "interracial-bones",
   "metadata": {},
   "outputs": [
    {
     "name": "stdout",
     "output_type": "stream",
     "text": [
      "1\n",
      "3\n",
      "5\n",
      "7\n"
     ]
    }
   ],
   "source": [
    "arr = np.array([[1,2,3,4],[5,6,7,8]])\n",
    "for x in np.nditer(arr[:,::2]):\n",
    "    print(x)"
   ]
  },
  {
   "cell_type": "markdown",
   "id": "affected-plasma",
   "metadata": {},
   "source": [
    "<b>Enumerated Iteration Using ndenumerate()</b>\n",
    "\n",
    "Enumeration means mentioning sequence number of somethings one by one.\n",
    "\n",
    "Sometimes we require corresponding index of the element while iterating, the ndenumerate() method can be used for those usecases.\n",
    "\n",
    "Example\n",
    "Enumerate on following 1D arrays elements:"
   ]
  },
  {
   "cell_type": "code",
   "execution_count": 35,
   "id": "unknown-sector",
   "metadata": {},
   "outputs": [
    {
     "name": "stdout",
     "output_type": "stream",
     "text": [
      "(0,) 1\n",
      "(1,) 2\n",
      "(2,) 3\n"
     ]
    }
   ],
   "source": [
    "arr = np.array([1,2,3])\n",
    "for idx,x in np.ndenumerate(arr):\n",
    "    print(idx,x)"
   ]
  },
  {
   "cell_type": "code",
   "execution_count": 37,
   "id": "unable-luxury",
   "metadata": {},
   "outputs": [
    {
     "name": "stdout",
     "output_type": "stream",
     "text": [
      "((0, 0), 1)\n",
      "((0, 1), 2)\n",
      "((0, 2), 3)\n",
      "((0, 3), 4)\n",
      "((1, 0), 5)\n",
      "((1, 1), 6)\n",
      "((1, 2), 7)\n",
      "((1, 3), 8)\n"
     ]
    }
   ],
   "source": [
    "arr = np.array([[1,2,3,4],[5,6,7,8]])\n",
    "for x in np.ndenumerate(arr):\n",
    "    print(x)"
   ]
  },
  {
   "cell_type": "markdown",
   "id": "patent-start",
   "metadata": {},
   "source": [
    "<b>NumPy Joining Array</b>\n",
    "Joining NumPy Arrays\n",
    "Joining means putting contents of two or more arrays in a single array.\n",
    "\n",
    "In SQL we join tables based on a key, whereas in NumPy we join arrays by axes.\n",
    "\n",
    "We pass a sequence of arrays that we want to join to the concatenate() function, along with the axis. If axis is not explicitly passed, it is taken as 0."
   ]
  },
  {
   "cell_type": "code",
   "execution_count": 47,
   "id": "compact-coordination",
   "metadata": {},
   "outputs": [
    {
     "name": "stdout",
     "output_type": "stream",
     "text": [
      "[1 2 3 4 5 6]\n"
     ]
    }
   ],
   "source": [
    "arr1 = np.array([1,2,3])\n",
    "arr2= np.array([4,5,6])\n",
    "arr = np.concatenate((arr1,arr2))\n",
    "print(arr)"
   ]
  },
  {
   "cell_type": "markdown",
   "id": "extreme-rover",
   "metadata": {},
   "source": [
    "Example\n",
    "Join two 2-D arrays along rows (axis=1):"
   ]
  },
  {
   "cell_type": "code",
   "execution_count": 50,
   "id": "hidden-optimization",
   "metadata": {},
   "outputs": [
    {
     "name": "stdout",
     "output_type": "stream",
     "text": [
      "[[1 2 5 6]\n",
      " [3 4 7 8]]\n"
     ]
    }
   ],
   "source": [
    "arr1 = np.array([[1,2],[3,4]])\n",
    "arr2= np.array([[5,6],[7,8]])\n",
    "arr = np.concatenate((arr1,arr2),axis = 1)\n",
    "print(arr)"
   ]
  },
  {
   "cell_type": "markdown",
   "id": "parliamentary-impact",
   "metadata": {},
   "source": [
    "<b>NumPy Splitting Array</b>\n",
    "\n",
    "Splitting is reverse operation of Joining.\n",
    "\n",
    "Joining merges multiple arrays into one and Splitting breaks one array into multiple.\n",
    "\n",
    "We use array_split() for splitting arrays, we pass it the array we want to split and the number of splits.\n",
    "\n",
    "Example\n",
    "\n",
    "Split the array in 3 parts:"
   ]
  },
  {
   "cell_type": "code",
   "execution_count": 55,
   "id": "broadband-debut",
   "metadata": {},
   "outputs": [
    {
     "data": {
      "text/plain": [
       "[array([1, 2]), array([3, 4]), array([5, 6])]"
      ]
     },
     "execution_count": 55,
     "metadata": {},
     "output_type": "execute_result"
    }
   ],
   "source": [
    "arr = np.array([1,2,3,4,5,6])\n",
    "newarr = np.array_split(arr,3)\n",
    "newarr"
   ]
  },
  {
   "cell_type": "markdown",
   "id": "cutting-fishing",
   "metadata": {},
   "source": [
    "We also have the method split() available but it will not adjust the elements when elements are less in source array for splitting like in example above, array_split() worked properly but split() would fail.\n",
    "\n",
    "<b>Split Into Arrays</b>\n",
    "\n",
    "The return value of the array_split() method is an array containing each of the split as an array.\n",
    "\n",
    "If you split an array into 3 arrays, you can access them from the result just like any array element:\n",
    "\n",
    "Example\n",
    "Access the splitted arrays:"
   ]
  },
  {
   "cell_type": "code",
   "execution_count": 60,
   "id": "thirty-steam",
   "metadata": {},
   "outputs": [
    {
     "name": "stdout",
     "output_type": "stream",
     "text": [
      "[1 2]\n",
      "[3 4]\n",
      "[5 6]\n",
      "[7]\n"
     ]
    }
   ],
   "source": [
    "arr = np.array([1,2,3,4,5,6,7])\n",
    "new_arr = np.array_split(arr,4)\n",
    "print(new_arr[0])\n",
    "print(new_arr[1])\n",
    "print(new_arr[2])\n",
    "print(new_arr[3])"
   ]
  },
  {
   "cell_type": "markdown",
   "id": "manual-columbia",
   "metadata": {},
   "source": [
    "<b>Searching Arrays</b>\n",
    "\n",
    "You can search an array for a certain value, and return the indexes that get a match.\n",
    "\n",
    "To search an array, use the where() method.\n",
    "\n",
    "Example\n",
    "Find the indexes where the value is 4:"
   ]
  },
  {
   "cell_type": "code",
   "execution_count": 64,
   "id": "latin-function",
   "metadata": {},
   "outputs": [
    {
     "data": {
      "text/plain": [
       "dtype('float64')"
      ]
     },
     "execution_count": 64,
     "metadata": {},
     "output_type": "execute_result"
    }
   ],
   "source": [
    "arr = np.array([1.1,2.2,3.3,6.6])\n",
    "arr.dtype"
   ]
  },
  {
   "cell_type": "markdown",
   "id": "agricultural-contest",
   "metadata": {},
   "source": [
    "Example\n",
    "Find the indexes where the values are even:"
   ]
  },
  {
   "cell_type": "code",
   "execution_count": 62,
   "id": "mineral-evaluation",
   "metadata": {},
   "outputs": [
    {
     "name": "stdout",
     "output_type": "stream",
     "text": [
      "(array([1, 3, 5, 7], dtype=int64),)\n"
     ]
    }
   ],
   "source": [
    "arr = np.array([1,2,3,4,5,6,7,8])\n",
    "x = np.where(arr%2 == 0)\n",
    "print(x)"
   ]
  },
  {
   "cell_type": "code",
   "execution_count": null,
   "id": "upset-variance",
   "metadata": {},
   "outputs": [],
   "source": []
  },
  {
   "cell_type": "markdown",
   "id": "attached-given",
   "metadata": {},
   "source": [
    "<b>Search Sorted</b>\n",
    "\n",
    "There is a method called searchsorted() which performs a binary search in the array, and returns the index where the specified value would be inserted to maintain the search order.\n",
    "\n",
    "The searchsorted() method is assumed to be used on sorted arrays.\n",
    "\n",
    "Example\n",
    "Find the indexes where the value 7 should be inserted:"
   ]
  },
  {
   "cell_type": "code",
   "execution_count": 68,
   "id": "alpine-amazon",
   "metadata": {},
   "outputs": [
    {
     "name": "stdout",
     "output_type": "stream",
     "text": [
      "3\n"
     ]
    }
   ],
   "source": [
    "arr = np.array([5,6,7,10,8,9])\n",
    "x = np.searchsorted(arr,8)\n",
    "print(x)\n"
   ]
  },
  {
   "cell_type": "markdown",
   "id": "industrial-individual",
   "metadata": {},
   "source": [
    "<b>Search From the Right Side</b>\n",
    "\n",
    "By default the left most index is returned, but we can give side='right' to return the right most index instead.\n",
    "\n",
    "Example\n",
    "Find the indexes where the value 7 should be inserted, starting from the right:"
   ]
  },
  {
   "cell_type": "code",
   "execution_count": 96,
   "id": "major-train",
   "metadata": {},
   "outputs": [
    {
     "name": "stdout",
     "output_type": "stream",
     "text": [
      "[1 2 3]\n"
     ]
    }
   ],
   "source": [
    "arr = np.array([1,3,5,7])\n",
    "x = np.searchsorted(arr,[2,4,6])\n",
    "\n",
    "print(x)\n",
    "\n"
   ]
  },
  {
   "cell_type": "code",
   "execution_count": 90,
   "id": "athletic-disposition",
   "metadata": {},
   "outputs": [
    {
     "name": "stdout",
     "output_type": "stream",
     "text": [
      "4\n"
     ]
    }
   ],
   "source": [
    "arr=np.array([1,2,3,4,7,7,5])\n",
    "x = np.searchsorted(arr,7)\n",
    "print(x)\n",
    "\n"
   ]
  },
  {
   "cell_type": "markdown",
   "id": "clear-listing",
   "metadata": {},
   "source": [
    "<b>Multiple Values</b>\n",
    "\n",
    "To search for more than one value, use an array with the specified values.\n",
    "\n",
    "Example\n",
    "Find the indexes where the values 2, 4, and 6 should be inserted:"
   ]
  },
  {
   "cell_type": "code",
   "execution_count": 79,
   "id": "changing-deviation",
   "metadata": {},
   "outputs": [
    {
     "name": "stdout",
     "output_type": "stream",
     "text": [
      "[1 2 3]\n"
     ]
    }
   ],
   "source": [
    "arr = np.array([1,3,5,7])\n",
    "x = np.searchsorted(arr,[2,4,6])\n",
    "print(x)\n"
   ]
  },
  {
   "cell_type": "markdown",
   "id": "interesting-flight",
   "metadata": {},
   "source": [
    "<b>Sorting Arrays</b>\n",
    "\n",
    "Sorting means putting elements in an ordered sequence.\n",
    "\n",
    "Ordered sequence is any sequence that has an order corresponding to elements, like numeric or alphabetical, ascending or descending.\n",
    "\n",
    "The NumPy ndarray object has a function called sort(), that will sort a specified array.\n",
    "\n",
    "Example\n",
    "Sort the array:"
   ]
  },
  {
   "cell_type": "code",
   "execution_count": 104,
   "id": "widespread-bridge",
   "metadata": {},
   "outputs": [
    {
     "name": "stdout",
     "output_type": "stream",
     "text": [
      "[0 1 2 3]\n"
     ]
    }
   ],
   "source": [
    "arr = np.array([3,2,0,1])\n",
    "print(np.sort(arr))"
   ]
  },
  {
   "cell_type": "markdown",
   "id": "million-feedback",
   "metadata": {},
   "source": [
    "<b>Sorting a 2-D Array</b>\n",
    "\n",
    "If you use the sort() method on a 2-D array, both arrays will be sorted:\n",
    "\n",
    "Example\n",
    "Sort a 2-D array:"
   ]
  },
  {
   "cell_type": "code",
   "execution_count": 107,
   "id": "bulgarian-guard",
   "metadata": {},
   "outputs": [
    {
     "name": "stdout",
     "output_type": "stream",
     "text": [
      "[[4 3 2]\n",
      " [5 1 0]]\n"
     ]
    }
   ],
   "source": [
    "arr = np.array([[3,2,4],[5,0,1]])\n",
    "print(np.sort(arr))"
   ]
  },
  {
   "cell_type": "markdown",
   "id": "aerial-skill",
   "metadata": {},
   "source": [
    "<b>Random Numbers in NumPy</b>\n",
    "\n",
    "What is a Random Number?\n",
    "\n",
    "Random number does NOT mean a different number every time. Random means something that can not be predicted logically.\n",
    "\n",
    "Pseudo Random and True Random.\n",
    "\n",
    "Computers work on programs, and programs are definitive set of instructions. So it means there must be some algorithm to generate a random number as well.\n",
    "\n",
    "If there is a program to generate random number it can be predicted, thus it is not truly random.\n",
    "\n",
    "Random numbers generated through a generation algorithm are called pseudo random.\n",
    "\n",
    "Generate Random Number\n",
    "NumPy offers the random module to work with random numbers.\n",
    "\n",
    "Example\n",
    "Generate a random integer from 0 to 100:"
   ]
  },
  {
   "cell_type": "code",
   "execution_count": 136,
   "id": "chubby-vegetable",
   "metadata": {},
   "outputs": [
    {
     "name": "stdout",
     "output_type": "stream",
     "text": [
      "49\n"
     ]
    }
   ],
   "source": [
    "from numpy import random\n",
    "x = random.randint(1,50)\n",
    "print(x)"
   ]
  },
  {
   "cell_type": "markdown",
   "id": "informed-acting",
   "metadata": {},
   "source": [
    "<b>Generate Random Float</b>\n",
    "\n",
    "The random module's rand() method returns a random float between 0 and 1.\n",
    "\n",
    "Example\n",
    "Generate a random float from 0 to 1:"
   ]
  },
  {
   "cell_type": "code",
   "execution_count": 132,
   "id": "designed-spirituality",
   "metadata": {},
   "outputs": [
    {
     "name": "stdout",
     "output_type": "stream",
     "text": [
      "0.07204184739820851\n"
     ]
    }
   ],
   "source": [
    "x = random.rand()\n",
    "print(x)"
   ]
  },
  {
   "cell_type": "markdown",
   "id": "identical-moses",
   "metadata": {},
   "source": [
    "<b>Generate Random Array</b>\n",
    "\n",
    "In NumPy we work with arrays, and you can use the two methods from the above examples to make random arrays.\n",
    "\n",
    "Integers\n",
    "\n",
    "The randint() method takes a size parameter where you can specify the shape of an array.\n",
    "\n",
    "Example\n",
    "Generate a 1-D array containing 5 random integers from 0 to 100:"
   ]
  },
  {
   "cell_type": "code",
   "execution_count": 142,
   "id": "behind-compiler",
   "metadata": {},
   "outputs": [
    {
     "name": "stdout",
     "output_type": "stream",
     "text": [
      "[20 70 41 78 26 52 55 76 95 96 23 20 31 91 75 54 98 60  0 70]\n"
     ]
    }
   ],
   "source": [
    "x = random.randint(100,size=20)\n",
    "print(x)"
   ]
  },
  {
   "cell_type": "code",
   "execution_count": null,
   "id": "invalid-darwin",
   "metadata": {},
   "outputs": [],
   "source": []
  },
  {
   "cell_type": "markdown",
   "id": "first-planner",
   "metadata": {},
   "source": [
    "<b>Generate Random Number From Array</b>\n",
    "\n",
    "The choice() method allows you to generate a random value based on an array of values.\n",
    "\n",
    "The choice() method takes an array as a parameter and randomly returns one of the values.\n",
    "\n",
    "Example\n",
    "Return one of the values in an array:\n",
    "\n",
    "The choice() method also allows you to return an array of values.\n",
    "\n",
    "Add a size parameter to specify the shape of the array."
   ]
  },
  {
   "cell_type": "code",
   "execution_count": 153,
   "id": "medieval-ecology",
   "metadata": {},
   "outputs": [
    {
     "name": "stdout",
     "output_type": "stream",
     "text": [
      "7\n"
     ]
    }
   ],
   "source": [
    "x = random.choice([3,5,7,9])\n",
    "print(x)"
   ]
  },
  {
   "cell_type": "code",
   "execution_count": 154,
   "id": "ideal-innocent",
   "metadata": {},
   "outputs": [
    {
     "name": "stdout",
     "output_type": "stream",
     "text": [
      "[[5 9 5 3 9]\n",
      " [7 3 7 3 3]\n",
      " [9 3 5 3 9]]\n"
     ]
    }
   ],
   "source": [
    "x = random.choice([3,5,7,9],size=(3,5))\n",
    "print(x)"
   ]
  },
  {
   "cell_type": "code",
   "execution_count": null,
   "id": "outside-terrain",
   "metadata": {},
   "outputs": [],
   "source": []
  },
  {
   "cell_type": "code",
   "execution_count": null,
   "id": "round-drove",
   "metadata": {},
   "outputs": [],
   "source": []
  },
  {
   "cell_type": "code",
   "execution_count": null,
   "id": "purple-biography",
   "metadata": {},
   "outputs": [],
   "source": []
  },
  {
   "cell_type": "code",
   "execution_count": null,
   "id": "front-match",
   "metadata": {},
   "outputs": [],
   "source": []
  },
  {
   "cell_type": "code",
   "execution_count": null,
   "id": "substantial-network",
   "metadata": {},
   "outputs": [],
   "source": []
  }
 ],
 "metadata": {
  "kernelspec": {
   "display_name": "Python 3",
   "language": "python",
   "name": "python3"
  },
  "language_info": {
   "codemirror_mode": {
    "name": "ipython",
    "version": 3
   },
   "file_extension": ".py",
   "mimetype": "text/x-python",
   "name": "python",
   "nbconvert_exporter": "python",
   "pygments_lexer": "ipython3",
   "version": "3.8.8"
  }
 },
 "nbformat": 4,
 "nbformat_minor": 5
}

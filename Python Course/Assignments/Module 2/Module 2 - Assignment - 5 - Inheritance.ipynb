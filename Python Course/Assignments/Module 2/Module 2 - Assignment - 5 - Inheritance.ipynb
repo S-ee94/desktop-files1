{
 "cells": [
  {
   "cell_type": "code",
   "execution_count": null,
   "id": "f2273d39",
   "metadata": {},
   "outputs": [],
   "source": [
    "# 1) Create a class named parent_Class and inside the class, initialize a global variable num as 10.\n",
    "# a) Create another class named child_Class and this class should be inherited from the parent class.\n",
    "# b) Now create an object for the child_Class and with the help of child_Class object, display the value of ‘num’."
   ]
  },
  {
   "cell_type": "code",
   "execution_count": 9,
   "id": "df358605",
   "metadata": {},
   "outputs": [
    {
     "ename": "AttributeError",
     "evalue": "'child_class' object has no attribute 'child_class'",
     "output_type": "error",
     "traceback": [
      "\u001b[1;31m---------------------------------------------------------------------------\u001b[0m",
      "\u001b[1;31mAttributeError\u001b[0m                            Traceback (most recent call last)",
      "\u001b[1;32m<ipython-input-9-252a0f9a09f5>\u001b[0m in \u001b[0;36m<module>\u001b[1;34m\u001b[0m\n\u001b[0;32m      5\u001b[0m \u001b[1;33m\u001b[0m\u001b[0m\n\u001b[0;32m      6\u001b[0m \u001b[0mobj\u001b[0m\u001b[1;33m=\u001b[0m\u001b[0mchild_class\u001b[0m\u001b[1;33m(\u001b[0m\u001b[1;33m)\u001b[0m\u001b[1;33m\u001b[0m\u001b[1;33m\u001b[0m\u001b[0m\n\u001b[1;32m----> 7\u001b[1;33m \u001b[0mobj\u001b[0m\u001b[1;33m.\u001b[0m\u001b[0mchild_class\u001b[0m\u001b[1;33m(\u001b[0m\u001b[1;33m)\u001b[0m\u001b[1;33m\u001b[0m\u001b[1;33m\u001b[0m\u001b[0m\n\u001b[0m",
      "\u001b[1;31mAttributeError\u001b[0m: 'child_class' object has no attribute 'child_class'"
     ]
    }
   ],
   "source": [
    "class parent_class:\n",
    "    num=10\n",
    "class child_class(parent_class):  \n",
    "    parent_class()\n",
    "\n",
    "obj=child_class()\n",
    "obj.child_class()\n",
    "\n",
    "#Conclusion: The parent class cannot be accessed using child class object directly but can be accessed via functions"
   ]
  },
  {
   "cell_type": "code",
   "execution_count": 10,
   "id": "08e1014d",
   "metadata": {},
   "outputs": [],
   "source": [
    "# 2) Create three class named A, B, and C.\n",
    "# a) Inside the A class, create a constructor. Inside the constructor, initilize 2 global variables name and age.\n",
    "# b) After initializing the global variables inside the constructor, now create a funtion named ‘details’ and that function \n",
    "#should return the ‘name’ variable.\n",
    "# c) Inside the B class, create a constructor. Inside the contructor, initialize 2 global veriables name and id.\n",
    "# d) After initializing the global variables inside the constructor, now create a funtion named ‘details’ and that function \n",
    "#should return the ‘name’ variable.\n",
    "# e) The C class should inherit from class A, and B. Inside the class C, create a constructor, and inside the constructor, \n",
    "#call the contructor of class A.\n",
    "# f) Now, create a method inside the class C, as get_details, and this fucntion should return the value of name.\n",
    "# g) Atlast, create an object of class C, and with the help of the object, call the get_details().\n"
   ]
  },
  {
   "cell_type": "code",
   "execution_count": 31,
   "id": "c2f281ba",
   "metadata": {},
   "outputs": [],
   "source": [
    "class A:\n",
    "    def __init__(self,name,age):\n",
    "        self.name=name\n",
    "        self.age=age\n",
    "    def details(self):\n",
    "        return self.name\n",
    "    \n",
    "class B:\n",
    "    def __init__(self,name,id):\n",
    "        self.name=name\n",
    "        self.id=id\n",
    "    def details(self,name):\n",
    "        return self.name\n",
    "class C(A,B):\n",
    "    def __init__(self,name,age):\n",
    "        A.__init__(self,name,age)\n",
    "    def get_Details(self):\n",
    "        return self.name\n",
    "\n",
    "        "
   ]
  },
  {
   "cell_type": "code",
   "execution_count": 36,
   "id": "e22ca380",
   "metadata": {},
   "outputs": [
    {
     "data": {
      "text/plain": [
       "'Krishna'"
      ]
     },
     "execution_count": 36,
     "metadata": {},
     "output_type": "execute_result"
    }
   ],
   "source": [
    "obj_C=C('Krishna',34)\n",
    "obj_C.get_Details()"
   ]
  },
  {
   "cell_type": "code",
   "execution_count": 33,
   "id": "1d982b35",
   "metadata": {},
   "outputs": [],
   "source": [
    "# 3) Create a class named ‘Sub1’, inside the class, generate a user defined function named ‘first’ # and inside the function, \n",
    "# pass the following statement in the print()- ‘This is the first function from Sub 1 class’.\n",
    "# a) Now create another class named ‘Sub2’, and inside the class, create a function named ‘second’, and pass the following \n",
    "# message in the print()- ‘This is the second function from the Sub 2 class’.\n",
    "# b) After that, create another class named ‘Super’ and inside that class, create a method named ‘final’, and pass the below \n",
    "# message in the print()- ‘This is the final method from the super class’.\n",
    "# c) Now, create an object for the Super class and call all the 3 user defined methods, i.e., first(), second(), and final()."
   ]
  },
  {
   "cell_type": "code",
   "execution_count": 44,
   "id": "f4cd35e8",
   "metadata": {},
   "outputs": [
    {
     "name": "stdout",
     "output_type": "stream",
     "text": [
      "This is the first function from Sub 1 class\n",
      "This is the second function from the Sub 2 class\n",
      "This is the final method from the super class\n"
     ]
    }
   ],
   "source": [
    "class Sub1:\n",
    "    def first(self):\n",
    "        print('This is the first function from Sub 1 class')\n",
    "class Sub2:\n",
    "    def second(self):\n",
    "        print('This is the second function from the Sub 2 class')\n",
    "class Super:\n",
    "    def final(self):\n",
    "        Sub1.first(self)\n",
    "        Sub2.second(self)\n",
    "        print('This is the final method from the super class')\n",
    "        \n",
    "obj_super=Super()\n",
    "obj_super.final()"
   ]
  },
  {
   "cell_type": "code",
   "execution_count": null,
   "id": "b5fef525",
   "metadata": {},
   "outputs": [],
   "source": [
    "# 4) Create a class named ‘Parent’, and inside the class, create a function named ‘fun1’ and pass the following message in the \n",
    "# print()- ‘This is the message from the fun1\n",
    "# a) Now create a class named ‘Child1’ and inside the class, create a method named ‘fun2’ and pass the following message in the \n",
    "# print()- ‘This is the message from the fun2’.\n",
    "# b) After that, create another class named ‘Child2’ and inside the class, create a method named ‘fun3’ and pass the following \n",
    "# message in the print()- ‘This is the message from the fun3’.\n",
    "# c) Now, create an object of Child2 class and with the help of the object, call the ‘fun1’ method from the ‘Parent’ class.\n"
   ]
  },
  {
   "cell_type": "code",
   "execution_count": 47,
   "id": "096a3034",
   "metadata": {},
   "outputs": [],
   "source": [
    "class Parent:\n",
    "    def fun1(self):\n",
    "        print('This is the message from the fun1')\n",
    "class Child1:\n",
    "    def fun2(self):\n",
    "        print('This is the message from the fun2')\n",
    "class Child2:\n",
    "    def fun3(self):\n",
    "        Parent.fun1(self)\n",
    "        print('This is the message from the fun3')"
   ]
  },
  {
   "cell_type": "code",
   "execution_count": 48,
   "id": "917c70d1",
   "metadata": {},
   "outputs": [
    {
     "name": "stdout",
     "output_type": "stream",
     "text": [
      "This is the message from the fun1\n",
      "This is the message from the fun3\n"
     ]
    }
   ],
   "source": [
    "obj_Child2=Child2()\n",
    "obj_Child2.fun3()"
   ]
  },
  {
   "cell_type": "code",
   "execution_count": null,
   "id": "328ad992",
   "metadata": {},
   "outputs": [],
   "source": [
    "# 5) Create a class named ‘Parent’, and inside the class, create a function named ‘fun1’ and pass the following message in the \n",
    "# print()- ‘This is the message from the fun1’.\n",
    "# a) Now create a class named ‘Child’ and inside the class, create a method named ‘fun2’ and pass the following message in the \n",
    "# print()- ‘This is the message from the fun2’.\n",
    "# b) After that, create another class named ‘Hybrid’ and inside the class, create a method named ‘fun3’ and pass the following \n",
    "# message in the print()- ‘This is the message from the fun3’.\n",
    "# c) Now, create an object of Hybrid class and with the help of the object, call the ‘fun1’, ‘fun2’, and ‘fun3’ methods."
   ]
  },
  {
   "cell_type": "code",
   "execution_count": 57,
   "id": "e2c8bc7b",
   "metadata": {},
   "outputs": [],
   "source": [
    "class Parent:\n",
    "    def fun1(self):\n",
    "        print('This is the message from the fun1')\n",
    "class Child:\n",
    "    def fun2(self):\n",
    "        print('This is the message from the fun2')\n",
    "class Hybrid:\n",
    "    def fun3(self):\n",
    "        Parent.fun1(self)\n",
    "        Child.fun2(self)\n",
    "        print('This is the message from the fun3')"
   ]
  },
  {
   "cell_type": "code",
   "execution_count": 58,
   "id": "fbddf1f2",
   "metadata": {},
   "outputs": [
    {
     "name": "stdout",
     "output_type": "stream",
     "text": [
      "This is the message from the fun1\n",
      "This is the message from the fun2\n",
      "This is the message from the fun3\n"
     ]
    }
   ],
   "source": [
    "obj_Hybrid=Hybrid()\n",
    "obj_Hybrid.fun3()"
   ]
  }
 ],
 "metadata": {
  "kernelspec": {
   "display_name": "Python 3",
   "language": "python",
   "name": "python3"
  },
  "language_info": {
   "codemirror_mode": {
    "name": "ipython",
    "version": 3
   },
   "file_extension": ".py",
   "mimetype": "text/x-python",
   "name": "python",
   "nbconvert_exporter": "python",
   "pygments_lexer": "ipython3",
   "version": "3.8.8"
  }
 },
 "nbformat": 4,
 "nbformat_minor": 5
}

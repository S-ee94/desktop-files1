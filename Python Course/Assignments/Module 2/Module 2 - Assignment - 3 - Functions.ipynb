{
 "cells": [
  {
   "cell_type": "code",
   "execution_count": null,
   "id": "3dde518c",
   "metadata": {},
   "outputs": [],
   "source": [
    "# 1) Create a class named ‘Super’ and inside that class define a user-defined function named fun1.\n",
    "# a) Inside the ‘fun1’ function, pass the message “This is function 1 in the Super class.” in the print statement."
   ]
  },
  {
   "cell_type": "code",
   "execution_count": 8,
   "id": "c01c22bf",
   "metadata": {},
   "outputs": [
    {
     "name": "stdout",
     "output_type": "stream",
     "text": [
      "This is function 1 in the Super class\n"
     ]
    }
   ],
   "source": [
    "class Super:\n",
    "    def fun1(self,message):\n",
    "        print(message)\n",
    "obj1=Super()\n",
    "obj1.fun1('This is function 1 in the Super class')"
   ]
  },
  {
   "cell_type": "code",
   "execution_count": null,
   "id": "57c5baa7",
   "metadata": {},
   "outputs": [],
   "source": [
    "# 2) Create another classed named ‘Modified_Super’ and inherit this class from the Super class.\n",
    "# a) Inside the Modified_Super class, create a function named ‘fun1’ and pass the following message inside the print statement:\n",
    "#‘This is function 1 in the Modified Super class.’\n",
    "# b) Create another user-defined function named ‘fun2’ and pass the message: ‘This is the 2nd function from the \n",
    "#Modified Super class’ in the print statement.\n",
    "# c) After that, now create an object for the Modified_Super class and call the fun1()."
   ]
  },
  {
   "cell_type": "code",
   "execution_count": 27,
   "id": "88e0cca5",
   "metadata": {},
   "outputs": [
    {
     "name": "stdout",
     "output_type": "stream",
     "text": [
      "This is function 1 in the Super class\n"
     ]
    }
   ],
   "source": [
    "class Super:\n",
    "    def fun1(self,message):\n",
    "        print(message)\n",
    "class Modified_Super:\n",
    "    def fun1(self):\n",
    "        Super().fun1(self)\n",
    "        print('This is function 1 in the Modified Super class')\n",
    "    def fun2(self):\n",
    "        print('This is the 2nd function from the Modified Super class')\n",
    "obj1=Super()\n",
    "obj1.fun1('This is function 1 in the Super class')\n",
    "\n"
   ]
  },
  {
   "cell_type": "code",
   "execution_count": 28,
   "id": "fa3dac21",
   "metadata": {},
   "outputs": [
    {
     "name": "stdout",
     "output_type": "stream",
     "text": [
      "<__main__.Modified_Super object at 0x000002E4313595B0>\n",
      "This is function 1 in the Modified Super class\n"
     ]
    }
   ],
   "source": [
    "obj2=Modified_Super()\n",
    "obj2.fun1()"
   ]
  },
  {
   "cell_type": "code",
   "execution_count": 29,
   "id": "29cffe89",
   "metadata": {},
   "outputs": [],
   "source": [
    "# 3) Create 2 methods named ‘Hello’. In the 1st Hello method, pass only one argument and pass this message: \n",
    "#‘This function is only having 1 argument’. And in the 2nd Hello method, pass two arguments and pass this message: \n",
    "#‘This function is having 2 arguments’.\n",
    "# a) Try to call both the methods and analyze the output of both the methods\n"
   ]
  },
  {
   "cell_type": "code",
   "execution_count": 30,
   "id": "ae08274d",
   "metadata": {},
   "outputs": [],
   "source": [
    "def Hello(self):\n",
    "     print('This function is only having 1 argument')\n",
    "def Hello(self,message):\n",
    "     print('This function is having 2 arguments')"
   ]
  },
  {
   "cell_type": "code",
   "execution_count": 32,
   "id": "7508bd3b",
   "metadata": {},
   "outputs": [
    {
     "ename": "TypeError",
     "evalue": "Hello() missing 1 required positional argument: 'message'",
     "output_type": "error",
     "traceback": [
      "\u001b[1;31m---------------------------------------------------------------------------\u001b[0m",
      "\u001b[1;31mTypeError\u001b[0m                                 Traceback (most recent call last)",
      "\u001b[1;32m<ipython-input-32-f0bbd61a9954>\u001b[0m in \u001b[0;36m<module>\u001b[1;34m\u001b[0m\n\u001b[1;32m----> 1\u001b[1;33m \u001b[0mHello\u001b[0m\u001b[1;33m(\u001b[0m\u001b[1;36m55\u001b[0m\u001b[1;33m)\u001b[0m\u001b[1;33m\u001b[0m\u001b[1;33m\u001b[0m\u001b[0m\n\u001b[0m",
      "\u001b[1;31mTypeError\u001b[0m: Hello() missing 1 required positional argument: 'message'"
     ]
    }
   ],
   "source": [
    "Hello(55)"
   ]
  },
  {
   "cell_type": "code",
   "execution_count": 34,
   "id": "79659b29",
   "metadata": {},
   "outputs": [
    {
     "name": "stdout",
     "output_type": "stream",
     "text": [
      "This function is having 2 arguments\n"
     ]
    }
   ],
   "source": [
    "Hello(9869698,43)"
   ]
  },
  {
   "cell_type": "code",
   "execution_count": null,
   "id": "3ad6ffb8",
   "metadata": {},
   "outputs": [],
   "source": [
    "# 4) Create a method named ‘Sum’ that can accept multiple user inputs. Now add those userdefined input values using \n",
    "#for loop and the function should return the addition of the numbers.\n"
   ]
  },
  {
   "cell_type": "code",
   "execution_count": 32,
   "id": "91683aaa",
   "metadata": {},
   "outputs": [
    {
     "name": "stdout",
     "output_type": "stream",
     "text": [
      "The sum of all elements is: 16\n"
     ]
    }
   ],
   "source": [
    "def Sum(arr):\n",
    "    arr=[1,2,3,5,4,1]\n",
    "    sum=0\n",
    "    for i in range(0,len(arr)):\n",
    "        sum=sum+arr[i]\n",
    "    print(\"The sum of all elements is: \" +str(sum))\n",
    "Sum(arr)"
   ]
  },
  {
   "cell_type": "code",
   "execution_count": null,
   "id": "722d8245",
   "metadata": {},
   "outputs": [],
   "source": [
    "# 5) Create a class named ‘Encapsulation’:\n",
    "# a) Inside the class, first create a constructor. Inside the constructor, initialize originalValue variable as 10.\n",
    "# b) After creating the constructor, define a function named ‘Value’ and this function should return the variable that \n",
    "#we have initialized in the constructor.\n",
    "# c) Now create 2nd function named setValue, and pass an argument named ‘newValue’. The task of this function will be \n",
    "#to replace the value of the originalValue variable by the value of newValue variable."
   ]
  },
  {
   "cell_type": "code",
   "execution_count": 40,
   "id": "333e30a5",
   "metadata": {},
   "outputs": [],
   "source": [
    "class Encapsulation:\n",
    "    def __init__(self):\n",
    "        a=10\n",
    "        self.a=a\n",
    "    def value(self):\n",
    "        return self.a\n",
    "    def setValue(self,newValue):\n",
    "        self.a=newValue\n",
    "        return self.a"
   ]
  },
  {
   "cell_type": "code",
   "execution_count": 41,
   "id": "b0e1c80f",
   "metadata": {},
   "outputs": [
    {
     "data": {
      "text/plain": [
       "10"
      ]
     },
     "execution_count": 41,
     "metadata": {},
     "output_type": "execute_result"
    }
   ],
   "source": [
    "obj=Encapsulation()\n",
    "obj.value()"
   ]
  },
  {
   "cell_type": "code",
   "execution_count": 42,
   "id": "a21c1137",
   "metadata": {},
   "outputs": [
    {
     "data": {
      "text/plain": [
       "5"
      ]
     },
     "execution_count": 42,
     "metadata": {},
     "output_type": "execute_result"
    }
   ],
   "source": [
    "obj.setValue(5)"
   ]
  },
  {
   "cell_type": "code",
   "execution_count": 43,
   "id": "2fdcc403",
   "metadata": {},
   "outputs": [
    {
     "data": {
      "text/plain": [
       "5"
      ]
     },
     "execution_count": 43,
     "metadata": {},
     "output_type": "execute_result"
    }
   ],
   "source": [
    "obj.value()"
   ]
  }
 ],
 "metadata": {
  "kernelspec": {
   "display_name": "Python 3",
   "language": "python",
   "name": "python3"
  },
  "language_info": {
   "codemirror_mode": {
    "name": "ipython",
    "version": 3
   },
   "file_extension": ".py",
   "mimetype": "text/x-python",
   "name": "python",
   "nbconvert_exporter": "python",
   "pygments_lexer": "ipython3",
   "version": "3.8.8"
  }
 },
 "nbformat": 4,
 "nbformat_minor": 5
}

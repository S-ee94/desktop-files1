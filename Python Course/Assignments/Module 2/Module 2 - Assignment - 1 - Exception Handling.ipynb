{
 "cells": [
  {
   "cell_type": "code",
   "execution_count": 1,
   "id": "076552a8",
   "metadata": {},
   "outputs": [
    {
     "name": "stdout",
     "output_type": "stream",
     "text": [
      "['ArithmeticError', 'AssertionError', 'AttributeError', 'BaseException', 'BlockingIOError', 'BrokenPipeError', 'BufferError', 'BytesWarning', 'ChildProcessError', 'ConnectionAbortedError', 'ConnectionError', 'ConnectionRefusedError', 'ConnectionResetError', 'DeprecationWarning', 'EOFError', 'Ellipsis', 'EnvironmentError', 'Exception', 'False', 'FileExistsError', 'FileNotFoundError', 'FloatingPointError', 'FutureWarning', 'GeneratorExit', 'IOError', 'ImportError', 'ImportWarning', 'IndentationError', 'IndexError', 'InterruptedError', 'IsADirectoryError', 'KeyError', 'KeyboardInterrupt', 'LookupError', 'MemoryError', 'ModuleNotFoundError', 'NameError', 'None', 'NotADirectoryError', 'NotImplemented', 'NotImplementedError', 'OSError', 'OverflowError', 'PendingDeprecationWarning', 'PermissionError', 'ProcessLookupError', 'RecursionError', 'ReferenceError', 'ResourceWarning', 'RuntimeError', 'RuntimeWarning', 'StopAsyncIteration', 'StopIteration', 'SyntaxError', 'SyntaxWarning', 'SystemError', 'SystemExit', 'TabError', 'TimeoutError', 'True', 'TypeError', 'UnboundLocalError', 'UnicodeDecodeError', 'UnicodeEncodeError', 'UnicodeError', 'UnicodeTranslateError', 'UnicodeWarning', 'UserWarning', 'ValueError', 'Warning', 'WindowsError', 'ZeroDivisionError', '__IPYTHON__', '__build_class__', '__debug__', '__doc__', '__import__', '__loader__', '__name__', '__package__', '__spec__', 'abs', 'all', 'any', 'ascii', 'bin', 'bool', 'breakpoint', 'bytearray', 'bytes', 'callable', 'chr', 'classmethod', 'compile', 'complex', 'copyright', 'credits', 'delattr', 'dict', 'dir', 'display', 'divmod', 'enumerate', 'eval', 'exec', 'filter', 'float', 'format', 'frozenset', 'get_ipython', 'getattr', 'globals', 'hasattr', 'hash', 'help', 'hex', 'id', 'input', 'int', 'isinstance', 'issubclass', 'iter', 'len', 'license', 'list', 'locals', 'map', 'max', 'memoryview', 'min', 'next', 'object', 'oct', 'open', 'ord', 'pow', 'print', 'property', 'range', 'repr', 'reversed', 'round', 'set', 'setattr', 'slice', 'sorted', 'staticmethod', 'str', 'sum', 'super', 'tuple', 'type', 'vars', 'zip']\n"
     ]
    }
   ],
   "source": [
    "# 1) With the help of try and inbuilt exceptions, display exception\n",
    "\n",
    "print(dir(locals()['__builtins__']))"
   ]
  },
  {
   "cell_type": "code",
   "execution_count": 5,
   "id": "539ef5aa",
   "metadata": {},
   "outputs": [
    {
     "name": "stdout",
     "output_type": "stream",
     "text": [
      "Enter a number:0\n",
      "Enter a number:1\n",
      "Input is 0 and 1\n",
      "Invalid! <class 'ZeroDivisionError'> occured.\n"
     ]
    }
   ],
   "source": [
    "# 2) Take two user inputs and pass those user inputs into a try block, if the user input is zero then \n",
    "#throw a ZeroDivisionError exception.\n",
    "\n",
    "import sys\n",
    "x = int(input(\"Enter a number:\"))\n",
    "y = int(input(\"Enter a number:\"))  \n",
    "try: \n",
    "    print(\"Input is\",x,\"and\",y)\n",
    "    a = int(y)/int(x)\n",
    "    print('Fractional number is',a)\n",
    "except:\n",
    "    print(\"Invalid!\", sys.exc_info()[0],\"occured.\")\n"
   ]
  },
  {
   "cell_type": "code",
   "execution_count": 6,
   "id": "2048568f",
   "metadata": {},
   "outputs": [
    {
     "name": "stdout",
     "output_type": "stream",
     "text": [
      "Overflow excepted!\n"
     ]
    }
   ],
   "source": [
    "# 3) import math package with the help of math package, print - math.exp(50000).\n",
    "#Now use the inbuilt overflow exception on the math.exp() and print exception\n",
    "\n",
    "import math as mt\n",
    "try:\n",
    "  print(mt.exp(50000))\n",
    "except OverflowError as oe:\n",
    "  print(\"Overflow excepted!\")"
   ]
  },
  {
   "cell_type": "code",
   "execution_count": 8,
   "id": "1b625aec",
   "metadata": {},
   "outputs": [],
   "source": [
    "# 4) Install the termcolor package in the anaconda prompt, and import that package to provide the colors to \n",
    "#the print statement in Jupyter Notebook.\n",
    "import termcolor as tc\n",
    "print(tc.colored(\"Hello, World!\",'red','on_green'))\n"
   ]
  },
  {
   "cell_type": "code",
   "execution_count": 10,
   "id": "f30792b3",
   "metadata": {},
   "outputs": [
    {
     "name": "stdout",
     "output_type": "stream",
     "text": [
      "('E', 'r', 'r', 'o', 'r')\n"
     ]
    }
   ],
   "source": [
    "# 5) Create your own exceptions with the help of class and functions\n",
    "class Networkerror(RuntimeError):\n",
    "  def __init__(self,arg):\n",
    "    self.args = arg\n",
    "try:\n",
    "  raise Networkerror(\"Error\")\n",
    "except Networkerror as e:\n",
    "  print(e.args)\n"
   ]
  }
 ],
 "metadata": {
  "kernelspec": {
   "display_name": "Python 3",
   "language": "python",
   "name": "python3"
  },
  "language_info": {
   "codemirror_mode": {
    "name": "ipython",
    "version": 3
   },
   "file_extension": ".py",
   "mimetype": "text/x-python",
   "name": "python",
   "nbconvert_exporter": "python",
   "pygments_lexer": "ipython3",
   "version": "3.8.8"
  }
 },
 "nbformat": 4,
 "nbformat_minor": 5
}

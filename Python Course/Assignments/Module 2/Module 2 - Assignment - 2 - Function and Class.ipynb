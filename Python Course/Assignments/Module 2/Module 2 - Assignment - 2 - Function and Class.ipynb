{
 "cells": [
  {
   "cell_type": "code",
   "execution_count": null,
   "id": "8e0c0c95",
   "metadata": {},
   "outputs": [],
   "source": [
    "# 1) Create a function named ‘factor’ that can only accepts 1 argument. The function should return the factorial of \n",
    "#that number.  "
   ]
  },
  {
   "cell_type": "code",
   "execution_count": 7,
   "id": "3e275bb8",
   "metadata": {},
   "outputs": [
    {
     "name": "stdout",
     "output_type": "stream",
     "text": [
      "Enter the number:5\n",
      "Factorial of 5 is 120\n"
     ]
    }
   ],
   "source": [
    "def factor(n):\n",
    "    if n==1 or n==0:\n",
    "        return 1\n",
    "    else:\n",
    "        return n*factor(n-1)\n",
    "num=int(input(\"Enter the number:\" ))\n",
    "print(\"Factorial of\",num,\"is\",factor(num))"
   ]
  },
  {
   "cell_type": "code",
   "execution_count": null,
   "id": "beba3064",
   "metadata": {},
   "outputs": [],
   "source": [
    "# 2) Create a function named ‘check_string’, the function should accept a string data from the\n",
    "#user and the function should check if the user input contains the letter ‘s’ in it. If it contains\n",
    "#the letter ‘s’ then print- ‘The string is containing the letter ‘s’’, if not then print- ‘The string\n",
    "#doesn’t contain the letter ‘s’’."
   ]
  },
  {
   "cell_type": "code",
   "execution_count": 22,
   "id": "def222bf",
   "metadata": {},
   "outputs": [
    {
     "name": "stdout",
     "output_type": "stream",
     "text": [
      "Enter the string: rfgdfgs\n",
      "The string is containing the letter s\n"
     ]
    }
   ],
   "source": [
    "string=input(\"Enter the string: \")\n",
    "sub_str='s'\n",
    "check_string(string,sub_str)\n",
    "def check_string(string,sub_str):\n",
    "        if string.find(sub_str)==-1:\n",
    "            print(\"The string doesn't contain the letter s\")\n",
    "        else:\n",
    "            print(\"The string is containing the letter s\")"
   ]
  },
  {
   "cell_type": "code",
   "execution_count": 103,
   "id": "7d19edc4",
   "metadata": {},
   "outputs": [
    {
     "name": "stdout",
     "output_type": "stream",
     "text": [
      "Enter the string: hgg\n",
      "The string does not contain the letter s\n"
     ]
    }
   ],
   "source": [
    "#or \n",
    "string=input(\"Enter the string: \")\n",
    "sub_str='s'\n",
    "def check_string(string,sub_str):\n",
    "        if sub_str in string:\n",
    "            print(\"The string contains the letter s\")\n",
    "        else:\n",
    "            print(\"The string does not contain the letter s\")\n",
    "check_string(string,sub_str)"
   ]
  },
  {
   "cell_type": "code",
   "execution_count": null,
   "id": "8bfa4758",
   "metadata": {},
   "outputs": [],
   "source": [
    "# 3) Create a class named ‘student’ and inside the class, create a function named ‘fun1’- this\n",
    "#method should accepts the user defined input and return that value.\n",
    "\n",
    "# a) Create another method named- message() and that method should print the user\n",
    "#defined input that we have defined in ‘fun1’."
   ]
  },
  {
   "cell_type": "code",
   "execution_count": 1,
   "id": "72f7e11a",
   "metadata": {},
   "outputs": [
    {
     "name": "stdout",
     "output_type": "stream",
     "text": [
      "hey! how are you doing\n"
     ]
    }
   ],
   "source": [
    "class student:\n",
    "    def __init__(self,string):\n",
    "        self.string = string\n",
    "\n",
    "    def fun1(self):\n",
    "        return self.string\n",
    "    \n",
    "    def message(self):\n",
    "        value = self.fun1()\n",
    "        print(value)\n",
    "\n",
    "obj = student('hey! how are you doing')\n",
    "obj.message()\n"
   ]
  },
  {
   "cell_type": "code",
   "execution_count": null,
   "id": "1ca10752",
   "metadata": {},
   "outputs": [],
   "source": [
    "# 4) Create a lambda function that should double or multiply the number (that we will be passing\n",
    "#in the lambda function) by 2. Store the lambda function in a variable named ‘double_num’"
   ]
  },
  {
   "cell_type": "code",
   "execution_count": 67,
   "id": "7c4aa413",
   "metadata": {},
   "outputs": [
    {
     "data": {
      "text/plain": [
       "16"
      ]
     },
     "execution_count": 67,
     "metadata": {},
     "output_type": "execute_result"
    }
   ],
   "source": [
    "double_num=lambda n:n*2\n",
    "double_num(8)"
   ]
  },
  {
   "cell_type": "code",
   "execution_count": null,
   "id": "f59cbb41",
   "metadata": {},
   "outputs": [],
   "source": [
    "# 5) Take user input string and check whether that string is palindrome or not."
   ]
  },
  {
   "cell_type": "code",
   "execution_count": 98,
   "id": "7fbf5307",
   "metadata": {},
   "outputs": [
    {
     "name": "stdout",
     "output_type": "stream",
     "text": [
      "The given string is a Palindrome\n"
     ]
    }
   ],
   "source": [
    "def isPalindrome(s):\n",
    "    return s == s[::-1]\n",
    "\n",
    "s=\"malayalam\"\n",
    "ans=isPalindrome(s)\n",
    "\n",
    "if ans:\n",
    "    print(\"The given string is a Palindrome\")\n",
    "else:\n",
    "    print(\"The given string is not a Palindrome\")"
   ]
  }
 ],
 "metadata": {
  "kernelspec": {
   "display_name": "Python 3",
   "language": "python",
   "name": "python3"
  },
  "language_info": {
   "codemirror_mode": {
    "name": "ipython",
    "version": 3
   },
   "file_extension": ".py",
   "mimetype": "text/x-python",
   "name": "python",
   "nbconvert_exporter": "python",
   "pygments_lexer": "ipython3",
   "version": "3.8.8"
  }
 },
 "nbformat": 4,
 "nbformat_minor": 5
}

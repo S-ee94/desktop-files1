{
 "cells": [
  {
   "cell_type": "code",
   "execution_count": null,
   "id": "f2debe98",
   "metadata": {},
   "outputs": [],
   "source": [
    "# 1) Create a 3x3 matrix array with values ranging from 2 to 10"
   ]
  },
  {
   "cell_type": "code",
   "execution_count": 13,
   "id": "dc5a11fd",
   "metadata": {},
   "outputs": [
    {
     "name": "stdout",
     "output_type": "stream",
     "text": [
      "[[ 2  3  4]\n",
      " [ 5  6  7]\n",
      " [ 8  9 10]]\n"
     ]
    }
   ],
   "source": [
    "#Simple way\n",
    "import numpy as np\n",
    "arr1 = np.array([2,3,4,5,6,7,8,9,10]).reshape(3,3)\n",
    "print(arr1)"
   ]
  },
  {
   "cell_type": "code",
   "execution_count": 11,
   "id": "aedb66f2",
   "metadata": {},
   "outputs": [
    {
     "name": "stdout",
     "output_type": "stream",
     "text": [
      "[[ 2  3  4]\n",
      " [ 5  6  7]\n",
      " [ 8  9 10]]\n"
     ]
    }
   ],
   "source": [
    "# or using arange function\n",
    "import numpy as np\n",
    "arr = np.arange(2,11).reshape(3,3)\n",
    "print(arr)"
   ]
  },
  {
   "cell_type": "code",
   "execution_count": null,
   "id": "f2cd8ed2",
   "metadata": {},
   "outputs": [],
   "source": [
    "# 2) Create a numpy array having user input values and convert the integer type to the float type of the elements of the array.\n",
    "# For instance:\n",
    "#     Original array :  [1, 2, 3, 4]\n",
    "#    Array converted to a float type:  [1. 2. 3. 4.]"
   ]
  },
  {
   "cell_type": "code",
   "execution_count": 28,
   "id": "2d241180",
   "metadata": {},
   "outputs": [
    {
     "name": "stdout",
     "output_type": "stream",
     "text": [
      "1 2 3 4\n"
     ]
    }
   ],
   "source": [
    "# using user input list\n",
    "import numpy as np\n",
    "Original_array = list(map(int,input().split()))\n",
    "float_array = np.asarray(Original_array)"
   ]
  },
  {
   "cell_type": "code",
   "execution_count": 33,
   "id": "7c85dc9d",
   "metadata": {},
   "outputs": [
    {
     "name": "stdout",
     "output_type": "stream",
     "text": [
      "[1. 2. 3. 4.]\n"
     ]
    }
   ],
   "source": [
    "float_array = float_array.astype('float64') # or can use float_array = np.array(float_array,dtype='float64')\n",
    "print(float_array)"
   ]
  },
  {
   "cell_type": "code",
   "execution_count": 23,
   "id": "56377595",
   "metadata": {},
   "outputs": [
    {
     "name": "stdout",
     "output_type": "stream",
     "text": [
      "[1. 2. 3. 4.]\n"
     ]
    }
   ],
   "source": [
    "# or without using user input list\n",
    "import numpy as np\n",
    "Original_array = np.array([1,2,3,4])\n",
    "float_array = Original_array.astype(float)\n",
    "print(float_array)"
   ]
  },
  {
   "cell_type": "code",
   "execution_count": null,
   "id": "2669a1c8",
   "metadata": {},
   "outputs": [],
   "source": [
    "# 3) Write a Numpy program to append values to the end of an array. For instance:\n",
    "# Original array: [10, 20, 30]\n",
    "# After append values to the end of the array:  [10 20 30 40 50 60 70 80 90]"
   ]
  },
  {
   "cell_type": "code",
   "execution_count": 14,
   "id": "0fdd72b7",
   "metadata": {},
   "outputs": [
    {
     "name": "stdout",
     "output_type": "stream",
     "text": [
      "[10 20 30 40 50 60 70 80 90]\n"
     ]
    }
   ],
   "source": [
    "import numpy as np\n",
    "Original_Array = np.array([10,20,30])\n",
    "Appended_Array = np.append(Original_Array,[40,50,60,70,80,90])\n",
    "print(Appended_Array)"
   ]
  },
  {
   "cell_type": "code",
   "execution_count": 36,
   "id": "b2faf1aa",
   "metadata": {},
   "outputs": [
    {
     "name": "stdout",
     "output_type": "stream",
     "text": [
      "[5 7 9]\n"
     ]
    }
   ],
   "source": [
    "# 4) Create two numpy arrays and add the elements of both the arrays and store the result in sumArray.\n",
    "import numpy as np\n",
    "arr1 = np.array([1,2,3])\n",
    "arr2 = np.array([4,5,6])\n",
    "sumArray = np.add(arr1,arr2) # or can also use - sumArray = arr1 + arr2  \n",
    "print(sumArray)"
   ]
  },
  {
   "cell_type": "code",
   "execution_count": null,
   "id": "ff89c421",
   "metadata": {},
   "outputs": [],
   "source": [
    "# 5) Create a 3*3 array having values from 10-90(interval of 10) and store that in array1. Perform the following tasks:\n",
    "# a) Extract the 1st row from the array.\n",
    "# b) Extract the last element from the array."
   ]
  },
  {
   "cell_type": "code",
   "execution_count": 39,
   "id": "9e5c55e7",
   "metadata": {},
   "outputs": [
    {
     "data": {
      "text/plain": [
       "array([[10, 20, 30],\n",
       "       [40, 50, 60],\n",
       "       [70, 80, 90]])"
      ]
     },
     "execution_count": 39,
     "metadata": {},
     "output_type": "execute_result"
    }
   ],
   "source": [
    "import numpy as np\n",
    "array1 = np.arange(10,91,10).reshape(3,3)\n",
    "array1"
   ]
  },
  {
   "cell_type": "code",
   "execution_count": 40,
   "id": "182b7d64",
   "metadata": {},
   "outputs": [
    {
     "name": "stdout",
     "output_type": "stream",
     "text": [
      "[10 20 30]\n"
     ]
    }
   ],
   "source": [
    "print(array1[0])"
   ]
  },
  {
   "cell_type": "code",
   "execution_count": 42,
   "id": "0387d51d",
   "metadata": {},
   "outputs": [
    {
     "name": "stdout",
     "output_type": "stream",
     "text": [
      "[[90]]\n"
     ]
    }
   ],
   "source": [
    "print(array1[2:,2:])"
   ]
  }
 ],
 "metadata": {
  "kernelspec": {
   "display_name": "Python 3",
   "language": "python",
   "name": "python3"
  },
  "language_info": {
   "codemirror_mode": {
    "name": "ipython",
    "version": 3
   },
   "file_extension": ".py",
   "mimetype": "text/x-python",
   "name": "python",
   "nbconvert_exporter": "python",
   "pygments_lexer": "ipython3",
   "version": "3.8.8"
  }
 },
 "nbformat": 4,
 "nbformat_minor": 5
}

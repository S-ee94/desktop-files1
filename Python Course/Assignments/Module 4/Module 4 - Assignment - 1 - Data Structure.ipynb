{
 "cells": [
  {
   "cell_type": "code",
   "execution_count": null,
   "id": "2c220dd6",
   "metadata": {},
   "outputs": [],
   "source": [
    "# 1) Create a list named ‘myList’ that is having the following elements: 10,20,30,’apple’, True,8.10\n",
    "# a) a. Now in the ‘myList’, append these values: 30,40 \n",
    "# b) After that reverse the elements of the ‘myList’ and store that in ‘reversedList’"
   ]
  },
  {
   "cell_type": "code",
   "execution_count": 36,
   "id": "898ea426",
   "metadata": {},
   "outputs": [
    {
     "data": {
      "text/plain": [
       "[10, 20, 30, 'apple', True, 8.1]"
      ]
     },
     "execution_count": 36,
     "metadata": {},
     "output_type": "execute_result"
    }
   ],
   "source": [
    "myList = [10,20,30,'apple',True,8.10]\n",
    "myList"
   ]
  },
  {
   "cell_type": "code",
   "execution_count": 38,
   "id": "a8cdd4cd",
   "metadata": {},
   "outputs": [
    {
     "data": {
      "text/plain": [
       "[10, 20, 30, 'apple', True, 8.1, 30, 40]"
      ]
     },
     "execution_count": 38,
     "metadata": {},
     "output_type": "execute_result"
    }
   ],
   "source": [
    "myList.append(30)\n",
    "myList.append(40)\n",
    "myList"
   ]
  },
  {
   "cell_type": "code",
   "execution_count": 39,
   "id": "25bc4423",
   "metadata": {},
   "outputs": [
    {
     "data": {
      "text/plain": [
       "[40, 30, 8.1, True, 'apple', 30, 20, 10]"
      ]
     },
     "execution_count": 39,
     "metadata": {},
     "output_type": "execute_result"
    }
   ],
   "source": [
    "reversedList = myList[::-1]\n",
    "reversedList"
   ]
  },
  {
   "cell_type": "code",
   "execution_count": null,
   "id": "317343bb",
   "metadata": {},
   "outputs": [],
   "source": [
    "# 2) Create a dictonary with key values as 1,2,3 and the values as ‘data’,’information’, and ‘text’.\n",
    "# a) After that eliminate the ‘text’ value from the dictonary.\n",
    "# b) Add ‘features’ in the dictonary.\n",
    "# c) Fetch the ‘data’ element from the dictonary and display it in the output."
   ]
  },
  {
   "cell_type": "code",
   "execution_count": 16,
   "id": "f8d253bf",
   "metadata": {},
   "outputs": [
    {
     "data": {
      "text/plain": [
       "{'data': 1, 'information': 2, 'text': 3}"
      ]
     },
     "execution_count": 16,
     "metadata": {},
     "output_type": "execute_result"
    }
   ],
   "source": [
    "dict1 = { 'data':1 , 'information':2, 'text' : 3}\n",
    "dict1"
   ]
  },
  {
   "cell_type": "code",
   "execution_count": 17,
   "id": "782282d8",
   "metadata": {},
   "outputs": [],
   "source": [
    "del dict1[\"text\"]"
   ]
  },
  {
   "cell_type": "code",
   "execution_count": 18,
   "id": "450d320d",
   "metadata": {},
   "outputs": [
    {
     "data": {
      "text/plain": [
       "{'data': 1, 'information': 2}"
      ]
     },
     "execution_count": 18,
     "metadata": {},
     "output_type": "execute_result"
    }
   ],
   "source": [
    "dict1"
   ]
  },
  {
   "cell_type": "code",
   "execution_count": 21,
   "id": "66dbe5eb",
   "metadata": {},
   "outputs": [],
   "source": [
    "dict1['features']=3"
   ]
  },
  {
   "cell_type": "code",
   "execution_count": 22,
   "id": "da17d272",
   "metadata": {},
   "outputs": [
    {
     "data": {
      "text/plain": [
       "{'data': 1, 'information': 2, 'features': 3}"
      ]
     },
     "execution_count": 22,
     "metadata": {},
     "output_type": "execute_result"
    }
   ],
   "source": [
    "dict1"
   ]
  },
  {
   "cell_type": "code",
   "execution_count": 25,
   "id": "c67811a0",
   "metadata": {},
   "outputs": [
    {
     "data": {
      "text/plain": [
       "1"
      ]
     },
     "execution_count": 25,
     "metadata": {},
     "output_type": "execute_result"
    }
   ],
   "source": [
    "dict1.get('data')"
   ]
  },
  {
   "cell_type": "code",
   "execution_count": null,
   "id": "ebaa88c9",
   "metadata": {},
   "outputs": [],
   "source": [
    "# 3) Create a tuple and add these elements 1,2,3,apple,mango in ‘my_tuple"
   ]
  },
  {
   "cell_type": "code",
   "execution_count": 37,
   "id": "3844978b",
   "metadata": {},
   "outputs": [
    {
     "data": {
      "text/plain": [
       "(1, 2, 3, 'apple', 'mango')"
      ]
     },
     "execution_count": 37,
     "metadata": {},
     "output_type": "execute_result"
    }
   ],
   "source": [
    "my_tuple = tuple([1,2,3,'apple','mango'])\n",
    "my_tuple"
   ]
  },
  {
   "cell_type": "code",
   "execution_count": null,
   "id": "d45f3f88",
   "metadata": {},
   "outputs": [],
   "source": [
    "# 4) Create another tuple named numeric_tuple consisting of only integer values 10,20,30,40,50\n",
    "# a) Find the minimum value from the numeric_tuple.\n",
    "# b) Concatenate my_tuple with numeric_tuple and store the result in r1.\n",
    "# c) Duplicate the tuple named my_tuple 2 times and store that in ‘newdupli"
   ]
  },
  {
   "cell_type": "code",
   "execution_count": 38,
   "id": "e21528e6",
   "metadata": {},
   "outputs": [
    {
     "data": {
      "text/plain": [
       "(10, 20, 30, 40, 50)"
      ]
     },
     "execution_count": 38,
     "metadata": {},
     "output_type": "execute_result"
    }
   ],
   "source": [
    "numeric_tuple = tuple([10,20,30,40,50])\n",
    "numeric_tuple"
   ]
  },
  {
   "cell_type": "code",
   "execution_count": 33,
   "id": "db653848",
   "metadata": {},
   "outputs": [
    {
     "data": {
      "text/plain": [
       "10"
      ]
     },
     "execution_count": 33,
     "metadata": {},
     "output_type": "execute_result"
    }
   ],
   "source": [
    "min(numeric_tuple)"
   ]
  },
  {
   "cell_type": "code",
   "execution_count": 41,
   "id": "adef6418",
   "metadata": {},
   "outputs": [
    {
     "data": {
      "text/plain": [
       "(1, 2, 3, 'apple', 'mango', 10, 20, 30, 40, 50)"
      ]
     },
     "execution_count": 41,
     "metadata": {},
     "output_type": "execute_result"
    }
   ],
   "source": [
    "r1 = my_tuple + numeric_tuple\n",
    "r1"
   ]
  },
  {
   "cell_type": "code",
   "execution_count": 42,
   "id": "a398eb80",
   "metadata": {},
   "outputs": [],
   "source": [
    "newdupli = my_tuple * 2"
   ]
  },
  {
   "cell_type": "code",
   "execution_count": 43,
   "id": "8b8ca52d",
   "metadata": {},
   "outputs": [
    {
     "data": {
      "text/plain": [
       "(1, 2, 3, 'apple', 'mango', 1, 2, 3, 'apple', 'mango')"
      ]
     },
     "execution_count": 43,
     "metadata": {},
     "output_type": "execute_result"
    }
   ],
   "source": [
    "newdupli"
   ]
  },
  {
   "cell_type": "code",
   "execution_count": null,
   "id": "853168da",
   "metadata": {},
   "outputs": [],
   "source": [
    "# 5) Create 2 sets with name set1 and set2, where set1 contains{1,2,3,4,5} and set2 to contains{2,3,7,6,1}\n",
    "# a) Perform the below operation:\n",
    "\n",
    "# a) set1 union set2\n",
    "# b) set1 intersection set2 \n",
    "# c) set1 difference set2"
   ]
  },
  {
   "cell_type": "code",
   "execution_count": 1,
   "id": "648b472a",
   "metadata": {},
   "outputs": [],
   "source": [
    "set1 = {1,2,3,4,5}"
   ]
  },
  {
   "cell_type": "code",
   "execution_count": 3,
   "id": "0a165b8a",
   "metadata": {},
   "outputs": [
    {
     "data": {
      "text/plain": [
       "{1, 2, 3, 4, 5}"
      ]
     },
     "execution_count": 3,
     "metadata": {},
     "output_type": "execute_result"
    }
   ],
   "source": [
    "set1"
   ]
  },
  {
   "cell_type": "code",
   "execution_count": 6,
   "id": "f7d411f8",
   "metadata": {},
   "outputs": [],
   "source": [
    "set2 = {2,3,7,6,1}"
   ]
  },
  {
   "cell_type": "code",
   "execution_count": 7,
   "id": "7a60022b",
   "metadata": {},
   "outputs": [
    {
     "data": {
      "text/plain": [
       "{1, 2, 3, 6, 7}"
      ]
     },
     "execution_count": 7,
     "metadata": {},
     "output_type": "execute_result"
    }
   ],
   "source": [
    "set2"
   ]
  },
  {
   "cell_type": "code",
   "execution_count": 8,
   "id": "74e7ce7c",
   "metadata": {},
   "outputs": [
    {
     "data": {
      "text/plain": [
       "{1, 2, 3, 4, 5, 6, 7}"
      ]
     },
     "execution_count": 8,
     "metadata": {},
     "output_type": "execute_result"
    }
   ],
   "source": [
    "set1.union(set2)"
   ]
  },
  {
   "cell_type": "code",
   "execution_count": 9,
   "id": "e4cdce05",
   "metadata": {},
   "outputs": [
    {
     "data": {
      "text/plain": [
       "{1, 2, 3}"
      ]
     },
     "execution_count": 9,
     "metadata": {},
     "output_type": "execute_result"
    }
   ],
   "source": [
    "set1.intersection(set2)"
   ]
  },
  {
   "cell_type": "code",
   "execution_count": 10,
   "id": "99ca8f74",
   "metadata": {},
   "outputs": [
    {
     "data": {
      "text/plain": [
       "{4, 5}"
      ]
     },
     "execution_count": 10,
     "metadata": {},
     "output_type": "execute_result"
    }
   ],
   "source": [
    "set1.difference(set2)"
   ]
  }
 ],
 "metadata": {
  "kernelspec": {
   "display_name": "Python 3",
   "language": "python",
   "name": "python3"
  },
  "language_info": {
   "codemirror_mode": {
    "name": "ipython",
    "version": 3
   },
   "file_extension": ".py",
   "mimetype": "text/x-python",
   "name": "python",
   "nbconvert_exporter": "python",
   "pygments_lexer": "ipython3",
   "version": "3.8.8"
  }
 },
 "nbformat": 4,
 "nbformat_minor": 5
}

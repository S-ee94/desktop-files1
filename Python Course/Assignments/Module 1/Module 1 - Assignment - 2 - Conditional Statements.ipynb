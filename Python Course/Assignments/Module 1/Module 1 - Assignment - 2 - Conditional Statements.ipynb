{
 "cells": [
  {
   "cell_type": "code",
   "execution_count": 3,
   "id": "c42873f8",
   "metadata": {},
   "outputs": [
    {
     "name": "stdout",
     "output_type": "stream",
     "text": [
      "Enter the first number: 10\n",
      "Enter the second number: 20\n",
      "Enter the third number: 30\n",
      "The greatest number is:30\n"
     ]
    }
   ],
   "source": [
    "#Take three user inputs and print the greatest number from those inputs using if-else conditions.\n",
    "\n",
    "user_input1=int(input(\"Enter the first number:\" + \" \"))\n",
    "user_input2=int(input(\"Enter the second number:\"+ \" \"))\n",
    "user_input3=int(input(\"Enter the third number:\"+ \" \"))\n",
    "\n",
    "if user_input1>user_input2:\n",
    "    if user_input1>user_input3:\n",
    "        print(\"The greatest number is:\" +str(user_input1))\n",
    "    else:\n",
    "        print(\"The greatest number is:\" +str(user_input3))\n",
    "else:\n",
    "    if user_input2>user_input3:\n",
    "        print(\"The greatest number is:\" +str(user_input2))\n",
    "    else:\n",
    "        print(\"The greatest number is:\" +str(user_input3))"
   ]
  },
  {
   "cell_type": "code",
   "execution_count": null,
   "id": "2bd5fe9a",
   "metadata": {},
   "outputs": [],
   "source": [
    "# or another method by directly using function and directly giving the values\n",
    "\n",
    "a=10\n",
    "b=20\n",
    "c=30\n",
    "\n",
    "findgreater(a,b,c)\n",
    "\n",
    "def findgreater(a,b,c):\n",
    "    if a>b and b>c:\n",
    "        print(\"a is the largest\")\n",
    "    elif b>c and c>a:\n",
    "        print(\"b is the largest\")\n",
    "    elif a==b and b==c:\n",
    "        print(\"all are equal\")\n",
    "    else:\n",
    "        print(\"c is the largest\")     \n",
    "\n"
   ]
  }
 ],
 "metadata": {
  "kernelspec": {
   "display_name": "Python 3",
   "language": "python",
   "name": "python3"
  },
  "language_info": {
   "codemirror_mode": {
    "name": "ipython",
    "version": 3
   },
   "file_extension": ".py",
   "mimetype": "text/x-python",
   "name": "python",
   "nbconvert_exporter": "python",
   "pygments_lexer": "ipython3",
   "version": "3.8.8"
  }
 },
 "nbformat": 4,
 "nbformat_minor": 5
}

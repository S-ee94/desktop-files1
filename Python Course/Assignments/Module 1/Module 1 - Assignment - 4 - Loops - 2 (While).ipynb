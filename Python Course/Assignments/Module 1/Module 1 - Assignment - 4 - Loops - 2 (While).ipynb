{
 "cells": [
  {
   "cell_type": "code",
   "execution_count": 1,
   "id": "8101e2b6",
   "metadata": {},
   "outputs": [
    {
     "name": "stdout",
     "output_type": "stream",
     "text": [
      "10 4 26 4 24 54 "
     ]
    }
   ],
   "source": [
    "#Create a list that is having 10,23,4,26,4,75,24,54 values and with the help of while loop, fetch the even numbers and print the\n",
    "#even numbers.\n",
    "\n",
    "my_list=[10,23,4,26,4,75,24,54]\n",
    "i=0\n",
    "while  i < len(my_list):\n",
    "      if my_list[i] % 2 == 0:\n",
    "            print(my_list[i], end= ' ')\n",
    "      i += 1"
   ]
  },
  {
   "cell_type": "code",
   "execution_count": null,
   "id": "0be75a9f",
   "metadata": {},
   "outputs": [],
   "source": []
  }
 ],
 "metadata": {
  "kernelspec": {
   "display_name": "Python 3",
   "language": "python",
   "name": "python3"
  },
  "language_info": {
   "codemirror_mode": {
    "name": "ipython",
    "version": 3
   },
   "file_extension": ".py",
   "mimetype": "text/x-python",
   "name": "python",
   "nbconvert_exporter": "python",
   "pygments_lexer": "ipython3",
   "version": "3.8.8"
  }
 },
 "nbformat": 4,
 "nbformat_minor": 5
}

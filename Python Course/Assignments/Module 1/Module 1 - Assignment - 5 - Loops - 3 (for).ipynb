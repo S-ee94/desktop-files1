{
 "cells": [
  {
   "cell_type": "code",
   "execution_count": null,
   "id": "af69de86",
   "metadata": {},
   "outputs": [],
   "source": [
    "#Create an array that is having user defined inputs and with the help of for loop, fetch all the prime\n",
    "#numbers and print the numbers"
   ]
  },
  {
   "cell_type": "code",
   "execution_count": 22,
   "id": "38200cb5",
   "metadata": {},
   "outputs": [
    {
     "name": "stdout",
     "output_type": "stream",
     "text": [
      "Enter the lower range: 10\n",
      "Enter the upper range: 20\n",
      "11 Is a Prime number\n",
      "13 Is a Prime number\n",
      "17 Is a Prime number\n",
      "19 Is a Prime number\n"
     ]
    }
   ],
   "source": [
    "lower= int(input(\"Enter the lower range: \"))\n",
    "upper= int(input(\"Enter the upper range: \"))\n",
    "\n",
    "for num in range(lower,upper+1):\n",
    "    if num>1:\n",
    "        for i in range(2,num):\n",
    "            if num % i == 0:\n",
    "                break\n",
    "        else:\n",
    "            print(num, \"Is a Prime number\")\n",
    "                "
   ]
  },
  {
   "cell_type": "code",
   "execution_count": 5,
   "id": "5dbfffa1",
   "metadata": {},
   "outputs": [
    {
     "name": "stdout",
     "output_type": "stream",
     "text": [
      "enter your values separated by space : 12 13 20 41 55 67 81\n"
     ]
    }
   ],
   "source": [
    "# or trainer method \n",
    "\n",
    "inp3 = list(map(int, input(\"enter your values separated by space : \").split()))"
   ]
  },
  {
   "cell_type": "code",
   "execution_count": 6,
   "id": "e29b5c68",
   "metadata": {},
   "outputs": [
    {
     "data": {
      "text/plain": [
       "[12, 13, 20, 41, 55, 67, 81]"
      ]
     },
     "execution_count": 6,
     "metadata": {},
     "output_type": "execute_result"
    }
   ],
   "source": [
    "inp3"
   ]
  },
  {
   "cell_type": "code",
   "execution_count": 11,
   "id": "3eb38e16",
   "metadata": {},
   "outputs": [],
   "source": [
    "def primenumber(x):\n",
    "    flag = True\n",
    "    for i in range(2,x//2):\n",
    "        if x % i == 0:\n",
    "            flag = False\n",
    "            break\n",
    "            \n",
    "    if flag == True:           \n",
    "            print(x, \"Is a Prime Number\")\n",
    "            "
   ]
  },
  {
   "cell_type": "code",
   "execution_count": 12,
   "id": "c83f8cc9",
   "metadata": {},
   "outputs": [
    {
     "name": "stdout",
     "output_type": "stream",
     "text": [
      "13 Is a Prime Number\n",
      "41 Is a Prime Number\n",
      "67 Is a Prime Number\n"
     ]
    }
   ],
   "source": [
    "for i in inp3:\n",
    "    primenumber(i)"
   ]
  }
 ],
 "metadata": {
  "kernelspec": {
   "display_name": "Python 3",
   "language": "python",
   "name": "python3"
  },
  "language_info": {
   "codemirror_mode": {
    "name": "ipython",
    "version": 3
   },
   "file_extension": ".py",
   "mimetype": "text/x-python",
   "name": "python",
   "nbconvert_exporter": "python",
   "pygments_lexer": "ipython3",
   "version": "3.8.8"
  }
 },
 "nbformat": 4,
 "nbformat_minor": 5
}
